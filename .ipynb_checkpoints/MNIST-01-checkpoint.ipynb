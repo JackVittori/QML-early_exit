{
 "cells": [
  {
   "cell_type": "code",
   "execution_count": 4,
   "metadata": {
    "ExecuteTime": {
     "end_time": "2024-03-02T14:38:49.625070Z",
     "start_time": "2024-03-02T14:38:49.605031Z"
    }
   },
   "outputs": [
    {
     "name": "stdout",
     "output_type": "stream",
     "text": [
      "Requirement already satisfied: pennylane in /Users/giacomo/opt/anaconda3/lib/python3.9/site-packages (0.34.0)\n",
      "Requirement already satisfied: pennylane-lightning>=0.34 in /Users/giacomo/opt/anaconda3/lib/python3.9/site-packages (from pennylane) (0.34.0)\n",
      "Requirement already satisfied: networkx in /Users/giacomo/opt/anaconda3/lib/python3.9/site-packages (from pennylane) (2.7.1)\n",
      "Requirement already satisfied: autoray>=0.6.1 in /Users/giacomo/opt/anaconda3/lib/python3.9/site-packages (from pennylane) (0.6.8)\n",
      "Requirement already satisfied: toml in /Users/giacomo/opt/anaconda3/lib/python3.9/site-packages (from pennylane) (0.10.2)\n",
      "Requirement already satisfied: requests in /Users/giacomo/opt/anaconda3/lib/python3.9/site-packages (from pennylane) (2.27.1)\n",
      "Requirement already satisfied: cachetools in /Users/giacomo/opt/anaconda3/lib/python3.9/site-packages (from pennylane) (4.2.2)\n",
      "Requirement already satisfied: autograd in /Users/giacomo/opt/anaconda3/lib/python3.9/site-packages (from pennylane) (1.6.2)\n",
      "Requirement already satisfied: scipy in /Users/giacomo/opt/anaconda3/lib/python3.9/site-packages (from pennylane) (1.7.3)\n",
      "Requirement already satisfied: rustworkx in /Users/giacomo/opt/anaconda3/lib/python3.9/site-packages (from pennylane) (0.14.1)\n",
      "Requirement already satisfied: typing-extensions in /Users/giacomo/opt/anaconda3/lib/python3.9/site-packages (from pennylane) (4.1.1)\n",
      "Requirement already satisfied: semantic-version>=2.7 in /Users/giacomo/opt/anaconda3/lib/python3.9/site-packages (from pennylane) (2.10.0)\n",
      "Requirement already satisfied: numpy in /Users/giacomo/opt/anaconda3/lib/python3.9/site-packages (from pennylane) (1.22.4)\n",
      "Requirement already satisfied: appdirs in /Users/giacomo/opt/anaconda3/lib/python3.9/site-packages (from pennylane) (1.4.4)\n",
      "Requirement already satisfied: future>=0.15.2 in /Users/giacomo/opt/anaconda3/lib/python3.9/site-packages (from autograd->pennylane) (0.18.2)\n",
      "Requirement already satisfied: charset-normalizer~=2.0.0 in /Users/giacomo/opt/anaconda3/lib/python3.9/site-packages (from requests->pennylane) (2.0.4)\n",
      "Requirement already satisfied: idna<4,>=2.5 in /Users/giacomo/opt/anaconda3/lib/python3.9/site-packages (from requests->pennylane) (3.3)\n",
      "Requirement already satisfied: certifi>=2017.4.17 in /Users/giacomo/opt/anaconda3/lib/python3.9/site-packages (from requests->pennylane) (2021.10.8)\n",
      "Requirement already satisfied: urllib3<1.27,>=1.21.1 in /Users/giacomo/opt/anaconda3/lib/python3.9/site-packages (from requests->pennylane) (1.26.9)\n"
     ]
    }
   ],
   "source": [
    "!pip install pennylane"
   ]
  },
  {
   "cell_type": "code",
   "execution_count": 5,
   "metadata": {},
   "outputs": [
    {
     "ename": "ImportError",
     "evalue": "cannot import name 'bsr_array' from 'scipy.sparse' (/Users/giacomo/opt/anaconda3/lib/python3.9/site-packages/scipy/sparse/__init__.py)",
     "output_type": "error",
     "traceback": [
      "\u001b[0;31m---------------------------------------------------------------------------\u001b[0m",
      "\u001b[0;31mImportError\u001b[0m                               Traceback (most recent call last)",
      "Input \u001b[0;32mIn [5]\u001b[0m, in \u001b[0;36m<cell line: 1>\u001b[0;34m()\u001b[0m\n\u001b[0;32m----> 1\u001b[0m \u001b[38;5;28;01mimport\u001b[39;00m \u001b[38;5;21;01mpennylane\u001b[39;00m\n",
      "File \u001b[0;32m~/opt/anaconda3/lib/python3.9/site-packages/pennylane/__init__.py:135\u001b[0m, in \u001b[0;36m<module>\u001b[0;34m\u001b[0m\n\u001b[1;32m    132\u001b[0m \u001b[38;5;28;01mfrom\u001b[39;00m \u001b[38;5;21;01mpennylane\u001b[39;00m\u001b[38;5;21;01m.\u001b[39;00m\u001b[38;5;21;01mcompiler\u001b[39;00m \u001b[38;5;28;01mimport\u001b[39;00m qjit, while_loop, for_loop\n\u001b[1;32m    133\u001b[0m \u001b[38;5;28;01mimport\u001b[39;00m \u001b[38;5;21;01mpennylane\u001b[39;00m\u001b[38;5;21;01m.\u001b[39;00m\u001b[38;5;21;01mcompiler\u001b[39;00m\n\u001b[0;32m--> 135\u001b[0m \u001b[38;5;28;01mimport\u001b[39;00m \u001b[38;5;21;01mpennylane\u001b[39;00m\u001b[38;5;21;01m.\u001b[39;00m\u001b[38;5;21;01mdata\u001b[39;00m\n\u001b[1;32m    137\u001b[0m \u001b[38;5;66;03m# Look for an existing configuration file\u001b[39;00m\n\u001b[1;32m    138\u001b[0m default_config \u001b[38;5;241m=\u001b[39m Configuration(\u001b[38;5;124m\"\u001b[39m\u001b[38;5;124mconfig.toml\u001b[39m\u001b[38;5;124m\"\u001b[39m)\n",
      "File \u001b[0;32m~/opt/anaconda3/lib/python3.9/site-packages/pennylane/data/__init__.py:197\u001b[0m, in \u001b[0;36m<module>\u001b[0;34m\u001b[0m\n\u001b[1;32m      1\u001b[0m \u001b[38;5;66;03m# Copyright 2018-2023 Xanadu Quantum Technologies Inc.\u001b[39;00m\n\u001b[1;32m      2\u001b[0m \n\u001b[1;32m      3\u001b[0m \u001b[38;5;66;03m# Licensed under the Apache License, Version 2.0 (the \"License\");\u001b[39;00m\n\u001b[0;32m   (...)\u001b[0m\n\u001b[1;32m     12\u001b[0m \u001b[38;5;66;03m# See the License for the specific language governing permissions and\u001b[39;00m\n\u001b[1;32m     13\u001b[0m \u001b[38;5;66;03m# limitations under the License.\u001b[39;00m\n\u001b[1;32m     14\u001b[0m \u001b[38;5;124;03m\"\"\"The data subpackage provides functionality to access, store and manipulate `quantum datasets <https://pennylane.ai/datasets>`_.\u001b[39;00m\n\u001b[1;32m     15\u001b[0m \n\u001b[1;32m     16\u001b[0m \u001b[38;5;124;03m.. note::\u001b[39;00m\n\u001b[0;32m   (...)\u001b[0m\n\u001b[1;32m    194\u001b[0m \n\u001b[1;32m    195\u001b[0m \u001b[38;5;124m\"\"\"\u001b[39m\n\u001b[0;32m--> 197\u001b[0m \u001b[38;5;28;01mfrom\u001b[39;00m \u001b[38;5;21;01m.\u001b[39;00m\u001b[38;5;21;01mattributes\u001b[39;00m \u001b[38;5;28;01mimport\u001b[39;00m (\n\u001b[1;32m    198\u001b[0m     DatasetArray,\n\u001b[1;32m    199\u001b[0m     DatasetDict,\n\u001b[1;32m    200\u001b[0m     DatasetJSON,\n\u001b[1;32m    201\u001b[0m     DatasetList,\n\u001b[1;32m    202\u001b[0m     DatasetMolecule,\n\u001b[1;32m    203\u001b[0m     DatasetNone,\n\u001b[1;32m    204\u001b[0m     DatasetOperator,\n\u001b[1;32m    205\u001b[0m     DatasetScalar,\n\u001b[1;32m    206\u001b[0m     DatasetSparseArray,\n\u001b[1;32m    207\u001b[0m     DatasetString,\n\u001b[1;32m    208\u001b[0m     DatasetTuple,\n\u001b[1;32m    209\u001b[0m )\n\u001b[1;32m    210\u001b[0m \u001b[38;5;28;01mfrom\u001b[39;00m \u001b[38;5;21;01m.\u001b[39;00m\u001b[38;5;21;01mbase\u001b[39;00m \u001b[38;5;28;01mimport\u001b[39;00m DatasetNotWriteableError\n\u001b[1;32m    211\u001b[0m \u001b[38;5;28;01mfrom\u001b[39;00m \u001b[38;5;21;01m.\u001b[39;00m\u001b[38;5;21;01mbase\u001b[39;00m\u001b[38;5;21;01m.\u001b[39;00m\u001b[38;5;21;01mattribute\u001b[39;00m \u001b[38;5;28;01mimport\u001b[39;00m AttributeInfo, DatasetAttribute, attribute\n",
      "File \u001b[0;32m~/opt/anaconda3/lib/python3.9/site-packages/pennylane/data/attributes/__init__.py:24\u001b[0m, in \u001b[0;36m<module>\u001b[0;34m\u001b[0m\n\u001b[1;32m     22\u001b[0m \u001b[38;5;28;01mfrom\u001b[39;00m \u001b[38;5;21;01m.\u001b[39;00m\u001b[38;5;21;01moperator\u001b[39;00m \u001b[38;5;28;01mimport\u001b[39;00m DatasetOperator\n\u001b[1;32m     23\u001b[0m \u001b[38;5;28;01mfrom\u001b[39;00m \u001b[38;5;21;01m.\u001b[39;00m\u001b[38;5;21;01mscalar\u001b[39;00m \u001b[38;5;28;01mimport\u001b[39;00m DatasetScalar\n\u001b[0;32m---> 24\u001b[0m \u001b[38;5;28;01mfrom\u001b[39;00m \u001b[38;5;21;01m.\u001b[39;00m\u001b[38;5;21;01msparse_array\u001b[39;00m \u001b[38;5;28;01mimport\u001b[39;00m DatasetSparseArray\n\u001b[1;32m     25\u001b[0m \u001b[38;5;28;01mfrom\u001b[39;00m \u001b[38;5;21;01m.\u001b[39;00m\u001b[38;5;21;01mstring\u001b[39;00m \u001b[38;5;28;01mimport\u001b[39;00m DatasetString\n\u001b[1;32m     26\u001b[0m \u001b[38;5;28;01mfrom\u001b[39;00m \u001b[38;5;21;01m.\u001b[39;00m\u001b[38;5;21;01mtuple\u001b[39;00m \u001b[38;5;28;01mimport\u001b[39;00m DatasetTuple\n",
      "File \u001b[0;32m~/opt/anaconda3/lib/python3.9/site-packages/pennylane/data/attributes/sparse_array.py:20\u001b[0m, in \u001b[0;36m<module>\u001b[0;34m\u001b[0m\n\u001b[1;32m     17\u001b[0m \u001b[38;5;28;01mfrom\u001b[39;00m \u001b[38;5;21;01mtyping\u001b[39;00m \u001b[38;5;28;01mimport\u001b[39;00m Dict, Generic, Tuple, Type, TypeVar, Union, cast\n\u001b[1;32m     19\u001b[0m \u001b[38;5;28;01mimport\u001b[39;00m \u001b[38;5;21;01mnumpy\u001b[39;00m \u001b[38;5;28;01mas\u001b[39;00m \u001b[38;5;21;01mnp\u001b[39;00m\n\u001b[0;32m---> 20\u001b[0m \u001b[38;5;28;01mfrom\u001b[39;00m \u001b[38;5;21;01mscipy\u001b[39;00m\u001b[38;5;21;01m.\u001b[39;00m\u001b[38;5;21;01msparse\u001b[39;00m \u001b[38;5;28;01mimport\u001b[39;00m (\n\u001b[1;32m     21\u001b[0m     bsr_array,\n\u001b[1;32m     22\u001b[0m     bsr_matrix,\n\u001b[1;32m     23\u001b[0m     coo_array,\n\u001b[1;32m     24\u001b[0m     coo_matrix,\n\u001b[1;32m     25\u001b[0m     csc_array,\n\u001b[1;32m     26\u001b[0m     csc_matrix,\n\u001b[1;32m     27\u001b[0m     csr_array,\n\u001b[1;32m     28\u001b[0m     csr_matrix,\n\u001b[1;32m     29\u001b[0m     dia_array,\n\u001b[1;32m     30\u001b[0m     dia_matrix,\n\u001b[1;32m     31\u001b[0m     dok_array,\n\u001b[1;32m     32\u001b[0m     dok_matrix,\n\u001b[1;32m     33\u001b[0m     lil_array,\n\u001b[1;32m     34\u001b[0m     lil_matrix,\n\u001b[1;32m     35\u001b[0m )\n\u001b[1;32m     37\u001b[0m \u001b[38;5;28;01mfrom\u001b[39;00m \u001b[38;5;21;01mpennylane\u001b[39;00m\u001b[38;5;21;01m.\u001b[39;00m\u001b[38;5;21;01mdata\u001b[39;00m\u001b[38;5;21;01m.\u001b[39;00m\u001b[38;5;21;01mbase\u001b[39;00m\u001b[38;5;21;01m.\u001b[39;00m\u001b[38;5;21;01mattribute\u001b[39;00m \u001b[38;5;28;01mimport\u001b[39;00m AttributeInfo, DatasetAttribute\n\u001b[1;32m     38\u001b[0m \u001b[38;5;28;01mfrom\u001b[39;00m \u001b[38;5;21;01mpennylane\u001b[39;00m\u001b[38;5;21;01m.\u001b[39;00m\u001b[38;5;21;01mdata\u001b[39;00m\u001b[38;5;21;01m.\u001b[39;00m\u001b[38;5;21;01mbase\u001b[39;00m\u001b[38;5;21;01m.\u001b[39;00m\u001b[38;5;21;01mhdf5\u001b[39;00m \u001b[38;5;28;01mimport\u001b[39;00m HDF5Group\n",
      "\u001b[0;31mImportError\u001b[0m: cannot import name 'bsr_array' from 'scipy.sparse' (/Users/giacomo/opt/anaconda3/lib/python3.9/site-packages/scipy/sparse/__init__.py)"
     ]
    }
   ],
   "source": [
    "import pennylane"
   ]
  },
  {
   "cell_type": "code",
   "execution_count": null,
   "metadata": {},
   "outputs": [],
   "source": []
  }
 ],
 "metadata": {
  "kernelspec": {
   "display_name": "Python 3 (ipykernel)",
   "language": "python",
   "name": "python3"
  },
  "language_info": {
   "codemirror_mode": {
    "name": "ipython",
    "version": 3
   },
   "file_extension": ".py",
   "mimetype": "text/x-python",
   "name": "python",
   "nbconvert_exporter": "python",
   "pygments_lexer": "ipython3",
   "version": "3.9.12"
  }
 },
 "nbformat": 4,
 "nbformat_minor": 1
}
