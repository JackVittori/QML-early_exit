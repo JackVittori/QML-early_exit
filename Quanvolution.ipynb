{
  "nbformat": 4,
  "nbformat_minor": 0,
  "metadata": {
    "colab": {
      "provenance": [],
      "gpuType": "T4"
    },
    "kernelspec": {
      "name": "python3",
      "display_name": "Python 3"
    },
    "language_info": {
      "name": "python"
    },
    "accelerator": "GPU"
  },
  "cells": [
    {
      "cell_type": "code",
      "execution_count": null,
      "metadata": {
        "colab": {
          "base_uri": "https://localhost:8080/"
        },
        "id": "3KGTPtftbuXU",
        "outputId": "99aa3f0d-4cf0-4ad5-d46f-0f9052c07423"
      },
      "outputs": [
        {
          "output_type": "stream",
          "name": "stdout",
          "text": [
            "Collecting pennylane\n",
            "  Downloading PennyLane-0.34.0-py3-none-any.whl (1.6 MB)\n",
            "\u001b[?25l     \u001b[90m━━━━━━━━━━━━━━━━━━━━━━━━━━━━━━━━━━━━━━━━\u001b[0m \u001b[32m0.0/1.6 MB\u001b[0m \u001b[31m?\u001b[0m eta \u001b[36m-:--:--\u001b[0m\r\u001b[2K     \u001b[91m━━━━━━━━━━━━━━━━━━\u001b[0m\u001b[91m╸\u001b[0m\u001b[90m━━━━━━━━━━━━━━━━━━━━━\u001b[0m \u001b[32m0.7/1.6 MB\u001b[0m \u001b[31m21.9 MB/s\u001b[0m eta \u001b[36m0:00:01\u001b[0m\r\u001b[2K     \u001b[90m━━━━━━━━━━━━━━━━━━━━━━━━━━━━━━━━━━━━━━━━\u001b[0m \u001b[32m1.6/1.6 MB\u001b[0m \u001b[31m28.1 MB/s\u001b[0m eta \u001b[36m0:00:00\u001b[0m\n",
            "\u001b[?25hRequirement already satisfied: numpy in /usr/local/lib/python3.10/dist-packages (from pennylane) (1.25.2)\n",
            "Requirement already satisfied: scipy in /usr/local/lib/python3.10/dist-packages (from pennylane) (1.11.4)\n",
            "Requirement already satisfied: networkx in /usr/local/lib/python3.10/dist-packages (from pennylane) (3.2.1)\n",
            "Collecting rustworkx (from pennylane)\n",
            "  Downloading rustworkx-0.14.1-cp310-cp310-manylinux_2_17_x86_64.manylinux2014_x86_64.whl (2.1 MB)\n",
            "\u001b[2K     \u001b[90m━━━━━━━━━━━━━━━━━━━━━━━━━━━━━━━━━━━━━━━━\u001b[0m \u001b[32m2.1/2.1 MB\u001b[0m \u001b[31m56.1 MB/s\u001b[0m eta \u001b[36m0:00:00\u001b[0m\n",
            "\u001b[?25hRequirement already satisfied: autograd in /usr/local/lib/python3.10/dist-packages (from pennylane) (1.6.2)\n",
            "Requirement already satisfied: toml in /usr/local/lib/python3.10/dist-packages (from pennylane) (0.10.2)\n",
            "Requirement already satisfied: appdirs in /usr/local/lib/python3.10/dist-packages (from pennylane) (1.4.4)\n",
            "Collecting semantic-version>=2.7 (from pennylane)\n",
            "  Downloading semantic_version-2.10.0-py2.py3-none-any.whl (15 kB)\n",
            "Collecting autoray>=0.6.1 (from pennylane)\n",
            "  Downloading autoray-0.6.8-py3-none-any.whl (49 kB)\n",
            "\u001b[2K     \u001b[90m━━━━━━━━━━━━━━━━━━━━━━━━━━━━━━━━━━━━━━━━\u001b[0m \u001b[32m49.9/49.9 kB\u001b[0m \u001b[31m8.6 MB/s\u001b[0m eta \u001b[36m0:00:00\u001b[0m\n",
            "\u001b[?25hRequirement already satisfied: cachetools in /usr/local/lib/python3.10/dist-packages (from pennylane) (5.3.3)\n",
            "Collecting pennylane-lightning>=0.34 (from pennylane)\n",
            "  Downloading PennyLane_Lightning-0.34.0-cp310-cp310-manylinux_2_17_x86_64.manylinux2014_x86_64.whl (18.1 MB)\n",
            "\u001b[2K     \u001b[90m━━━━━━━━━━━━━━━━━━━━━━━━━━━━━━━━━━━━━━━━\u001b[0m \u001b[32m18.1/18.1 MB\u001b[0m \u001b[31m64.7 MB/s\u001b[0m eta \u001b[36m0:00:00\u001b[0m\n",
            "\u001b[?25hRequirement already satisfied: requests in /usr/local/lib/python3.10/dist-packages (from pennylane) (2.31.0)\n",
            "Requirement already satisfied: typing-extensions in /usr/local/lib/python3.10/dist-packages (from pennylane) (4.10.0)\n",
            "Requirement already satisfied: future>=0.15.2 in /usr/local/lib/python3.10/dist-packages (from autograd->pennylane) (0.18.3)\n",
            "Requirement already satisfied: charset-normalizer<4,>=2 in /usr/local/lib/python3.10/dist-packages (from requests->pennylane) (3.3.2)\n",
            "Requirement already satisfied: idna<4,>=2.5 in /usr/local/lib/python3.10/dist-packages (from requests->pennylane) (3.6)\n",
            "Requirement already satisfied: urllib3<3,>=1.21.1 in /usr/local/lib/python3.10/dist-packages (from requests->pennylane) (2.0.7)\n",
            "Requirement already satisfied: certifi>=2017.4.17 in /usr/local/lib/python3.10/dist-packages (from requests->pennylane) (2024.2.2)\n",
            "Installing collected packages: semantic-version, rustworkx, autoray, pennylane-lightning, pennylane\n",
            "Successfully installed autoray-0.6.8 pennylane-0.34.0 pennylane-lightning-0.34.0 rustworkx-0.14.1 semantic-version-2.10.0\n"
          ]
        }
      ],
      "source": [
        "!pip install pennylane"
      ]
    },
    {
      "cell_type": "code",
      "source": [
        "from google.colab import drive\n",
        "drive.mount('/content/drive')"
      ],
      "metadata": {
        "colab": {
          "base_uri": "https://localhost:8080/"
        },
        "id": "KffXrxRABTAU",
        "outputId": "2b04909c-a4c6-4932-c92e-5d52fe87929e"
      },
      "execution_count": null,
      "outputs": [
        {
          "output_type": "stream",
          "name": "stdout",
          "text": [
            "Mounted at /content/drive\n"
          ]
        }
      ]
    },
    {
      "cell_type": "code",
      "source": [
        "import pennylane as qml\n",
        "from pennylane import numpy as np\n",
        "from pennylane.templates import RandomLayers\n",
        "import tensorflow as tf\n",
        "from tensorflow import keras\n",
        "import matplotlib.pyplot as plt"
      ],
      "metadata": {
        "id": "ZSU6yrwEb-fh"
      },
      "execution_count": null,
      "outputs": []
    },
    {
      "cell_type": "code",
      "source": [
        "n_epochs = 30   # Number of optimization epochs\n",
        "n_layers = 6    # Number of random layers\n",
        "n_train = 50    # Size of the train dataset\n",
        "n_test = 30     # Size of the test dataset\n",
        "\n",
        "SAVE_PATH = \"/content/drive/MyDrive/Tesi/Results\"  # Data saving folder\n",
        "PREPROCESS = True           # If False, skip quantum processing and load data from SAVE_PATH\n",
        "np.random.seed(0)           # Seed for NumPy random number generator\n",
        "tf.random.set_seed(0)       # Seed for TensorFlow random number generator"
      ],
      "metadata": {
        "id": "36qs_AT8cBF7"
      },
      "execution_count": null,
      "outputs": []
    },
    {
      "cell_type": "code",
      "source": [
        "mnist_dataset = keras.datasets.mnist\n",
        "(train_images, train_labels), (test_images, test_labels) = mnist_dataset.load_data()\n",
        "\n",
        "# Reduce dataset size\n",
        "train_images = train_images[:n_train]\n",
        "train_labels = train_labels[:n_train]\n",
        "test_images = test_images[:n_test]\n",
        "test_labels = test_labels[:n_test]\n",
        "\n",
        "# Normalize pixel values within 0 and 1\n",
        "train_images = train_images / 255\n",
        "test_images = test_images / 255\n",
        "\n",
        "# Add extra dimension for convolution channels\n",
        "train_images = np.array(train_images[..., tf.newaxis], requires_grad=False)\n",
        "test_images = np.array(test_images[..., tf.newaxis], requires_grad=False)"
      ],
      "metadata": {
        "id": "y28b0r2WcvIC",
        "colab": {
          "base_uri": "https://localhost:8080/"
        },
        "outputId": "79192e33-de80-4a60-fd9f-5fc4026e5bb0"
      },
      "execution_count": null,
      "outputs": [
        {
          "output_type": "stream",
          "name": "stdout",
          "text": [
            "Downloading data from https://storage.googleapis.com/tensorflow/tf-keras-datasets/mnist.npz\n",
            "11490434/11490434 [==============================] - 2s 0us/step\n"
          ]
        }
      ]
    },
    {
      "cell_type": "code",
      "source": [
        "train_images.shape"
      ],
      "metadata": {
        "colab": {
          "base_uri": "https://localhost:8080/"
        },
        "id": "7a1IMHNfXcYF",
        "outputId": "f7524d07-f996-460a-db64-9471070e3216"
      },
      "execution_count": null,
      "outputs": [
        {
          "output_type": "execute_result",
          "data": {
            "text/plain": [
              "(50, 28, 28, 1)"
            ]
          },
          "metadata": {},
          "execution_count": 7
        }
      ]
    },
    {
      "cell_type": "code",
      "source": [
        "dev = qml.device(\"default.qubit\", wires=4)\n",
        "# Random circuit parameters\n",
        "rand_params = np.random.uniform(high=2 * np.pi, size=(n_layers, 4))\n",
        "#random_layers = RandomLayers(rand_params, wires=list(range(4)))\n",
        "@qml.qnode(dev)\n",
        "def circuit(phi):\n",
        "    # Encoding of 4 classical input values\n",
        "    for j in range(4):\n",
        "        qml.RY(np.pi * phi[j], wires=j)\n",
        "\n",
        "    # Random quantum circuit\n",
        "    RandomLayers(rand_params, wires=list(range(4)))\n",
        "\n",
        "    # Measurement producing 4 classical output values\n",
        "    return [qml.expval(qml.PauliZ(j)) for j in range(4)]\n",
        "\n",
        "def quanv(image):\n",
        "    \"\"\"Convolves the input image with many applications of the same quantum circuit.\"\"\"\n",
        "    out = np.zeros((14, 14, 4))\n",
        "\n",
        "    # Loop over the coordinates of the top-left pixel of 2X2 squares\n",
        "    for j in range(0, 28, 2):\n",
        "        for k in range(0, 28, 2):\n",
        "            # Process a squared 2x2 region of the image with a quantum circuit\n",
        "            q_results = circuit(\n",
        "                [\n",
        "                    image[j, k, 0],\n",
        "                    image[j, k + 1, 0],\n",
        "                    image[j + 1, k, 0],\n",
        "                    image[j + 1, k + 1, 0]\n",
        "                ]\n",
        "            )\n",
        "            # Assign expectation values to different channels of the output pixel (j/2, k/2)\n",
        "            for c in range(4):\n",
        "                out[j // 2, k // 2, c] = q_results[c]\n",
        "    return out"
      ],
      "metadata": {
        "id": "szSl1O2IczV0",
        "colab": {
          "base_uri": "https://localhost:8080/",
          "height": 210
        },
        "outputId": "abbed697-fc2e-47e9-d2fc-60e9db0e9439"
      },
      "execution_count": null,
      "outputs": [
        {
          "output_type": "error",
          "ename": "NameError",
          "evalue": "name 'qml' is not defined",
          "traceback": [
            "\u001b[0;31m---------------------------------------------------------------------------\u001b[0m",
            "\u001b[0;31mNameError\u001b[0m                                 Traceback (most recent call last)",
            "\u001b[0;32m<ipython-input-1-97c2281e137c>\u001b[0m in \u001b[0;36m<cell line: 1>\u001b[0;34m()\u001b[0m\n\u001b[0;32m----> 1\u001b[0;31m \u001b[0mdev\u001b[0m \u001b[0;34m=\u001b[0m \u001b[0mqml\u001b[0m\u001b[0;34m.\u001b[0m\u001b[0mdevice\u001b[0m\u001b[0;34m(\u001b[0m\u001b[0;34m\"default.qubit\"\u001b[0m\u001b[0;34m,\u001b[0m \u001b[0mwires\u001b[0m\u001b[0;34m=\u001b[0m\u001b[0;36m4\u001b[0m\u001b[0;34m)\u001b[0m\u001b[0;34m\u001b[0m\u001b[0;34m\u001b[0m\u001b[0m\n\u001b[0m\u001b[1;32m      2\u001b[0m \u001b[0;31m# Random circuit parameters\u001b[0m\u001b[0;34m\u001b[0m\u001b[0;34m\u001b[0m\u001b[0m\n\u001b[1;32m      3\u001b[0m \u001b[0mrand_params\u001b[0m \u001b[0;34m=\u001b[0m \u001b[0mnp\u001b[0m\u001b[0;34m.\u001b[0m\u001b[0mrandom\u001b[0m\u001b[0;34m.\u001b[0m\u001b[0muniform\u001b[0m\u001b[0;34m(\u001b[0m\u001b[0mhigh\u001b[0m\u001b[0;34m=\u001b[0m\u001b[0;36m2\u001b[0m \u001b[0;34m*\u001b[0m \u001b[0mnp\u001b[0m\u001b[0;34m.\u001b[0m\u001b[0mpi\u001b[0m\u001b[0;34m,\u001b[0m \u001b[0msize\u001b[0m\u001b[0;34m=\u001b[0m\u001b[0;34m(\u001b[0m\u001b[0mn_layers\u001b[0m\u001b[0;34m,\u001b[0m \u001b[0;36m4\u001b[0m\u001b[0;34m)\u001b[0m\u001b[0;34m)\u001b[0m\u001b[0;34m\u001b[0m\u001b[0;34m\u001b[0m\u001b[0m\n\u001b[1;32m      4\u001b[0m \u001b[0;31m#random_layers = RandomLayers(rand_params, wires=list(range(4)))\u001b[0m\u001b[0;34m\u001b[0m\u001b[0;34m\u001b[0m\u001b[0m\n\u001b[1;32m      5\u001b[0m \u001b[0;34m@\u001b[0m\u001b[0mqml\u001b[0m\u001b[0;34m.\u001b[0m\u001b[0mqnode\u001b[0m\u001b[0;34m(\u001b[0m\u001b[0mdev\u001b[0m\u001b[0;34m)\u001b[0m\u001b[0;34m\u001b[0m\u001b[0;34m\u001b[0m\u001b[0m\n",
            "\u001b[0;31mNameError\u001b[0m: name 'qml' is not defined"
          ]
        }
      ]
    },
    {
      "cell_type": "code",
      "source": [
        "rand_params"
      ],
      "metadata": {
        "colab": {
          "base_uri": "https://localhost:8080/"
        },
        "id": "crsyM7LakiiK",
        "outputId": "4b8c6700-a4b9-427c-a202-9a30832e4071"
      },
      "execution_count": null,
      "outputs": [
        {
          "output_type": "execute_result",
          "data": {
            "text/plain": [
              "tensor([[3.72495259, 5.30467815, 5.3906313 , 5.32343968],\n",
              "        [3.91796626, 2.4151415 , 1.86946507, 0.35633815],\n",
              "        [1.71315002, 3.00125845, 5.10300662, 3.01578552],\n",
              "        [2.46793966, 5.2532378 , 2.1199226 , 4.07258398],\n",
              "        [2.31372983, 6.01398323, 0.88184996, 5.46691948],\n",
              "        [2.97576711, 5.03227067, 3.27025645, 4.26552589]], requires_grad=True)"
            ]
          },
          "metadata": {},
          "execution_count": 7
        }
      ]
    },
    {
      "cell_type": "code",
      "source": [
        "random_layers.parameters"
      ],
      "metadata": {
        "colab": {
          "base_uri": "https://localhost:8080/"
        },
        "id": "w09077HykkNc",
        "outputId": "4f68d3b2-4a75-4f99-adef-56d3204f0d57"
      },
      "execution_count": null,
      "outputs": [
        {
          "output_type": "execute_result",
          "data": {
            "text/plain": [
              "[tensor([[3.72495259, 5.30467815, 5.3906313 , 5.32343968],\n",
              "         [3.91796626, 2.4151415 , 1.86946507, 0.35633815],\n",
              "         [1.71315002, 3.00125845, 5.10300662, 3.01578552],\n",
              "         [2.46793966, 5.2532378 , 2.1199226 , 4.07258398],\n",
              "         [2.31372983, 6.01398323, 0.88184996, 5.46691948],\n",
              "         [2.97576711, 5.03227067, 3.27025645, 4.26552589]], requires_grad=True)]"
            ]
          },
          "metadata": {},
          "execution_count": 8
        }
      ]
    },
    {
      "cell_type": "code",
      "source": [
        "random_layers_1 = RandomLayers(rand_params, wires=range(4), seed = 42)\n",
        "random_layers_2 = RandomLayers(rand_params, wires=range(4), seed = 42)\n",
        "def circuit(phi, random_layer):\n",
        "    # Encoding of 4 classical input values\n",
        "    for j in range(4):\n",
        "        qml.RY(np.pi * phi[j], wires=j)\n",
        "\n",
        "    # Random quantum circuit\n",
        "    random_layer\n",
        "\n",
        "    # Measurement producing 4 classical output values\n",
        "    return [qml.expval(qml.PauliZ(j)) for j in range(4)]\n",
        "\n",
        "circuit_1 = circuit([0,0,0,0], random_layers_1)\n",
        "circuit_2 = circuit([0,0,0,0], random_layers_2)"
      ],
      "metadata": {
        "id": "o8u1IgBL_kmV"
      },
      "execution_count": null,
      "outputs": []
    },
    {
      "cell_type": "code",
      "source": [
        "a = qml.draw(circuit)"
      ],
      "metadata": {
        "id": "DPg4kA1mAD5r"
      },
      "execution_count": null,
      "outputs": []
    },
    {
      "cell_type": "code",
      "source": [
        "print(a([0,0,0,0], random_layers_1))"
      ],
      "metadata": {
        "colab": {
          "base_uri": "https://localhost:8080/"
        },
        "id": "K1Ls_8FGA6Bf",
        "outputId": "fe562855-05e3-4ddb-e3ea-abd78a137650"
      },
      "execution_count": null,
      "outputs": [
        {
          "output_type": "stream",
          "name": "stdout",
          "text": [
            "0: ──RY(0.00)─┤  <Z>\n",
            "1: ──RY(0.00)─┤  <Z>\n",
            "2: ──RY(0.00)─┤  <Z>\n",
            "3: ──RY(0.00)─┤  <Z>\n"
          ]
        }
      ]
    },
    {
      "cell_type": "code",
      "source": [
        "print(a([0,0,0,0], random_layers_2))"
      ],
      "metadata": {
        "colab": {
          "base_uri": "https://localhost:8080/"
        },
        "id": "gAeIhC_GBGEs",
        "outputId": "f63f1283-9f5e-42ba-909e-a78e3808d66c"
      },
      "execution_count": null,
      "outputs": [
        {
          "output_type": "stream",
          "name": "stdout",
          "text": [
            "0: ──RY(0.00)─┤  <Z>\n",
            "1: ──RY(0.00)─┤  <Z>\n",
            "2: ──RY(0.00)─┤  <Z>\n",
            "3: ──RY(0.00)─┤  <Z>\n"
          ]
        }
      ]
    },
    {
      "cell_type": "code",
      "source": [
        "circuit_2.draw()"
      ],
      "metadata": {
        "id": "sqEU2O8xAFtQ"
      },
      "execution_count": null,
      "outputs": []
    },
    {
      "cell_type": "code",
      "source": [
        "random_layers.parameters"
      ],
      "metadata": {
        "colab": {
          "base_uri": "https://localhost:8080/"
        },
        "id": "NPvNwim11lZU",
        "outputId": "29c40839-3842-460d-b065-8cfbdceef052"
      },
      "execution_count": null,
      "outputs": [
        {
          "output_type": "execute_result",
          "data": {
            "text/plain": [
              "[tensor([[4.02074236, 0.90071527, 5.93552986, 3.27886971],\n",
              "         [2.60539781, 1.66225193, 4.86465374, 2.86607707],\n",
              "         [3.57157584, 0.1180598 , 3.88071828, 3.84591085],\n",
              "         [3.87631062, 5.92974406, 4.28400329, 2.25885476],\n",
              "         [2.74595275, 4.38334608, 0.3784078 , 4.18941883],\n",
              "         [4.21374201, 1.32187262, 0.81006782, 1.98189478]], requires_grad=True)]"
            ]
          },
          "metadata": {},
          "execution_count": 52
        }
      ]
    },
    {
      "cell_type": "code",
      "source": [
        "rand_params"
      ],
      "metadata": {
        "colab": {
          "base_uri": "https://localhost:8080/"
        },
        "id": "U5kZ2GDc8TCd",
        "outputId": "8bc39ce7-4ecb-4647-cbc9-f7a995455709"
      },
      "execution_count": null,
      "outputs": [
        {
          "output_type": "execute_result",
          "data": {
            "text/plain": [
              "tensor([[4.02074236, 0.90071527, 5.93552986, 3.27886971],\n",
              "        [2.60539781, 1.66225193, 4.86465374, 2.86607707],\n",
              "        [3.57157584, 0.1180598 , 3.88071828, 3.84591085],\n",
              "        [3.87631062, 5.92974406, 4.28400329, 2.25885476],\n",
              "        [2.74595275, 4.38334608, 0.3784078 , 4.18941883],\n",
              "        [4.21374201, 1.32187262, 0.81006782, 1.98189478]], requires_grad=True)"
            ]
          },
          "metadata": {},
          "execution_count": 53
        }
      ]
    },
    {
      "cell_type": "code",
      "source": [
        "for i, img in enumerate(train_images):\n",
        "  print(img.shape)\n",
        "  break"
      ],
      "metadata": {
        "colab": {
          "base_uri": "https://localhost:8080/"
        },
        "id": "_q-EGVzNmzTb",
        "outputId": "9c49b186-84ca-4db9-a2e4-2ee6e5fa8e8c"
      },
      "execution_count": null,
      "outputs": [
        {
          "output_type": "stream",
          "name": "stdout",
          "text": [
            "(28, 28, 1)\n"
          ]
        }
      ]
    },
    {
      "cell_type": "code",
      "source": [
        "if PREPROCESS == True:\n",
        "    q_train_images = []\n",
        "    print(\"Quantum pre-processing of train images:\")\n",
        "    for idx, img in enumerate(train_images):\n",
        "        print(\"{}/{}        \".format(idx + 1, n_train), end=\"\\r\")\n",
        "        q_train_images.append(quanv(img))\n",
        "    q_train_images = np.asarray(q_train_images)\n",
        "\n",
        "    q_test_images = []\n",
        "    print(\"\\nQuantum pre-processing of test images:\")\n",
        "    for idx, img in enumerate(test_images):\n",
        "        print(\"{}/{}        \".format(idx + 1, n_test), end=\"\\r\")\n",
        "        q_test_images.append(quanv(img))\n",
        "    q_test_images = np.asarray(q_test_images)\n",
        "\n",
        "    # Save pre-processed images\n",
        "    np.save(SAVE_PATH + \"q_train_images.npy\", q_train_images)\n",
        "    np.save(SAVE_PATH + \"q_test_images.npy\", q_test_images)\n",
        "\n",
        "\n",
        "# Load pre-processed images\n",
        "q_train_images = np.load(SAVE_PATH + \"q_train_images.npy\")\n",
        "q_test_images = np.load(SAVE_PATH + \"q_test_images.npy\")"
      ],
      "metadata": {
        "colab": {
          "base_uri": "https://localhost:8080/"
        },
        "id": "dGEB3dHVdbsg",
        "outputId": "083d5066-fc2a-4030-dcb3-a1c42cf48a30"
      },
      "execution_count": null,
      "outputs": [
        {
          "output_type": "stream",
          "name": "stdout",
          "text": [
            "Quantum pre-processing of train images:\n",
            "\n",
            "Quantum pre-processing of test images:\n"
          ]
        }
      ]
    },
    {
      "cell_type": "code",
      "source": [
        "q_train_images.shape"
      ],
      "metadata": {
        "colab": {
          "base_uri": "https://localhost:8080/"
        },
        "id": "onz9YX81qfJE",
        "outputId": "487ae887-1c2b-4d2e-fa56-f9e85c99d84b"
      },
      "execution_count": null,
      "outputs": [
        {
          "output_type": "execute_result",
          "data": {
            "text/plain": [
              "(50, 14, 14, 4)"
            ]
          },
          "metadata": {},
          "execution_count": 35
        }
      ]
    },
    {
      "cell_type": "code",
      "source": [
        "n_samples = 4\n",
        "n_channels = 4\n",
        "fig, axes = plt.subplots(1 + n_channels, n_samples, figsize=(10, 10))\n",
        "for k in range(n_samples):\n",
        "    axes[0, 0].set_ylabel(\"Input\")\n",
        "    if k != 0:\n",
        "        axes[0, k].yaxis.set_visible(False)\n",
        "    axes[0, k].imshow(train_images[k, :, :, 0], cmap=\"gray\")\n",
        "\n",
        "    # Plot all output channels\n",
        "    for c in range(n_channels):\n",
        "        axes[c + 1, 0].set_ylabel(\"Output [ch. {}]\".format(c))\n",
        "        if k != 0:\n",
        "            axes[c, k].yaxis.set_visible(False)\n",
        "        axes[c + 1, k].imshow(q_train_images[k, :, :, c], cmap=\"gray\")\n",
        "\n",
        "plt.tight_layout()\n",
        "plt.show()"
      ],
      "metadata": {
        "id": "tGU3eRZ1ddln",
        "colab": {
          "base_uri": "https://localhost:8080/",
          "height": 1000
        },
        "outputId": "7559235a-222a-43d7-b561-35e88fbc4fb8"
      },
      "execution_count": null,
      "outputs": [
        {
          "output_type": "display_data",
          "data": {
            "text/plain": [
              "<Figure size 1000x1000 with 20 Axes>"
            ],
            "image/png": "[encoded data removed]"
          },
          "metadata": {}
        }
      ]
    },
    {
      "cell_type": "code",
      "source": [
        "def MyModel():\n",
        "    \"\"\"Initializes and returns a custom Keras model\n",
        "    which is ready to be trained.\"\"\"\n",
        "    model = keras.models.Sequential([\n",
        "        keras.layers.Flatten(),\n",
        "        keras.layers.Dense(10, activation=\"softmax\")\n",
        "    ])\n",
        "\n",
        "    model.compile(\n",
        "        optimizer='adam',\n",
        "        loss=\"sparse_categorical_crossentropy\",\n",
        "        metrics=[\"accuracy\"],\n",
        "    )\n",
        "    return model"
      ],
      "metadata": {
        "id": "LZjxXjPgdfhB"
      },
      "execution_count": null,
      "outputs": []
    },
    {
      "cell_type": "code",
      "source": [
        "q_model = MyModel()\n",
        "\n",
        "q_history = q_model.fit(\n",
        "    q_train_images,\n",
        "    train_labels,\n",
        "    validation_data=(q_test_images, test_labels),\n",
        "    batch_size=4,\n",
        "    epochs=n_epochs,\n",
        "    verbose=2,\n",
        ")\n",
        "\n",
        "c_model = MyModel()\n",
        "\n",
        "c_history = c_model.fit(\n",
        "    train_images,\n",
        "    train_labels,\n",
        "    validation_data=(test_images, test_labels),\n",
        "    batch_size=4,\n",
        "    epochs=n_epochs,\n",
        "    verbose=2,\n",
        ")"
      ],
      "metadata": {
        "id": "OrdnN0LmdhOc",
        "colab": {
          "base_uri": "https://localhost:8080/"
        },
        "outputId": "c1754555-e3d6-42d9-d1ff-f8e4989afada"
      },
      "execution_count": null,
      "outputs": [
        {
          "output_type": "stream",
          "name": "stdout",
          "text": [
            "Epoch 1/30\n",
            "13/13 - 2s - loss: 2.8648 - accuracy: 0.0600 - val_loss: 2.4218 - val_accuracy: 0.1667 - 2s/epoch - 122ms/step\n",
            "Epoch 2/30\n",
            "13/13 - 0s - loss: 1.9783 - accuracy: 0.2800 - val_loss: 1.9841 - val_accuracy: 0.3333 - 65ms/epoch - 5ms/step\n",
            "Epoch 3/30\n",
            "13/13 - 0s - loss: 1.4847 - accuracy: 0.6000 - val_loss: 1.7982 - val_accuracy: 0.4000 - 61ms/epoch - 5ms/step\n",
            "Epoch 4/30\n",
            "13/13 - 0s - loss: 1.0190 - accuracy: 0.7600 - val_loss: 1.6030 - val_accuracy: 0.5333 - 64ms/epoch - 5ms/step\n",
            "Epoch 5/30\n",
            "13/13 - 0s - loss: 0.8425 - accuracy: 0.8600 - val_loss: 1.4502 - val_accuracy: 0.5000 - 72ms/epoch - 6ms/step\n",
            "Epoch 6/30\n",
            "13/13 - 0s - loss: 0.6956 - accuracy: 0.8600 - val_loss: 1.3926 - val_accuracy: 0.5333 - 67ms/epoch - 5ms/step\n",
            "Epoch 7/30\n",
            "13/13 - 0s - loss: 0.5069 - accuracy: 0.9200 - val_loss: 1.3165 - val_accuracy: 0.5667 - 67ms/epoch - 5ms/step\n",
            "Epoch 8/30\n",
            "13/13 - 0s - loss: 0.4026 - accuracy: 1.0000 - val_loss: 1.2339 - val_accuracy: 0.6667 - 67ms/epoch - 5ms/step\n",
            "Epoch 9/30\n",
            "13/13 - 0s - loss: 0.3536 - accuracy: 0.9800 - val_loss: 1.1743 - val_accuracy: 0.6667 - 64ms/epoch - 5ms/step\n",
            "Epoch 10/30\n",
            "13/13 - 0s - loss: 0.2891 - accuracy: 1.0000 - val_loss: 1.1944 - val_accuracy: 0.6333 - 71ms/epoch - 5ms/step\n",
            "Epoch 11/30\n",
            "13/13 - 0s - loss: 0.2698 - accuracy: 0.9800 - val_loss: 1.1276 - val_accuracy: 0.7333 - 71ms/epoch - 5ms/step\n",
            "Epoch 12/30\n",
            "13/13 - 0s - loss: 0.2277 - accuracy: 1.0000 - val_loss: 1.1724 - val_accuracy: 0.6333 - 67ms/epoch - 5ms/step\n",
            "Epoch 13/30\n",
            "13/13 - 0s - loss: 0.2024 - accuracy: 1.0000 - val_loss: 1.0845 - val_accuracy: 0.7000 - 63ms/epoch - 5ms/step\n",
            "Epoch 14/30\n",
            "13/13 - 0s - loss: 0.1884 - accuracy: 1.0000 - val_loss: 1.0520 - val_accuracy: 0.7667 - 69ms/epoch - 5ms/step\n",
            "Epoch 15/30\n",
            "13/13 - 0s - loss: 0.1532 - accuracy: 1.0000 - val_loss: 1.0501 - val_accuracy: 0.7333 - 62ms/epoch - 5ms/step\n",
            "Epoch 16/30\n",
            "13/13 - 0s - loss: 0.1374 - accuracy: 1.0000 - val_loss: 1.0622 - val_accuracy: 0.7000 - 67ms/epoch - 5ms/step\n",
            "Epoch 17/30\n",
            "13/13 - 0s - loss: 0.1331 - accuracy: 1.0000 - val_loss: 1.0322 - val_accuracy: 0.7000 - 71ms/epoch - 5ms/step\n",
            "Epoch 18/30\n",
            "13/13 - 0s - loss: 0.1140 - accuracy: 1.0000 - val_loss: 1.0306 - val_accuracy: 0.7333 - 70ms/epoch - 5ms/step\n",
            "Epoch 19/30\n",
            "13/13 - 0s - loss: 0.1061 - accuracy: 1.0000 - val_loss: 1.0314 - val_accuracy: 0.7333 - 67ms/epoch - 5ms/step\n",
            "Epoch 20/30\n",
            "13/13 - 0s - loss: 0.0990 - accuracy: 1.0000 - val_loss: 0.9943 - val_accuracy: 0.7333 - 65ms/epoch - 5ms/step\n",
            "Epoch 21/30\n",
            "13/13 - 0s - loss: 0.0904 - accuracy: 1.0000 - val_loss: 1.0245 - val_accuracy: 0.7000 - 65ms/epoch - 5ms/step\n",
            "Epoch 22/30\n",
            "13/13 - 0s - loss: 0.0833 - accuracy: 1.0000 - val_loss: 1.0013 - val_accuracy: 0.7000 - 59ms/epoch - 5ms/step\n",
            "Epoch 23/30\n",
            "13/13 - 0s - loss: 0.0782 - accuracy: 1.0000 - val_loss: 0.9799 - val_accuracy: 0.7333 - 57ms/epoch - 4ms/step\n",
            "Epoch 24/30\n",
            "13/13 - 0s - loss: 0.0728 - accuracy: 1.0000 - val_loss: 0.9714 - val_accuracy: 0.7667 - 59ms/epoch - 5ms/step\n",
            "Epoch 25/30\n",
            "13/13 - 0s - loss: 0.0707 - accuracy: 1.0000 - val_loss: 0.9754 - val_accuracy: 0.7000 - 59ms/epoch - 5ms/step\n",
            "Epoch 26/30\n",
            "13/13 - 0s - loss: 0.0633 - accuracy: 1.0000 - val_loss: 0.9687 - val_accuracy: 0.7333 - 70ms/epoch - 5ms/step\n",
            "Epoch 27/30\n",
            "13/13 - 0s - loss: 0.0609 - accuracy: 1.0000 - val_loss: 0.9602 - val_accuracy: 0.7667 - 64ms/epoch - 5ms/step\n",
            "Epoch 28/30\n",
            "13/13 - 0s - loss: 0.0606 - accuracy: 1.0000 - val_loss: 0.9566 - val_accuracy: 0.7333 - 64ms/epoch - 5ms/step\n",
            "Epoch 29/30\n",
            "13/13 - 0s - loss: 0.0551 - accuracy: 1.0000 - val_loss: 0.9756 - val_accuracy: 0.7333 - 57ms/epoch - 4ms/step\n",
            "Epoch 30/30\n",
            "13/13 - 0s - loss: 0.0512 - accuracy: 1.0000 - val_loss: 0.9537 - val_accuracy: 0.7333 - 56ms/epoch - 4ms/step\n",
            "Epoch 1/30\n",
            "13/13 - 1s - loss: 2.2677 - accuracy: 0.1200 - val_loss: 2.1409 - val_accuracy: 0.3000 - 668ms/epoch - 51ms/step\n",
            "Epoch 2/30\n",
            "13/13 - 0s - loss: 1.9148 - accuracy: 0.4200 - val_loss: 1.9723 - val_accuracy: 0.3000 - 66ms/epoch - 5ms/step\n",
            "Epoch 3/30\n",
            "13/13 - 0s - loss: 1.6385 - accuracy: 0.5800 - val_loss: 1.8319 - val_accuracy: 0.4667 - 63ms/epoch - 5ms/step\n",
            "Epoch 4/30\n",
            "13/13 - 0s - loss: 1.4057 - accuracy: 0.8000 - val_loss: 1.7074 - val_accuracy: 0.5000 - 59ms/epoch - 5ms/step\n",
            "Epoch 5/30\n",
            "13/13 - 0s - loss: 1.2088 - accuracy: 0.8400 - val_loss: 1.5934 - val_accuracy: 0.6333 - 65ms/epoch - 5ms/step\n",
            "Epoch 6/30\n",
            "13/13 - 0s - loss: 1.0491 - accuracy: 0.9000 - val_loss: 1.5040 - val_accuracy: 0.7333 - 64ms/epoch - 5ms/step\n",
            "Epoch 7/30\n",
            "13/13 - 0s - loss: 0.9120 - accuracy: 0.9400 - val_loss: 1.4402 - val_accuracy: 0.7333 - 61ms/epoch - 5ms/step\n",
            "Epoch 8/30\n",
            "13/13 - 0s - loss: 0.7960 - accuracy: 0.9600 - val_loss: 1.3736 - val_accuracy: 0.7667 - 57ms/epoch - 4ms/step\n",
            "Epoch 9/30\n",
            "13/13 - 0s - loss: 0.7008 - accuracy: 0.9800 - val_loss: 1.3188 - val_accuracy: 0.7667 - 65ms/epoch - 5ms/step\n",
            "Epoch 10/30\n",
            "13/13 - 0s - loss: 0.6209 - accuracy: 0.9800 - val_loss: 1.2784 - val_accuracy: 0.7667 - 61ms/epoch - 5ms/step\n",
            "Epoch 11/30\n",
            "13/13 - 0s - loss: 0.5581 - accuracy: 1.0000 - val_loss: 1.2370 - val_accuracy: 0.7667 - 63ms/epoch - 5ms/step\n",
            "Epoch 12/30\n",
            "13/13 - 0s - loss: 0.5008 - accuracy: 1.0000 - val_loss: 1.2223 - val_accuracy: 0.7333 - 60ms/epoch - 5ms/step\n",
            "Epoch 13/30\n",
            "13/13 - 0s - loss: 0.4511 - accuracy: 1.0000 - val_loss: 1.1945 - val_accuracy: 0.7333 - 59ms/epoch - 5ms/step\n",
            "Epoch 14/30\n",
            "13/13 - 0s - loss: 0.4065 - accuracy: 1.0000 - val_loss: 1.1565 - val_accuracy: 0.7667 - 66ms/epoch - 5ms/step\n",
            "Epoch 15/30\n",
            "13/13 - 0s - loss: 0.3676 - accuracy: 1.0000 - val_loss: 1.1344 - val_accuracy: 0.7667 - 74ms/epoch - 6ms/step\n",
            "Epoch 16/30\n",
            "13/13 - 0s - loss: 0.3371 - accuracy: 1.0000 - val_loss: 1.1186 - val_accuracy: 0.7667 - 69ms/epoch - 5ms/step\n",
            "Epoch 17/30\n",
            "13/13 - 0s - loss: 0.3091 - accuracy: 1.0000 - val_loss: 1.1038 - val_accuracy: 0.7667 - 101ms/epoch - 8ms/step\n",
            "Epoch 18/30\n",
            "13/13 - 0s - loss: 0.2846 - accuracy: 1.0000 - val_loss: 1.0813 - val_accuracy: 0.7667 - 329ms/epoch - 25ms/step\n",
            "Epoch 19/30\n",
            "13/13 - 0s - loss: 0.2607 - accuracy: 1.0000 - val_loss: 1.0757 - val_accuracy: 0.7667 - 73ms/epoch - 6ms/step\n",
            "Epoch 20/30\n",
            "13/13 - 0s - loss: 0.2424 - accuracy: 1.0000 - val_loss: 1.0581 - val_accuracy: 0.7667 - 69ms/epoch - 5ms/step\n",
            "Epoch 21/30\n",
            "13/13 - 0s - loss: 0.2249 - accuracy: 1.0000 - val_loss: 1.0548 - val_accuracy: 0.7667 - 60ms/epoch - 5ms/step\n",
            "Epoch 22/30\n",
            "13/13 - 0s - loss: 0.2089 - accuracy: 1.0000 - val_loss: 1.0442 - val_accuracy: 0.7667 - 65ms/epoch - 5ms/step\n",
            "Epoch 23/30\n",
            "13/13 - 0s - loss: 0.1949 - accuracy: 1.0000 - val_loss: 1.0340 - val_accuracy: 0.7667 - 65ms/epoch - 5ms/step\n",
            "Epoch 24/30\n",
            "13/13 - 0s - loss: 0.1823 - accuracy: 1.0000 - val_loss: 1.0256 - val_accuracy: 0.7667 - 65ms/epoch - 5ms/step\n",
            "Epoch 25/30\n",
            "13/13 - 0s - loss: 0.1719 - accuracy: 1.0000 - val_loss: 1.0204 - val_accuracy: 0.7667 - 63ms/epoch - 5ms/step\n",
            "Epoch 26/30\n",
            "13/13 - 0s - loss: 0.1607 - accuracy: 1.0000 - val_loss: 1.0153 - val_accuracy: 0.7667 - 194ms/epoch - 15ms/step\n",
            "Epoch 27/30\n",
            "13/13 - 0s - loss: 0.1519 - accuracy: 1.0000 - val_loss: 1.0052 - val_accuracy: 0.7667 - 172ms/epoch - 13ms/step\n",
            "Epoch 28/30\n",
            "13/13 - 0s - loss: 0.1440 - accuracy: 1.0000 - val_loss: 1.0010 - val_accuracy: 0.7667 - 102ms/epoch - 8ms/step\n",
            "Epoch 29/30\n",
            "13/13 - 0s - loss: 0.1356 - accuracy: 1.0000 - val_loss: 0.9993 - val_accuracy: 0.7667 - 62ms/epoch - 5ms/step\n",
            "Epoch 30/30\n",
            "13/13 - 0s - loss: 0.1279 - accuracy: 1.0000 - val_loss: 0.9950 - val_accuracy: 0.7667 - 70ms/epoch - 5ms/step\n"
          ]
        }
      ]
    },
    {
      "cell_type": "code",
      "source": [
        "random_layers.parameters"
      ],
      "metadata": {
        "colab": {
          "base_uri": "https://localhost:8080/"
        },
        "id": "RiaVKx1fjQH7",
        "outputId": "2b079873-0b5b-4734-c32b-8c6dc9597a26"
      },
      "execution_count": null,
      "outputs": [
        {
          "output_type": "execute_result",
          "data": {
            "text/plain": [
              "[tensor([[3.72495259, 5.30467815, 5.3906313 , 5.32343968],\n",
              "         [3.91796626, 2.4151415 , 1.86946507, 0.35633815],\n",
              "         [1.71315002, 3.00125845, 5.10300662, 3.01578552],\n",
              "         [2.46793966, 5.2532378 , 2.1199226 , 4.07258398],\n",
              "         [2.31372983, 6.01398323, 0.88184996, 5.46691948],\n",
              "         [2.97576711, 5.03227067, 3.27025645, 4.26552589]], requires_grad=True)]"
            ]
          },
          "metadata": {},
          "execution_count": 12
        }
      ]
    },
    {
      "cell_type": "code",
      "source": [
        "rand_params"
      ],
      "metadata": {
        "colab": {
          "base_uri": "https://localhost:8080/"
        },
        "id": "abiwqXrYjSd5",
        "outputId": "8068bafe-3bc2-480e-9cb8-1cc111b83426"
      },
      "execution_count": null,
      "outputs": [
        {
          "output_type": "execute_result",
          "data": {
            "text/plain": [
              "tensor([[3.72495259, 5.30467815, 5.3906313 , 5.32343968],\n",
              "        [3.91796626, 2.4151415 , 1.86946507, 0.35633815],\n",
              "        [1.71315002, 3.00125845, 5.10300662, 3.01578552],\n",
              "        [2.46793966, 5.2532378 , 2.1199226 , 4.07258398],\n",
              "        [2.31372983, 6.01398323, 0.88184996, 5.46691948],\n",
              "        [2.97576711, 5.03227067, 3.27025645, 4.26552589]], requires_grad=True)"
            ]
          },
          "metadata": {},
          "execution_count": 14
        }
      ]
    },
    {
      "cell_type": "code",
      "source": [
        "import matplotlib.pyplot as plt\n",
        "\n",
        "plt.style.use(\"seaborn\")\n",
        "fig, (ax1, ax2) = plt.subplots(2, 1, figsize=(6, 9))\n",
        "\n",
        "ax1.plot(q_history.history[\"val_accuracy\"], \"-ob\", label=\"With quantum layer\")\n",
        "ax1.plot(c_history.history[\"val_accuracy\"], \"-og\", label=\"Without quantum layer\")\n",
        "ax1.set_ylabel(\"Accuracy\")\n",
        "ax1.set_ylim([0, 1])\n",
        "ax1.set_xlabel(\"Epoch\")\n",
        "ax1.legend()\n",
        "\n",
        "ax2.plot(q_history.history[\"val_loss\"], \"-ob\", label=\"With quantum layer\")\n",
        "ax2.plot(c_history.history[\"val_loss\"], \"-og\", label=\"Without quantum layer\")\n",
        "ax2.set_ylabel(\"Loss\")\n",
        "ax2.set_ylim(top=2.5)\n",
        "ax2.set_xlabel(\"Epoch\")\n",
        "ax2.legend()\n",
        "plt.tight_layout()\n",
        "plt.show()"
      ],
      "metadata": {
        "id": "-wRYE71zdnby",
        "colab": {
          "base_uri": "https://localhost:8080/",
          "height": 961
        },
        "outputId": "5d9993a1-080c-42de-898e-de92d43170ac"
      },
      "execution_count": null,
      "outputs": [
        {
          "output_type": "stream",
          "name": "stderr",
          "text": [
            "<ipython-input-39-c3ef9ba498fb>:3: MatplotlibDeprecationWarning: The seaborn styles shipped by Matplotlib are deprecated since 3.6, as they no longer correspond to the styles shipped by seaborn. However, they will remain available as 'seaborn-v0_8-<style>'. Alternatively, directly use the seaborn API instead.\n",
            "  plt.style.use(\"seaborn\")\n"
          ]
        },
        {
          "output_type": "display_data",
          "data": {
            "text/plain": [
              "<Figure size 600x900 with 2 Axes>"
            ],
            "image/png": "[encoded data removed]"
          },
          "metadata": {}
        }
      ]
    }
  ]
}