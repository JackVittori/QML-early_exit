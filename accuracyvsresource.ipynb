{
 "cells": [
  {
   "cell_type": "code",
   "id": "initial_id",
   "metadata": {
    "collapsed": true,
    "ExecuteTime": {
     "end_time": "2024-09-26T14:03:01.260875Z",
     "start_time": "2024-09-26T14:02:59.097818Z"
    }
   },
   "source": [
    "import torch\n",
    "import pandas as pd\n",
    "import pennylane as qml\n",
    "from pennylane import numpy as np\n",
    "import torchvision.datasets as datasets\n",
    "import torchvision.transforms as transforms\n",
    "from data_utils import mnist_preparation, add_salt_and_pepper_noise \n",
    "from evaluationUtils import calculate_mcm_accuracy\n",
    "from tqdm import tqdm\n",
    "import matplotlib as plt\n",
    "from mcmadaptablemodel import MCMQuantumModel, MCMCircuit\n",
    "from pennylane import Device\n",
    "from pennylane.measurements import StateMP\n",
    "from torch.nn import Module, ParameterDict\n",
    "import matplotlib.pyplot as plt\n",
    "from OriginalModel import FullQuantumModel, QuantumCircuit\n",
    "import warnings\n",
    "from typing import Optional, Dict, List, Any\n",
    "from torch.utils.data import DataLoader, dataloader\n",
    "from time import time\n",
    "import math\n",
    "from pennylane.measurements import MidMeasureMP\n",
    "torch.manual_seed(1234)"
   ],
   "execution_count": 1,
   "outputs": []
  },
  {
   "metadata": {},
   "cell_type": "markdown",
   "source": "# No noise",
   "id": "a0d9029574ed88dd"
  },
  {
   "metadata": {
    "ExecuteTime": {
     "end_time": "2024-09-26T15:08:06.109410Z",
     "start_time": "2024-09-26T15:08:05.411864Z"
    }
   },
   "cell_type": "code",
   "source": [
    "no_noise_model = MCMQuantumModel(qubits=8, layers=8, early_exits=[3])\n",
    "no_noise_model.draw(style='sketch')"
   ],
   "id": "8efa263b733f6b11",
   "execution_count": 35,
   "outputs": []
  },
  {
   "metadata": {
    "ExecuteTime": {
     "end_time": "2024-09-26T14:03:13.067629Z",
     "start_time": "2024-09-26T14:03:10.220292Z"
    }
   },
   "cell_type": "code",
   "source": [
    "labels = [0,1,2,3]\n",
    "# Download MNIST and prepare transforms\n",
    "mnist = datasets.MNIST(root='./data', train=True, download=True, transform=transforms.Compose([\n",
    "                                transforms.Resize((16, 16)),  # Resize to 16x16\n",
    "                                transforms.ToTensor(),\n",
    "                                transforms.Lambda(lambda img: add_salt_and_pepper_noise(img, salt_prob=0.1, pepper_prob=0.1)),\n",
    "                                transforms.Normalize((0.1307,), (0.3081,))  # Normalize\n",
    "                             ]))\n",
    "#train/vali/test 70/15/15 split, see data_utils.py for further details\n",
    "train_dataloader, validation_dataloader, test_dataloader = mnist_preparation(dataset=mnist, labels = labels, train_test_ratio=0.7,batch_size=64, vali_test_ratio=0.5)\n",
    "\n",
    "print(\"Images in the training set: \", len(train_dataloader.dataset), \"\\n Images in the validation set: \", len(validation_dataloader.dataset), \"\\n Images in the test set: \", len(test_dataloader.dataset))"
   ],
   "id": "5d3798500e53906f",
   "execution_count": 2,
   "outputs": []
  },
  {
   "metadata": {},
   "cell_type": "code",
   "source": "mcm_accuracy, fm_accuracy, loss_history = no_noise_model.fit(dataloader=train_dataloader, learning_rate=0.001, epochs=50, show_plot=True)",
   "id": "dc364dbc3a9cc9cc",
   "execution_count": null,
   "outputs": []
  },
  {
   "metadata": {
    "ExecuteTime": {
     "end_time": "2024-09-25T20:52:20.501964Z",
     "start_time": "2024-09-25T20:52:20.499004Z"
    }
   },
   "cell_type": "code",
   "source": [
    "\"\"\"import pickle\n",
    "\n",
    "trained_params = no_noise_model.params\n",
    "data = {\n",
    "    'model_params': trained_params,\n",
    "    'mcm_accuracy': mcm_accuracy,\n",
    "    'fm_accuracy': fm_accuracy,\n",
    "    'loss_history': loss_history\n",
    "}\n",
    "\n",
    "with open(\"/Users/jackvittori/Desktop/highnoise/traininghistory.pickle\", \"wb\") as file:\n",
    "    pickle.dump(data, file)\"\"\""
   ],
   "id": "47827ce584ac489a",
   "execution_count": 14,
   "outputs": []
  },
  {
   "metadata": {
    "ExecuteTime": {
     "end_time": "2024-09-25T15:07:58.759198Z",
     "start_time": "2024-09-25T15:07:58.752956Z"
    }
   },
   "cell_type": "code",
   "source": [
    "import pickle\n",
    "with open(\"/Users/jackvittori/Desktop/lownoise/traininghistory.pickle\", \"rb\") as file: \n",
    "    training_history = pickle.load(file)"
   ],
   "id": "a6b637dd273275fd",
   "execution_count": 15,
   "outputs": []
  },
  {
   "metadata": {
    "ExecuteTime": {
     "end_time": "2024-09-25T15:08:04.439435Z",
     "start_time": "2024-09-25T15:08:04.437247Z"
    }
   },
   "cell_type": "code",
   "source": [
    "loss_history = training_history['loss_history']\n",
    "mcm_accuracy = training_history['mcm_accuracy']\n",
    "fm_accuracy = training_history['fm_accuracy']\n",
    "no_noise_mcm = training_history['model_params']"
   ],
   "id": "550119d022b51da",
   "execution_count": 16,
   "outputs": []
  },
  {
   "metadata": {
    "ExecuteTime": {
     "end_time": "2024-09-25T19:19:06.332619Z",
     "start_time": "2024-09-25T19:19:05.728107Z"
    }
   },
   "cell_type": "code",
   "source": [
    "import matplotlib.pyplot as plt\n",
    "from matplotlib.ticker import MaxNLocator\n",
    "\n",
    "plt.style.use('ggplot')\n",
    "fig, (ax1, ax2) = plt.subplots(1, 2, figsize=(20, 5))\n",
    "\n",
    "# Plotting the loss on the first subplot\n",
    "ax1.plot(list(range(50)), loss_history, marker='.', linestyle='-', color='b',\n",
    "         label='Loss per Epoch')\n",
    "ax1.set_title('Training Loss Over Epochs', fontsize=16)\n",
    "ax1.set_xlabel('Epochs', fontsize=14)\n",
    "ax1.set_ylabel('Loss', fontsize=14)\n",
    "ax1.set_xticks(list(range(0, 50, 2)))  # Mostra i tick ogni 5 epochs per ridurre la sovrapposizione\n",
    "ax1.set_ylim(2.4, 2.8)  # Fissa la scala dell'asse y tra 2 e 3\n",
    "ax1.legend()\n",
    "ax1.grid(True)\n",
    "\n",
    "# Plotting mcm_accuracy and fm_accuracy on the same plot (ax2)\n",
    "ax2.plot(list(range(50)), mcm_accuracy, marker='.', linestyle='--', color='r',\n",
    "         label='Mid circuit accuracy per epoch')\n",
    "ax2.plot(list(range(50)), fm_accuracy, marker='.', linestyle='--', color='g',\n",
    "         label='Final circuit accuracy per epoch')\n",
    "ax2.set_title('Training Accuracy Over Epochs', fontsize=16)\n",
    "ax2.set_xlabel('Epochs', fontsize=14)\n",
    "ax2.set_ylabel('Accuracy', fontsize=14)\n",
    "ax2.set_xticks(list(range(0, 50, 2)))  # Mostra i tick ogni 5 epochs per ridurre la sovrapposizione\n",
    "ax2.set_ylim(0.20, 0.95)  # Fissa la scala dell'asse y tra 0.20 e 0.95\n",
    "ax2.legend()\n",
    "ax2.grid(True)\n",
    "\n",
    "\n",
    "plt.tight_layout()\n",
    "plt.savefig('/Users/jackvittori/Desktop/lownoise/training010.png', dpi=300)\n",
    "plt.show()"
   ],
   "id": "b2bd053d0d1c6120",
   "execution_count": 8,
   "outputs": []
  },
  {
   "metadata": {},
   "cell_type": "markdown",
   "source": "Evaluation utils",
   "id": "2e2642782a021220"
  },
  {
   "metadata": {
    "ExecuteTime": {
     "end_time": "2024-09-26T14:03:30.820660Z",
     "start_time": "2024-09-26T14:03:30.813530Z"
    }
   },
   "cell_type": "code",
   "source": [
    "def early_evaluation_utils(params: Dict, state: torch.Tensor = None): \n",
    "    first_pair = [0,1]\n",
    "    measurements = []\n",
    "    if state is not None:\n",
    "        # state vector initialization with input\n",
    "        qml.QubitStateVector(state, wires=range(8))\n",
    "    for i in range(4):\n",
    "        for j in range(8):\n",
    "            qml.RX(params[f'layer_{i}'][j, 0], wires=j)\n",
    "            qml.RY(params[f'layer_{i}'][j, 1], wires=j)\n",
    "            qml.RZ(params[f'layer_{i}'][j, 2], wires=j)\n",
    "        for j in range(8):\n",
    "            qml.CNOT(wires=[j, (j + 1) % 8])\n",
    "    \n",
    "    for w in first_pair: \n",
    "        measurements.append(qml.measure(wires=w)) #measure first pair of qubits\n",
    "    return measurements\n",
    "\n",
    "def fully_evaluation_utils(params: Dict, state: torch.Tensor = None):\n",
    "    first_pair = [0,1]\n",
    "    second_pair = [2,3]\n",
    "    mcasurements = []\n",
    "    if state is not None:\n",
    "        # state vector initialization with input\n",
    "        qml.QubitStateVector(state, wires=range(8))\n",
    "    for i in range(4):\n",
    "        for j in range(8):\n",
    "            qml.RX(params[f'layer_{i}'][j, 0], wires=j)\n",
    "            qml.RY(params[f'layer_{i}'][j, 1], wires=j)\n",
    "            qml.RZ(params[f'layer_{i}'][j, 2], wires=j)\n",
    "        for j in range(8):\n",
    "            qml.CNOT(wires=[j, (j + 1) % 8])\n",
    "            \n",
    "    for w in first_pair: \n",
    "        mcasurements.append(qml.measure(wires=w)) #measure first pair of qubits\n",
    "\n",
    "    for i in range(4, 8):\n",
    "        for j in range(8):\n",
    "            qml.RX(params[f'layer_{i}'][j, 0], wires=j)\n",
    "            qml.RY(params[f'layer_{i}'][j, 1], wires=j)\n",
    "            qml.RZ(params[f'layer_{i}'][j, 2], wires=j)\n",
    "        for j in range(8):\n",
    "            qml.CNOT(wires=[j, (j + 1) % 8])\n",
    "\n",
    "    for w in second_pair:\n",
    "        mcasurements.append(qml.measure(wires=w))\n",
    "\n",
    "    return mcasurements\n",
    "\n",
    "dev = qml.device(\"default.qubit\", wires=8)\n",
    "@qml.qnode(dev)  \n",
    "def early_evaluation_ansatz(params: Dict, state: torch.Tensor = None):\n",
    "    early_measurement = early_evaluation_utils(params=params, state=state)\n",
    "    return qml.probs(op=early_measurement)\n",
    "\n",
    "@qml.qnode(dev)\n",
    "def fully_evaluation_ansatz(params: Dict, state: torch.Tensor = None):\n",
    "    measurements = fully_evaluation_utils(params=params, state=state)\n",
    "    mid_measurement = measurements[:2]\n",
    "    final_measurement = measurements[2:]\n",
    "    return qml.probs(op=mid_measurement), qml.probs(op=final_measurement)"
   ],
   "id": "94e163dbb4a93cf9",
   "execution_count": 3,
   "outputs": []
  },
  {
   "metadata": {},
   "cell_type": "markdown",
   "source": "# Output probabilities distribution",
   "id": "fef186d4493e2375"
  },
  {
   "metadata": {
    "ExecuteTime": {
     "end_time": "2024-09-25T15:10:38.669630Z",
     "start_time": "2024-09-25T15:09:09.116437Z"
    }
   },
   "cell_type": "code",
   "source": [
    "early_probs_distribution = []\n",
    "final_probs_distribution = []\n",
    "for img, target in tqdm(validation_dataloader.dataset): \n",
    "    img = img / torch.linalg.norm(img).view(-1, 1)\n",
    "    evaluation = fully_evaluation_ansatz(params=no_noise_mcm, state=img)\n",
    "    early_full, final_full = evaluation\n",
    "    \n",
    "    early_prediction = torch.argmax(early_full, dim=1)\n",
    "    early_probs = early_full[0, early_prediction].item()\n",
    "    \n",
    "    final_prediction = torch.argmax(final_full, dim=1)\n",
    "    final_probs = final_full[0, final_prediction].item()\n",
    "    \n",
    "    early_probs_distribution.append(early_probs)\n",
    "    final_probs_distribution.append(final_probs)    "
   ],
   "id": "7a45336239ea8e8",
   "execution_count": 26,
   "outputs": []
  },
  {
   "metadata": {
    "ExecuteTime": {
     "end_time": "2024-09-25T15:10:40.685143Z",
     "start_time": "2024-09-25T15:10:40.269879Z"
    }
   },
   "cell_type": "code",
   "source": [
    "plt.style.use('ggplot')\n",
    "fig, ax = plt.subplots(figsize=(10, 5))\n",
    "\n",
    "# Creazione dell'istogramma per il primo array\n",
    "ax.hist(early_probs_distribution, bins=60, density=False, alpha=0.5, color='g', edgecolor='black', label='Mid circuit probability distribution')\n",
    "\n",
    "# Creazione dell'istogramma per il secondo array\n",
    "ax.hist(final_probs_distribution, bins=60, density=False, alpha=0.5, color='r', edgecolor='black', label='final circuit probability distribution')\n",
    "\n",
    "# Titolo e etichette degli assi\n",
    "ax.set_title('Prediction confidence distribution', fontsize=16)\n",
    "ax.set_xlabel('Prediction confidence', fontsize=14)\n",
    "ax.set_ylabel('Occurrencies', fontsize=14)\n",
    "\n",
    "# Aggiunta della legenda per distinguere le distribuzioni\n",
    "ax.legend()\n",
    "\n",
    "# Griglia e layout\n",
    "ax.grid(True)\n",
    "plt.tight_layout()\n",
    "\n",
    "plt.savefig('/Users/jackvittori/Desktop/accuracyvsresources/probability_distribution_two_arrays.png', dpi=300)\n",
    "plt.show()"
   ],
   "id": "132c12db891d08c4",
   "execution_count": 27,
   "outputs": []
  },
  {
   "metadata": {},
   "cell_type": "markdown",
   "source": "# Evaluation with threshold",
   "id": "4f07f3e28a792534"
  },
  {
   "metadata": {
    "ExecuteTime": {
     "end_time": "2024-09-25T15:11:34.257011Z",
     "start_time": "2024-09-25T15:11:34.250221Z"
    }
   },
   "cell_type": "code",
   "source": [
    "def evaluation_routine(dataloader: DataLoader, parameters: Dict, threshold: float):\n",
    "    \n",
    "    evaluation_results = []\n",
    "    early_results = []\n",
    "    count_1 = 0 #counter for early classified images\n",
    "    count_2 = 0 #counter for final classified images\n",
    "    early_correct = 0 #counter for correctly early classified images \n",
    "    final_correct = 0 #counter for correctly final classified images\n",
    "    executed_layers = 0\n",
    "    for img, target in dataloader.dataset:\n",
    "        #img normalization\n",
    "        img = img / torch.linalg.norm(img).view(-1, 1)\n",
    "        \n",
    "        #mid circuit evaluation\n",
    "        early_probs = early_evaluation_ansatz(params=parameters, state=img)\n",
    "        early_prediction = torch.argmax(early_probs, dim=1)\n",
    "        confidence = early_probs[0, early_prediction].item()\n",
    "        early_guess = early_prediction == target\n",
    "        early_results.append(early_guess.item())\n",
    "        \n",
    "        if confidence >= threshold:\n",
    "            evaluation_results.append(early_guess.item())\n",
    "            count_1 += 1\n",
    "            executed_layers += 4\n",
    "            if early_guess: \n",
    "                early_correct += 1\n",
    "            \n",
    "        else: \n",
    "            final_probs = fully_evaluation_ansatz(params=parameters, state=img)\n",
    "            early_full, final_full = final_probs\n",
    "            final_predictions = torch.argmax(final_full, dim=1)\n",
    "            final_guess = final_predictions == target\n",
    "            evaluation_results.append(final_guess.item())\n",
    "            count_2 += 1\n",
    "            executed_layers += 12\n",
    "            \n",
    "            if final_guess: \n",
    "                final_correct += 1\n",
    "    total_accuracy = sum([1 for i in evaluation_results if i == True])/len(evaluation_results)\n",
    "    early_total_accuracy = sum([1 for i in early_results if i == True])/len(early_results)\n",
    "    early_exited_accuracy = early_correct/count_1 if count_1 > 0 else 0\n",
    "    final_exited_accuracy = final_correct/count_2 if count_2 > 0 else 0\n",
    "    \n",
    "    return total_accuracy, early_total_accuracy, early_exited_accuracy, count_1, final_exited_accuracy, count_2, executed_layers"
   ],
   "id": "bc490f7c55f0cdb0",
   "execution_count": 28,
   "outputs": []
  },
  {
   "metadata": {
    "ExecuteTime": {
     "end_time": "2024-09-25T15:11:34.657795Z",
     "start_time": "2024-09-25T15:11:34.654253Z"
    }
   },
   "cell_type": "code",
   "source": [
    "def explain_evaluation(dataloader: DataLoader, parameters: Dict, threshold: List[float]):\n",
    "    summary_data = {\n",
    "    'Threshold': [],\n",
    "    'Total Accuracy': [],\n",
    "    '# early exited images': [],\n",
    "    'Early exited Accuracy': [],\n",
    "    'Early total accuracy': [],\n",
    "    '# final classified images': [],\n",
    "    'Final classified Accuracy': [],\n",
    "    \"Executed layers\": []}\n",
    "    \n",
    "    for t in tqdm(threshold):\n",
    "        total_accuracy, early_total_accuracy, early_exited_accuracy, count_1, final_exited_accuracy, count_2, executed_layers = evaluation_routine(dataloader, parameters, t)\n",
    "        summary_data['Threshold'].append(t)\n",
    "        summary_data['Total Accuracy'].append(total_accuracy)\n",
    "        summary_data['# early exited images'].append(count_1)\n",
    "        summary_data['Early exited Accuracy'].append(early_exited_accuracy)\n",
    "        summary_data['Early total accuracy'].append(early_total_accuracy)\n",
    "        summary_data['# final classified images'].append(count_2)\n",
    "        summary_data['Final classified Accuracy'].append(final_exited_accuracy)\n",
    "        summary_data['Executed layers'].append(executed_layers)\n",
    "        \n",
    "    df = pd.DataFrame(summary_data)\n",
    "    return summary_data, df"
   ],
   "id": "70b10ae18c894895",
   "execution_count": 29,
   "outputs": []
  },
  {
   "metadata": {
    "ExecuteTime": {
     "end_time": "2024-09-25T15:11:35.837197Z",
     "start_time": "2024-09-25T15:11:35.835093Z"
    }
   },
   "cell_type": "code",
   "source": "",
   "id": "bd159592f3278dab",
   "execution_count": 30,
   "outputs": []
  },
  {
   "metadata": {
    "ExecuteTime": {
     "end_time": "2024-09-25T15:52:07.924875Z",
     "start_time": "2024-09-25T15:11:43.745387Z"
    }
   },
   "cell_type": "code",
   "source": "summary, table = explain_evaluation(validation_dataloader, no_noise_mcm, thresholds)",
   "id": "f5ce0db6354f9d7f",
   "execution_count": 31,
   "outputs": []
  },
  {
   "metadata": {
    "ExecuteTime": {
     "end_time": "2024-09-25T15:52:07.928459Z",
     "start_time": "2024-09-25T15:52:07.925644Z"
    }
   },
   "cell_type": "code",
   "source": [
    "\"\"\"import pickle\n",
    "\n",
    " \"\"\""
   ],
   "id": "d2e2cc6753e5c88e",
   "execution_count": 32,
   "outputs": []
  },
  {
   "metadata": {},
   "cell_type": "markdown",
   "source": "E' strano ma le accuracy totali dopo una certa threshold variano solo delle cifre decimali successive",
   "id": "b52fa31467f834b0"
  },
  {
   "metadata": {},
   "cell_type": "markdown",
   "source": "# Accuracy vs computational cost",
   "id": "2a7f51d69588d0d"
  },
  {
   "metadata": {
    "ExecuteTime": {
     "end_time": "2024-09-30T18:47:43.973193Z",
     "start_time": "2024-09-30T18:47:43.709138Z"
    }
   },
   "cell_type": "code",
   "source": [
    "import pickle\n",
    "with open(\"/Users/jackvittori/Desktop/lownoise/evaluation01.pickle\", \"rb\") as file: \n",
    "    evaluation_data = pickle.load(file)"
   ],
   "id": "1c835fe72057064f",
   "execution_count": 1,
   "outputs": []
  },
  {
   "metadata": {
    "ExecuteTime": {
     "end_time": "2024-09-30T18:47:45.018801Z",
     "start_time": "2024-09-30T18:47:45.016858Z"
    }
   },
   "cell_type": "code",
   "source": [
    "summary = evaluation_data['summary']\n",
    "table = evaluation_data['table']"
   ],
   "id": "787f8d006c849d9d",
   "execution_count": 2,
   "outputs": []
  },
  {
   "metadata": {
    "ExecuteTime": {
     "end_time": "2024-09-30T18:47:45.374799Z",
     "start_time": "2024-09-30T18:47:45.372482Z"
    }
   },
   "cell_type": "code",
   "source": [
    "computational_resource = summary['Executed layers']\n",
    "error_rate = [(1-x)/(1-0.8095879342849448) for x in summary['Total Accuracy']]\n",
    "computational_resource = [x/(3713*8) for x in computational_resource]"
   ],
   "id": "297796b30c9cf1b3",
   "execution_count": 3,
   "outputs": []
  },
  {
   "metadata": {
    "ExecuteTime": {
     "end_time": "2024-09-30T18:47:45.672106Z",
     "start_time": "2024-09-30T18:47:45.664947Z"
    }
   },
   "cell_type": "code",
   "source": "table",
   "id": "5e5f4e25aac08d89",
   "execution_count": 4,
   "outputs": []
  },
  {
   "metadata": {
    "ExecuteTime": {
     "end_time": "2024-09-30T18:47:46.583039Z",
     "start_time": "2024-09-30T18:47:46.251662Z"
    }
   },
   "cell_type": "code",
   "source": [
    "import matplotlib.pyplot as plt\n",
    "\n",
    "plt.style.use('ggplot')  # Imposta lo stile 'ggplot'\n",
    "fig, ax = plt.subplots(figsize=(10, 5))\n",
    "\n",
    "# Creazione dello scatterplot principale\n",
    "ax.scatter(computational_resource, error_rate, marker='.', color='black', alpha=0.7, edgecolor='black', s=100, label='Early exit model')\n",
    "\n",
    "# Aggiunta di due punti con coordinate specifiche\n",
    "ax.scatter(1, 1,  marker='o', color='r', alpha=0.7, edgecolor='black', s=100, label='Original model with 8 layers')  # Punto 1 (coordinate esempio 5, 0.9)\n",
    "ax.scatter(0.5, (1-0.7182870993805548)/(1-0.8095879342849448),  marker='o', color='g', alpha=0.7, edgecolor='black', s=100, label='Original model with 4 layers')  # Punto 2 (coordinate esempio 10, 0.95)\n",
    "ax.axvline(x=1, color='black', linestyle='--')\n",
    "ax.axvline(x=0.5, color='black', linestyle='--')\n",
    "# Titolo e assi\n",
    "ax.set_title('Relative error rate vs Computational ', fontsize=16)\n",
    "ax.set_xlabel('Computational resources', fontsize=14)\n",
    "ax.set_ylabel('Relative Error rate', fontsize=14)\n",
    "\n",
    "# Aggiunta della legenda con la nuova posizione\n",
    "ax.legend(loc='lower right')  # Cambia la posizione della legenda\n",
    "\n",
    "# Griglia e layout\n",
    "ax.grid(True)\n",
    "plt.tight_layout()\n",
    "\n",
    "# Salvataggio dell'immagine\n",
    "#plt.savefig('/Users/jackvittori/Desktop/highnoise/accvsres.png', dpi=300)\n",
    "plt.show()"
   ],
   "id": "5af11e63fc3a640",
   "execution_count": 5,
   "outputs": []
  },
  {
   "metadata": {},
   "cell_type": "code",
   "execution_count": null,
   "source": [
    "LOW\n",
    "sp = 0.1, 4 layer = 0.7182870993805548\n",
    "\n",
    "sp = 0.1, 8 layer = 0.8095879342849448\n",
    "\n",
    "MID\n",
    "sp = 0.15, 4 layer = 0.6455696202531646\n",
    "\n",
    "sp = 0.15, 8 layer = 0.7266361432803663\n",
    "\n",
    "HIGH\n",
    "sp = 0.2, 4 layer = 0.5704282251548612\n",
    "\n",
    "sp = 0.2, 8 layer = 0.6506867761917586"
   ],
   "id": "8fd83aba299a0490",
   "outputs": []
  }
 ],
 "metadata": {
  "kernelspec": {
   "display_name": "Python 3",
   "language": "python",
   "name": "python3"
  },
  "language_info": {
   "codemirror_mode": {
    "name": "ipython",
    "version": 2
   },
   "file_extension": ".py",
   "mimetype": "text/x-python",
   "name": "python",
   "nbconvert_exporter": "python",
   "pygments_lexer": "ipython2",
   "version": "2.7.6"
  }
 },
 "nbformat": 4,
 "nbformat_minor": 5
}
