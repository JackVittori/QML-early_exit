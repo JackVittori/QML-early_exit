{
 "cells": [
  {
   "cell_type": "code",
   "id": "initial_id",
   "metadata": {
    "collapsed": true,
    "ExecuteTime": {
     "end_time": "2024-09-26T22:14:27.288594Z",
     "start_time": "2024-09-26T22:14:27.276844Z"
    }
   },
   "source": [
    "import torch\n",
    "import pandas as pd\n",
    "import pennylane as qml\n",
    "from pennylane import numpy as np\n",
    "import torchvision.datasets as datasets\n",
    "import torchvision.transforms as transforms\n",
    "from data_utils import mnist_preparation, add_salt_and_pepper_noise \n",
    "from evaluationUtils import calculate_mcm_accuracy\n",
    "from tqdm import tqdm\n",
    "import matplotlib as plt\n",
    "from mcmadaptablemodel import MCMQuantumModel, MCMCircuit\n",
    "from pennylane import Device\n",
    "from pennylane.measurements import StateMP\n",
    "from torch.nn import Module, ParameterDict\n",
    "import matplotlib.pyplot as plt\n",
    "from OriginalModel import FullQuantumModel, QuantumCircuit\n",
    "import warnings\n",
    "from typing import Optional, Dict, List, Any\n",
    "from torch.utils.data import DataLoader, dataloader\n",
    "from time import time\n",
    "import math\n",
    "from pennylane.measurements import MidMeasureMP\n",
    "torch.manual_seed(1234)"
   ],
   "execution_count": 4,
   "outputs": []
  },
  {
   "metadata": {
    "ExecuteTime": {
     "end_time": "2024-09-26T22:14:29.970585Z",
     "start_time": "2024-09-26T22:14:27.566929Z"
    }
   },
   "cell_type": "code",
   "source": [
    "labels = [0,1,2,3]\n",
    "# Download MNIST and prepare transforms\n",
    "mnist = datasets.MNIST(root='./data', train=True, download=True, transform=transforms.Compose([\n",
    "                                transforms.Resize((16, 16)),  # Resize to 16x16\n",
    "                                transforms.ToTensor(),\n",
    "                                #transforms.Lambda(lambda img: add_salt_and_pepper_noise(img, salt_prob=0.1, pepper_prob=0.1)),\n",
    "                                transforms.Normalize((0.1307,), (0.3081,))  # Normalize\n",
    "                             ]))\n",
    "#train/vali/test 70/15/15 split, see data_utils.py for further details\n",
    "train_dataloader, validation_dataloader, test_dataloader = mnist_preparation(dataset=mnist, labels = labels, train_test_ratio=0.7,batch_size=64, vali_test_ratio=0.5)\n",
    "\n",
    "print(\"Images in the training set: \", len(train_dataloader.dataset), \"\\n Images in the validation set: \", len(validation_dataloader.dataset), \"\\n Images in the test set: \", len(test_dataloader.dataset))"
   ],
   "id": "40a833ed3a125ca",
   "execution_count": 5,
   "outputs": []
  },
  {
   "metadata": {},
   "cell_type": "markdown",
   "source": "# 1 early exit",
   "id": "e94205845872a17b"
  },
  {
   "metadata": {
    "ExecuteTime": {
     "end_time": "2024-09-26T22:14:30.596633Z",
     "start_time": "2024-09-26T22:14:29.971499Z"
    }
   },
   "cell_type": "code",
   "source": [
    "mcm_model_1 = MCMQuantumModel(qubits=8, layers=8, early_exits=[3])\n",
    "mcm_model_1.draw(style='sketch')"
   ],
   "id": "5e6258117c92211e",
   "execution_count": 6,
   "outputs": []
  },
  {
   "metadata": {
    "ExecuteTime": {
     "end_time": "2024-09-26T23:46:35.857664Z",
     "start_time": "2024-09-26T22:14:30.597271Z"
    }
   },
   "cell_type": "code",
   "source": [
    "mcm_accuracy, fm_accuracy, loss_history = mcm_model_1.fit(dataloader=train_dataloader, sched_epochs = 15, learning_rate=[0.01, 0.001],\n",
    "            epochs=50, show_plot = True)"
   ],
   "id": "7d09165e39b643cb",
   "execution_count": 7,
   "outputs": []
  },
  {
   "metadata": {
    "ExecuteTime": {
     "end_time": "2024-09-26T23:46:35.864355Z",
     "start_time": "2024-09-26T23:46:35.859448Z"
    }
   },
   "cell_type": "code",
   "source": [
    "import pickle\n",
    "\n",
    "dict = {'mcm_accuracy': mcm_accuracy,\n",
    "        'fm_accuracy': fm_accuracy,\n",
    "        'loss_history': loss_history, \n",
    "        'weights': mcm_model_1.params}\n",
    "\n",
    "with open('/Users/jackvittori/Desktop/allenamento26sett/early_exit_3', 'wb') as file:\n",
    "    pickle.dump(dict, file)"
   ],
   "id": "d9115362ba720ddf",
   "execution_count": 8,
   "outputs": []
  },
  {
   "metadata": {},
   "cell_type": "markdown",
   "source": "# 2 early exit ",
   "id": "f0c3e9fd755811e3"
  },
  {
   "metadata": {
    "ExecuteTime": {
     "end_time": "2024-09-27T03:37:57.287960Z",
     "start_time": "2024-09-26T23:46:35.865072Z"
    }
   },
   "cell_type": "code",
   "source": [
    "mcm_model_2 = MCMQuantumModel(qubits=8, layers=8, early_exits=[3,4])\n",
    "early_1_accuracy, early_2_accuracy, fm_accuracy, loss_history = mcm_model_2.fit(dataloader=train_dataloader, sched_epochs = 15, learning_rate=[0.01, 0.001],\n",
    "            epochs=50, show_plot = True)\n",
    "dict = {'early_1': early_1_accuracy,\n",
    "        'early_2': early_2_accuracy,\n",
    "        'fm_accuracy': fm_accuracy, \n",
    "        'loss_history': loss_history,\n",
    "        'weights': mcm_model_2.params}\n",
    "\n",
    "with open('/Users/jackvittori/Desktop/allenamento26sett/early_exit_34', 'wb') as file:\n",
    "    pickle.dump(dict, file)"
   ],
   "id": "a34e7529778b3c14",
   "execution_count": 9,
   "outputs": []
  },
  {
   "metadata": {},
   "cell_type": "markdown",
   "source": "# 2 early exit ",
   "id": "4806d51ee8f19e88"
  },
  {
   "metadata": {
    "ExecuteTime": {
     "end_time": "2024-09-27T06:19:22.527500Z",
     "start_time": "2024-09-27T03:37:57.288811Z"
    }
   },
   "cell_type": "code",
   "source": [
    "mcm_model_3 = MCMQuantumModel(qubits=8, layers=8, early_exits=[3,5])\n",
    "early_1_accuracy, early_2_accuracy, fm_accuracy, loss_history = mcm_model_3.fit(dataloader=train_dataloader, sched_epochs = 15, learning_rate=[0.01, 0.001],\n",
    "            epochs=50, show_plot = True)\n",
    "dict = {'early_1': early_1_accuracy,\n",
    "        'early_2': early_2_accuracy,\n",
    "        'fm_accuracy': fm_accuracy, \n",
    "        'loss_history': loss_history,\n",
    "        'weights': mcm_model_3.params}\n",
    "\n",
    "with open('/Users/jackvittori/Desktop/allenamento26sett/early_exit_35', 'wb') as file:\n",
    "    pickle.dump(dict, file)"
   ],
   "id": "82732bb0a195fbc3",
   "execution_count": 10,
   "outputs": []
  },
  {
   "metadata": {},
   "cell_type": "markdown",
   "source": "# 3 early_exit",
   "id": "bda143b469fa9755"
  },
  {
   "metadata": {
    "ExecuteTime": {
     "end_time": "2024-09-27T06:19:22.528265Z",
     "start_time": "2024-09-27T06:19:22.528216Z"
    }
   },
   "cell_type": "code",
   "source": [
    "mcm_model_4 = MCMQuantumModel(qubits=8, layers=8, early_exits=[2,4,6])\n",
    "early_1_accuracy, early_2_accuracy, early_3_accuracy, fm_accuracy, loss_history = mcm_model_4.fit(dataloader=train_dataloader, sched_epochs = 15, learning_rate=[0.01, 0.001],\n",
    "            epochs=50, show_plot = True)\n",
    "dict = {'early_1': early_1_accuracy,\n",
    "        'early_2': early_2_accuracy,\n",
    "        'early_3': early_3_accuracy,\n",
    "        'fm_accuracy': fm_accuracy, \n",
    "        'loss_history': loss_history,\n",
    "        'weights': mcm_model_4.params}\n",
    "\n",
    "with open('/Users/jackvittori/Desktop/allenamento26sett/early_exit_246', 'wb') as file:\n",
    "    pickle.dump(dict, file)"
   ],
   "id": "90fa274d894ee645",
   "execution_count": null,
   "outputs": []
  },
  {
   "metadata": {},
   "cell_type": "markdown",
   "source": "# 3 early exit ",
   "id": "854cd80aef65fdd0"
  },
  {
   "metadata": {
    "ExecuteTime": {
     "end_time": "2024-09-27T06:19:22.528840Z",
     "start_time": "2024-09-27T06:19:22.528795Z"
    }
   },
   "cell_type": "code",
   "source": [
    "mcm_model_5 = MCMQuantumModel(qubits=8, layers=8, early_exits=[3,4,6])\n",
    "early_1_accuracy, early_2_accuracy, early_3_accuracy, fm_accuracy, loss_history = mcm_model_5.fit(dataloader=train_dataloader, sched_epochs = 15, learning_rate=[0.01, 0.001],\n",
    "            epochs=50, show_plot = True)\n",
    "dict = {'early_1': early_1_accuracy,\n",
    "        'early_2': early_2_accuracy,\n",
    "        'early_3': early_3_accuracy,\n",
    "        'fm_accuracy': fm_accuracy, \n",
    "        'loss_history': loss_history,\n",
    "        'weights': mcm_model_5.params}\n",
    "\n",
    "with open('/Users/jackvittori/Desktop/allenamento26sett/early_exit_346', 'wb') as file:\n",
    "    pickle.dump(dict, file)"
   ],
   "id": "8c0647b2ec520ac2",
   "execution_count": null,
   "outputs": []
  },
  {
   "metadata": {},
   "cell_type": "code",
   "execution_count": null,
   "source": "",
   "id": "ce72f01efe1ad48f",
   "outputs": []
  }
 ],
 "metadata": {
  "kernelspec": {
   "display_name": "Python 3",
   "language": "python",
   "name": "python3"
  },
  "language_info": {
   "codemirror_mode": {
    "name": "ipython",
    "version": 2
   },
   "file_extension": ".py",
   "mimetype": "text/x-python",
   "name": "python",
   "nbconvert_exporter": "python",
   "pygments_lexer": "ipython2",
   "version": "2.7.6"
  }
 },
 "nbformat": 4,
 "nbformat_minor": 5
}
