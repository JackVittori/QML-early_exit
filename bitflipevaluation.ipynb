{
 "cells": [
  {
   "metadata": {},
   "cell_type": "markdown",
   "source": "# Modello originale",
   "id": "9cbfb908c8e76951"
  },
  {
   "metadata": {
    "ExecuteTime": {
     "end_time": "2024-09-28T10:26:55.732279Z",
     "start_time": "2024-09-28T10:26:53.643415Z"
    }
   },
   "cell_type": "code",
   "source": [
    "import torch\n",
    "import pandas as pd\n",
    "import pennylane as qml\n",
    "from pennylane import numpy as np\n",
    "import torchvision.datasets as datasets\n",
    "import torchvision.transforms as transforms\n",
    "from data_utils import mnist_preparation, add_salt_and_pepper_noise \n",
    "from evaluationUtils import calculate_mcm_accuracy\n",
    "from tqdm import tqdm\n",
    "import matplotlib as plt\n",
    "from mcmadaptablemodel import MCMQuantumModel, MCMCircuit\n",
    "from bitflipmodel import flipQuantumCircuit, flipFullQuantumModel\n",
    "from pennylane import Device\n",
    "from pennylane.measurements import StateMP\n",
    "from torch.nn import Module, ParameterDict\n",
    "import matplotlib.pyplot as plt\n",
    "from OriginalModel import FullQuantumModel, QuantumCircuit\n",
    "import warnings\n",
    "from typing import Optional, Dict, List, Any\n",
    "from torch.utils.data import DataLoader, dataloader\n",
    "from time import time\n",
    "import math\n",
    "from pennylane.measurements import MidMeasureMP\n",
    "torch.manual_seed(1234)"
   ],
   "id": "4898eeb3fcfc4902",
   "execution_count": 1,
   "outputs": []
  },
  {
   "metadata": {
    "ExecuteTime": {
     "end_time": "2024-09-28T10:27:03.270364Z",
     "start_time": "2024-09-28T10:27:00.795783Z"
    }
   },
   "cell_type": "code",
   "source": [
    "labels = [0,1,2,3]\n",
    "# Download MNIST and prepare transforms\n",
    "mnist = datasets.MNIST(root='./data', train=True, download=True, transform=transforms.Compose([\n",
    "                                transforms.Resize((16, 16)),  # Resize to 16x16\n",
    "                                transforms.ToTensor(),\n",
    "                                transforms.Normalize((0.1307,), (0.3081,))  # Normalize\n",
    "                             ]))\n",
    "#train/vali/test 70/15/15 split, see data_utils.py for further details\n",
    "train_dataloader, validation_dataloader, test_dataloader = mnist_preparation(dataset=mnist, labels = labels, train_test_ratio=0.7,batch_size=3713, vali_test_ratio=0.5)\n",
    "\n",
    "print(\"Images in the training set: \", len(train_dataloader.dataset), \"\\n Images in the validation set: \", len(validation_dataloader.dataset), \"\\n Images in the test set: \", len(test_dataloader.dataset))"
   ],
   "id": "c65f73d360d66d8b",
   "execution_count": 2,
   "outputs": []
  },
  {
   "metadata": {
    "ExecuteTime": {
     "end_time": "2024-09-28T10:27:12.436844Z",
     "start_time": "2024-09-28T10:27:12.304084Z"
    }
   },
   "cell_type": "code",
   "source": [
    "import pickle\n",
    "with open('/Users/jackvittori/Desktop/bitflip/om/trhistory.pickle', \"rb\") as file: \n",
    "    dict = pickle.load(file)"
   ],
   "id": "a826003e8f447036",
   "execution_count": 3,
   "outputs": []
  },
  {
   "metadata": {
    "ExecuteTime": {
     "end_time": "2024-09-26T21:24:08.443365Z",
     "start_time": "2024-09-26T21:24:08.431322Z"
    }
   },
   "cell_type": "code",
   "source": [
    "dev = qml.device(\"default.mixed\", wires=8)\n",
    "@qml.qnode(dev)\n",
    "def quantum_function(params: Dict, prob: float, state: torch.Tensor = None):\n",
    "    measurement = []\n",
    "    if state is not None:\n",
    "        # state vector initialization with input\n",
    "        qml.QubitStateVector(state, wires=range(8))\n",
    "\n",
    "    for i in range(8):\n",
    "        for j in range(8):\n",
    "            qml.RX(params[f'layer_{i}'][j, 0], wires=j)\n",
    "            qml.RY(params[f'layer_{i}'][j, 1], wires=j)\n",
    "            qml.RZ(params[f'layer_{i}'][j, 2], wires=j)\n",
    "        for j in range(8):\n",
    "            qml.CNOT(wires=[j, (j + 1) % 8])\n",
    "            qml.BitFlip(p=prob, wires=(j + 1) % 8)   \n",
    "    return qml.probs()"
   ],
   "id": "a8d2bc9b816295b1",
   "execution_count": 30,
   "outputs": []
  },
  {
   "metadata": {
    "ExecuteTime": {
     "end_time": "2024-09-26T21:32:55.041628Z",
     "start_time": "2024-09-26T21:24:09.149399Z"
    }
   },
   "cell_type": "code",
   "source": [
    "probs_distribution_no = []\n",
    "\n",
    "for img, target in tqdm(test_dataloader.dataset):\n",
    "    img = img / torch.linalg.norm(img).view(-1, 1)\n",
    "    probs = quantum_function(params = dict['weights'], prob=0.001, state=img)\n",
    "    class_probabilities = torch.zeros(4, dtype=torch.float32)\n",
    "    for idx in range(4):\n",
    "    # Calculate the index range for each class\n",
    "        start_idx = int(idx * (256 / 4))\n",
    "        end_idx = int((idx + 1) * (256 / 4))\n",
    "        class_probabilities[idx] = torch.sum(probs[start_idx:end_idx])\n",
    "        \n",
    "    prediction = torch.argmax(class_probabilities)\n",
    "    confidence = class_probabilities[prediction]\n",
    "    probs_distribution_no.append(confidence.item())"
   ],
   "id": "55073f9542acb5ca",
   "execution_count": 31,
   "outputs": []
  },
  {
   "metadata": {
    "ExecuteTime": {
     "end_time": "2024-09-26T21:32:56.437677Z",
     "start_time": "2024-09-26T21:32:56.431147Z"
    }
   },
   "cell_type": "code",
   "source": "probs_distribution_no",
   "id": "dbd3b6fde4f19cce",
   "execution_count": 32,
   "outputs": []
  },
  {
   "metadata": {
    "ExecuteTime": {
     "end_time": "2024-09-26T21:33:14.945625Z",
     "start_time": "2024-09-26T21:33:14.694156Z"
    }
   },
   "cell_type": "code",
   "source": [
    "import numpy as np\n",
    "import matplotlib.pyplot as plt\n",
    "\n",
    "plt.style.use('ggplot')\n",
    "fig, ax = plt.subplots(figsize=(10, 5))\n",
    "\n",
    "# Creazione dell'istogramma per il terzo array con maggiore trasparenza\n",
    "ax.hist(probs_distribution_no, bins=60, density=False, alpha=0.2, color='green', edgecolor='black', label='Original model probability distribution')\n",
    "\n",
    "# Titolo e etichette degli assi\n",
    "ax.set_title('Prediction confidence bit flip original model', fontsize=16)\n",
    "ax.set_xlabel('Prediction confidence', fontsize=14)\n",
    "ax.set_ylabel('Occurrencies', fontsize=14)\n",
    "\n",
    "# Imposta i tick dell'asse X con intervalli di 0.05 da 0.25 a 0.6\n",
    "ax.set_xticks(np.arange(0.25, 0.65, 0.05))\n",
    "\n",
    "# Aggiunta della legenda per distinguere le distribuzioni\n",
    "ax.legend()\n",
    "\n",
    "# Griglia e layout\n",
    "ax.grid(True)\n",
    "plt.tight_layout()\n",
    "\n",
    "# Salvataggio del grafico\n",
    "plt.savefig('/Users/jackvittori/Desktop/bitflip/om/bitflip001.png', dpi=300)\n",
    "plt.show()"
   ],
   "id": "6d09e51828d8dfbd",
   "execution_count": 33,
   "outputs": []
  }
 ],
 "metadata": {
  "kernelspec": {
   "display_name": "Python 3",
   "language": "python",
   "name": "python3"
  },
  "language_info": {
   "codemirror_mode": {
    "name": "ipython",
    "version": 2
   },
   "file_extension": ".py",
   "mimetype": "text/x-python",
   "name": "python",
   "nbconvert_exporter": "python",
   "pygments_lexer": "ipython2",
   "version": "2.7.6"
  }
 },
 "nbformat": 4,
 "nbformat_minor": 5
}
