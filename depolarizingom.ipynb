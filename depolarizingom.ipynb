{
 "cells": [
  {
   "metadata": {
    "ExecuteTime": {
     "end_time": "2024-10-08T08:41:04.406406Z",
     "start_time": "2024-10-08T08:41:04.402798Z"
    }
   },
   "cell_type": "code",
   "source": [
    "import random\n",
    "import pickle\n",
    "import pennylane as qml\n",
    "import torch\n",
    "from data_utils import mnist_preparation\n",
    "from typing import Optional, Dict, List, Any\n",
    "from torch.utils.data import DataLoader, dataloader\n",
    "from tqdm import tqdm\n",
    "import torchvision.datasets as datasets\n",
    "import torchvision.transforms as transforms\n",
    "from pennylane import numpy as np"
   ],
   "id": "e68124e585ac5b19",
   "execution_count": 7,
   "outputs": []
  },
  {
   "metadata": {
    "ExecuteTime": {
     "end_time": "2024-10-08T08:41:06.739072Z",
     "start_time": "2024-10-08T08:41:04.574525Z"
    }
   },
   "cell_type": "code",
   "source": [
    "labels = [0,1,2,3]\n",
    "# Download MNIST and prepare transforms\n",
    "mnist = datasets.MNIST(root='./data', train=True, download=True, transform=transforms.Compose([\n",
    "                                transforms.Resize((16, 16)),  # Resize to 16x16\n",
    "                                transforms.ToTensor(),\n",
    "                                #transforms.Lambda(lambda img: add_salt_and_pepper_noise(img, salt_prob=0.1, pepper_prob=0.1)),\n",
    "                                transforms.Normalize((0.1307,), (0.3081,))  # Normalize\n",
    "                             ]))\n",
    "#train/vali/test 70/15/15 split, see data_utils.py for further details\n",
    "train_dataloader, validation_dataloader, test_dataloader = mnist_preparation(dataset=mnist, labels = labels, train_test_ratio=0.7,batch_size=64, vali_test_ratio=0.5)\n",
    "\n",
    "print(\"Images in the training set: \", len(train_dataloader.dataset), \"\\n Images in the validation set: \", len(validation_dataloader.dataset), \"\\n Images in the test set: \", len(test_dataloader.dataset))"
   ],
   "id": "d83df32538d9c632",
   "execution_count": 8,
   "outputs": []
  },
  {
   "metadata": {
    "ExecuteTime": {
     "end_time": "2024-10-08T11:41:27.853854Z",
     "start_time": "2024-10-08T11:41:27.850946Z"
    }
   },
   "cell_type": "code",
   "source": [
    "import pickle\n",
    "with open('/Users/jackvittori/Desktop/allenamento26sett/om/trhistory.pickle', 'rb') as file: \n",
    "    tr_history = pickle.load(file)\n",
    "weights = tr_history['weights']"
   ],
   "id": "50aac92ac943e187",
   "execution_count": 47,
   "outputs": []
  },
  {
   "metadata": {
    "ExecuteTime": {
     "end_time": "2024-10-08T11:41:29.046070Z",
     "start_time": "2024-10-08T11:41:29.042187Z"
    }
   },
   "cell_type": "code",
   "source": [
    "p = 0.12\n",
    "def early_evaluation_utils(state: torch.Tensor = None): \n",
    "    first_pair = [0,1]\n",
    "    if state is not None:\n",
    "        # state vector initialization with input\n",
    "        qml.QubitStateVector(state, wires=range(8))\n",
    "    for i in range(8):\n",
    "        for j in range(8):\n",
    "            qml.RX(weights[f'layer_{i}'][j, 0], wires=j)\n",
    "            qml.RY(weights[f'layer_{i}'][j, 1], wires=j)\n",
    "            qml.RZ(weights[f'layer_{i}'][j, 2], wires=j)\n",
    "        for j in range(8):\n",
    "            qml.CNOT(wires=[j, (j + 1) % 8])\n",
    "            qml.DepolarizingChannel(p=p, wires=(j + 1) % 8)\n",
    "    return qml.probs(wires = first_pair)"
   ],
   "id": "initial_id",
   "execution_count": 48,
   "outputs": []
  },
  {
   "metadata": {
    "ExecuteTime": {
     "end_time": "2024-10-08T11:41:29.641890Z",
     "start_time": "2024-10-08T11:41:29.639216Z"
    }
   },
   "cell_type": "code",
   "source": [
    "\n",
    "mixed_device = qml.device(\"default.mixed\", wires=[0,1,2,3,4,5,6,7,8,9])\n",
    "early_qnode = qml.QNode(early_evaluation_utils, mixed_device)"
   ],
   "id": "77f5add73f067bed",
   "execution_count": 49,
   "outputs": []
  },
  {
   "metadata": {
    "ExecuteTime": {
     "end_time": "2024-10-08T13:36:55.452065Z",
     "start_time": "2024-10-08T11:41:34.567524Z"
    }
   },
   "cell_type": "code",
   "source": [
    "result = []\n",
    "for i, (img, label) in tqdm(enumerate(test_dataloader.dataset)):\n",
    "    img = img.type(torch.float64)\n",
    "    img = img / torch.linalg.norm(img).view(-1, 1) \n",
    "    probs = early_qnode(img)\n",
    "    prediction = torch.argmax(probs)\n",
    "    result.append((prediction, label))\n",
    "     \n",
    "def calculate_accuracy(data):\n",
    "    correct = sum([1 for label, prediction in data if label == prediction])\n",
    "    return correct, correct / len(data)\n",
    "\n",
    "test_results = calculate_accuracy(result)\n",
    "\n",
    "print(test_results[0], \"elements have been correctly classified probability\", p, \"with an accuracy of \", test_results[1])"
   ],
   "id": "e9a209ce88b32b5f",
   "execution_count": 50,
   "outputs": []
  },
  {
   "metadata": {
    "ExecuteTime": {
     "end_time": "2024-10-08T09:06:33.986602Z",
     "start_time": "2024-10-08T09:06:33.984870Z"
    }
   },
   "cell_type": "code",
   "source": "##################",
   "id": "746a652c20c63ccc",
   "execution_count": 20,
   "outputs": []
  },
  {
   "metadata": {
    "ExecuteTime": {
     "end_time": "2024-10-08T10:24:06.772466Z",
     "start_time": "2024-10-08T10:14:35.470703Z"
    }
   },
   "cell_type": "code",
   "source": [
    "p = 0.175\n",
    "def early_evaluation_utils(state: torch.Tensor = None): \n",
    "    first_pair = [0,1]\n",
    "    if state is not None:\n",
    "        # state vector initialization with input\n",
    "        qml.QubitStateVector(state, wires=range(8))\n",
    "    for i in range(8):\n",
    "        for j in range(8):\n",
    "            qml.RX(weights[f'layer_{i}'][j, 0], wires=j)\n",
    "            qml.RY(weights[f'layer_{i}'][j, 1], wires=j)\n",
    "            qml.RZ(weights[f'layer_{i}'][j, 2], wires=j)\n",
    "        for j in range(8):\n",
    "            qml.CNOT(wires=[j, (j + 1) % 8])\n",
    "            qml.DepolarizingChannel(p=p, wires=(j + 1) % 8)\n",
    "    return qml.probs(wires = first_pair)\n",
    "\n",
    "mixed_device = qml.device(\"default.mixed\", wires=[0,1,2,3,4,5,6,7,8,9])\n",
    "early_qnode = qml.QNode(early_evaluation_utils, mixed_device)\n",
    "\n",
    "result = []\n",
    "for i, (img, label) in tqdm(enumerate(test_dataloader.dataset)):\n",
    "    if i == 300:\n",
    "        break \n",
    "    img = img.type(torch.float64)\n",
    "    img = img / torch.linalg.norm(img).view(-1, 1) \n",
    "    probs = early_qnode(img)\n",
    "    prediction = torch.argmax(probs)\n",
    "    result.append((prediction, label))\n",
    "     \n",
    "def calculate_accuracy(data):\n",
    "    correct = sum([1 for label, prediction in data if label == prediction])\n",
    "    return correct, correct / len(data)\n",
    "\n",
    "test_results = calculate_accuracy(result)\n",
    "\n",
    "print(test_results[0], \"elements have been correctly classified probability\", p, \"with an accuracy of \", test_results[1])"
   ],
   "id": "b2e57bc03942a1ae",
   "execution_count": 31,
   "outputs": []
  },
  {
   "metadata": {
    "ExecuteTime": {
     "end_time": "2024-10-08T10:34:23.848852Z",
     "start_time": "2024-10-08T10:24:06.773376Z"
    }
   },
   "cell_type": "code",
   "source": [
    "p = 0.075\n",
    "def early_evaluation_utils(state: torch.Tensor = None): \n",
    "    first_pair = [0,1]\n",
    "    if state is not None:\n",
    "        # state vector initialization with input\n",
    "        qml.QubitStateVector(state, wires=range(8))\n",
    "    for i in range(8):\n",
    "        for j in range(8):\n",
    "            qml.RX(weights[f'layer_{i}'][j, 0], wires=j)\n",
    "            qml.RY(weights[f'layer_{i}'][j, 1], wires=j)\n",
    "            qml.RZ(weights[f'layer_{i}'][j, 2], wires=j)\n",
    "        for j in range(8):\n",
    "            qml.CNOT(wires=[j, (j + 1) % 8])\n",
    "            qml.DepolarizingChannel(p=p, wires=(j + 1) % 8)\n",
    "    return qml.probs(wires = first_pair)\n",
    "\n",
    "mixed_device = qml.device(\"default.mixed\", wires=[0,1,2,3,4,5,6,7,8,9])\n",
    "early_qnode = qml.QNode(early_evaluation_utils, mixed_device)\n",
    "\n",
    "result = []\n",
    "for i, (img, label) in tqdm(enumerate(test_dataloader.dataset)):\n",
    "    if i == 300:\n",
    "        break \n",
    "    img = img.type(torch.float64)\n",
    "    img = img / torch.linalg.norm(img).view(-1, 1) \n",
    "    probs = early_qnode(img)\n",
    "    prediction = torch.argmax(probs)\n",
    "    result.append((prediction, label))\n",
    "     \n",
    "def calculate_accuracy(data):\n",
    "    correct = sum([1 for label, prediction in data if label == prediction])\n",
    "    return correct, correct / len(data)\n",
    "\n",
    "test_results = calculate_accuracy(result)\n",
    "\n",
    "print(test_results[0], \"elements have been correctly classified probability\", p, \"with an accuracy of \", test_results[1])"
   ],
   "id": "dffd1d90793dffea",
   "execution_count": 32,
   "outputs": []
  },
  {
   "metadata": {
    "ExecuteTime": {
     "end_time": "2024-10-08T09:33:35.856362Z",
     "start_time": "2024-10-08T09:24:33.102010Z"
    }
   },
   "cell_type": "code",
   "source": [
    "p = 0.15\n",
    "def early_evaluation_utils(state: torch.Tensor = None): \n",
    "    first_pair = [0,1]\n",
    "    if state is not None:\n",
    "        # state vector initialization with input\n",
    "        qml.QubitStateVector(state, wires=range(8))\n",
    "    for i in range(8):\n",
    "        for j in range(8):\n",
    "            qml.RX(weights[f'layer_{i}'][j, 0], wires=j)\n",
    "            qml.RY(weights[f'layer_{i}'][j, 1], wires=j)\n",
    "            qml.RZ(weights[f'layer_{i}'][j, 2], wires=j)\n",
    "        for j in range(8):\n",
    "            qml.CNOT(wires=[j, (j + 1) % 8])\n",
    "            qml.DepolarizingChannel(p=p, wires=(j + 1) % 8)\n",
    "    return qml.probs(wires = first_pair)\n",
    "\n",
    "mixed_device = qml.device(\"default.mixed\", wires=[0,1,2,3,4,5,6,7,8,9])\n",
    "early_qnode = qml.QNode(early_evaluation_utils, mixed_device)\n",
    "\n",
    "result = []\n",
    "for i, (img, label) in tqdm(enumerate(test_dataloader.dataset)):\n",
    "    if i == 300:\n",
    "        break \n",
    "    img = img.type(torch.float64)\n",
    "    img = img / torch.linalg.norm(img).view(-1, 1) \n",
    "    probs = early_qnode(img)\n",
    "    prediction = torch.argmax(probs)\n",
    "    result.append((prediction, label))\n",
    "     \n",
    "def calculate_accuracy(data):\n",
    "    correct = sum([1 for label, prediction in data if label == prediction])\n",
    "    return correct, correct / len(data)\n",
    "\n",
    "test_results = calculate_accuracy(result)\n",
    "\n",
    "print(test_results[0], \"elements have been correctly classified probability\", p, \"with an accuracy of \", test_results[1])"
   ],
   "id": "1a9a2537857b6b58",
   "execution_count": 23,
   "outputs": []
  },
  {
   "metadata": {
    "ExecuteTime": {
     "end_time": "2024-10-08T09:43:07.686607Z",
     "start_time": "2024-10-08T09:33:35.857341Z"
    }
   },
   "cell_type": "code",
   "source": [
    "p = 0.2\n",
    "def early_evaluation_utils(state: torch.Tensor = None): \n",
    "    first_pair = [0,1]\n",
    "    if state is not None:\n",
    "        # state vector initialization with input\n",
    "        qml.QubitStateVector(state, wires=range(8))\n",
    "    for i in range(8):\n",
    "        for j in range(8):\n",
    "            qml.RX(weights[f'layer_{i}'][j, 0], wires=j)\n",
    "            qml.RY(weights[f'layer_{i}'][j, 1], wires=j)\n",
    "            qml.RZ(weights[f'layer_{i}'][j, 2], wires=j)\n",
    "        for j in range(8):\n",
    "            qml.CNOT(wires=[j, (j + 1) % 8])\n",
    "            qml.DepolarizingChannel(p=p, wires=(j + 1) % 8)\n",
    "    return qml.probs(wires = first_pair)\n",
    "\n",
    "mixed_device = qml.device(\"default.mixed\", wires=[0,1,2,3,4,5,6,7,8,9])\n",
    "early_qnode = qml.QNode(early_evaluation_utils, mixed_device)\n",
    "\n",
    "result = []\n",
    "for i, (img, label) in tqdm(enumerate(test_dataloader.dataset)):\n",
    "    if i == 300:\n",
    "        break \n",
    "    img = img.type(torch.float64)\n",
    "    img = img / torch.linalg.norm(img).view(-1, 1) \n",
    "    probs = early_qnode(img)\n",
    "    prediction = torch.argmax(probs)\n",
    "    result.append((prediction, label))\n",
    "     \n",
    "def calculate_accuracy(data):\n",
    "    correct = sum([1 for label, prediction in data if label == prediction])\n",
    "    return correct, correct / len(data)\n",
    "\n",
    "test_results = calculate_accuracy(result)\n",
    "\n",
    "print(test_results[0], \"elements have been correctly classified probability\", p, \"with an accuracy of \", test_results[1])"
   ],
   "id": "99f8109c4b1f53eb",
   "execution_count": 24,
   "outputs": []
  },
  {
   "metadata": {
    "ExecuteTime": {
     "end_time": "2024-10-08T09:52:48.084813Z",
     "start_time": "2024-10-08T09:43:07.687581Z"
    }
   },
   "cell_type": "code",
   "source": [
    "p = 0.25\n",
    "def early_evaluation_utils(state: torch.Tensor = None): \n",
    "    first_pair = [0,1]\n",
    "    if state is not None:\n",
    "        # state vector initialization with input\n",
    "        qml.QubitStateVector(state, wires=range(8))\n",
    "    for i in range(8):\n",
    "        for j in range(8):\n",
    "            qml.RX(weights[f'layer_{i}'][j, 0], wires=j)\n",
    "            qml.RY(weights[f'layer_{i}'][j, 1], wires=j)\n",
    "            qml.RZ(weights[f'layer_{i}'][j, 2], wires=j)\n",
    "        for j in range(8):\n",
    "            qml.CNOT(wires=[j, (j + 1) % 8])\n",
    "            qml.DepolarizingChannel(p=p, wires=(j + 1) % 8)\n",
    "    return qml.probs(wires = first_pair)\n",
    "\n",
    "mixed_device = qml.device(\"default.mixed\", wires=[0,1,2,3,4,5,6,7,8,9])\n",
    "early_qnode = qml.QNode(early_evaluation_utils, mixed_device)\n",
    "\n",
    "result = []\n",
    "for i, (img, label) in tqdm(enumerate(test_dataloader.dataset)):\n",
    "    if i == 300:\n",
    "        break \n",
    "    img = img.type(torch.float64)\n",
    "    img = img / torch.linalg.norm(img).view(-1, 1) \n",
    "    probs = early_qnode(img)\n",
    "    prediction = torch.argmax(probs)\n",
    "    result.append((prediction, label))\n",
    "     \n",
    "def calculate_accuracy(data):\n",
    "    correct = sum([1 for label, prediction in data if label == prediction])\n",
    "    return correct, correct / len(data)\n",
    "\n",
    "test_results = calculate_accuracy(result)\n",
    "\n",
    "print(test_results[0], \"elements have been correctly classified probability\", p, \"with an accuracy of \", test_results[1])"
   ],
   "id": "b1a31518d0e58dd3",
   "execution_count": 25,
   "outputs": []
  },
  {
   "metadata": {
    "ExecuteTime": {
     "end_time": "2024-10-08T10:02:55.691391Z",
     "start_time": "2024-10-08T09:52:48.085808Z"
    }
   },
   "cell_type": "code",
   "source": [
    "p = 0.3\n",
    "def early_evaluation_utils(state: torch.Tensor = None): \n",
    "    first_pair = [0,1]\n",
    "    if state is not None:\n",
    "        # state vector initialization with input\n",
    "        qml.QubitStateVector(state, wires=range(8))\n",
    "    for i in range(8):\n",
    "        for j in range(8):\n",
    "            qml.RX(weights[f'layer_{i}'][j, 0], wires=j)\n",
    "            qml.RY(weights[f'layer_{i}'][j, 1], wires=j)\n",
    "            qml.RZ(weights[f'layer_{i}'][j, 2], wires=j)\n",
    "        for j in range(8):\n",
    "            qml.CNOT(wires=[j, (j + 1) % 8])\n",
    "            qml.DepolarizingChannel(p=p, wires=(j + 1) % 8)\n",
    "    return qml.probs(wires = first_pair)\n",
    "\n",
    "mixed_device = qml.device(\"default.mixed\", wires=[0,1,2,3,4,5,6,7,8,9])\n",
    "early_qnode = qml.QNode(early_evaluation_utils, mixed_device)\n",
    "\n",
    "result = []\n",
    "for i, (img, label) in tqdm(enumerate(test_dataloader.dataset)):\n",
    "    if i == 300:\n",
    "        break \n",
    "    img = img.type(torch.float64)\n",
    "    img = img / torch.linalg.norm(img).view(-1, 1) \n",
    "    probs = early_qnode(img)\n",
    "    prediction = torch.argmax(probs)\n",
    "    result.append((prediction, label))\n",
    "     \n",
    "def calculate_accuracy(data):\n",
    "    correct = sum([1 for label, prediction in data if label == prediction])\n",
    "    return correct, correct / len(data)\n",
    "\n",
    "test_results = calculate_accuracy(result)\n",
    "\n",
    "print(test_results[0], \"elements have been correctly classified probability\", p, \"with an accuracy of \", test_results[1])"
   ],
   "id": "ee736ec76525abf8",
   "execution_count": 26,
   "outputs": []
  },
  {
   "metadata": {
    "ExecuteTime": {
     "end_time": "2024-10-08T10:02:57.942869Z",
     "start_time": "2024-10-08T10:02:55.692617Z"
    }
   },
   "cell_type": "code",
   "source": [
    "p = 0.35\n",
    "def early_evaluation_utils(state: torch.Tensor = None): \n",
    "    first_pair = [0,1]\n",
    "    if state is not None:\n",
    "        # state vector initialization with input\n",
    "        qml.QubitStateVector(state, wires=range(8))\n",
    "    for i in range(8):\n",
    "        for j in range(8):\n",
    "            qml.RX(weights[f'layer_{i}'][j, 0], wires=j)\n",
    "            qml.RY(weights[f'layer_{i}'][j, 1], wires=j)\n",
    "            qml.RZ(weights[f'layer_{i}'][j, 2], wires=j)\n",
    "        for j in range(8):\n",
    "            qml.CNOT(wires=[j, (j + 1) % 8])\n",
    "            qml.DepolarizingChannel(p=p, wires=(j + 1) % 8)\n",
    "    return qml.probs(wires = first_pair)\n",
    "\n",
    "mixed_device = qml.device(\"default.mixed\", wires=[0,1,2,3,4,5,6,7,8,9])\n",
    "early_qnode = qml.QNode(early_evaluation_utils, mixed_device)\n",
    "\n",
    "result = []\n",
    "for i, (img, label) in tqdm(enumerate(test_dataloader.dataset)):\n",
    "    if i == 300:\n",
    "        break \n",
    "    img = img.type(torch.float64)\n",
    "    img = img / torch.linalg.norm(img).view(-1, 1) \n",
    "    probs = early_qnode(img)\n",
    "    prediction = torch.argmax(probs)\n",
    "    result.append((prediction, label))\n",
    "     \n",
    "def calculate_accuracy(data):\n",
    "    correct = sum([1 for label, prediction in data if label == prediction])\n",
    "    return correct, correct / len(data)\n",
    "\n",
    "test_results = calculate_accuracy(result)\n",
    "\n",
    "print(test_results[0], \"elements have been correctly classified probability\", p, \"with an accuracy of \", test_results[1])"
   ],
   "id": "285deebc5a7a83ee",
   "execution_count": 27,
   "outputs": []
  },
  {
   "metadata": {},
   "cell_type": "code",
   "execution_count": null,
   "source": "#################",
   "id": "82647b7ef7926656",
   "outputs": []
  },
  {
   "metadata": {
    "ExecuteTime": {
     "end_time": "2024-10-06T14:12:37.072425Z",
     "start_time": "2024-10-06T14:12:37.069903Z"
    }
   },
   "cell_type": "code",
   "source": [
    "p = 0.015\n",
    "def early_evaluation_utils(state: torch.Tensor = None): \n",
    "    first_pair = [0,1]\n",
    "    if state is not None:\n",
    "        # state vector initialization with input\n",
    "        qml.QubitStateVector(state, wires=range(8))\n",
    "    for i in range(8):\n",
    "        for j in range(8):\n",
    "            qml.RX(weights[f'layer_{i}'][j, 0], wires=j)\n",
    "            qml.RY(weights[f'layer_{i}'][j, 1], wires=j)\n",
    "            qml.RZ(weights[f'layer_{i}'][j, 2], wires=j)\n",
    "        for j in range(8):\n",
    "            qml.CNOT(wires=[j, (j + 1) % 8])\n",
    "            qml.DepolarizingChannel(p=p, wires=(j + 1) % 8)\n",
    "    \n",
    "    return qml.probs(wires = first_pair)"
   ],
   "id": "1e1978be0039e27e",
   "execution_count": 7,
   "outputs": []
  },
  {
   "metadata": {
    "ExecuteTime": {
     "end_time": "2024-10-06T14:12:37.077524Z",
     "start_time": "2024-10-06T14:12:37.072940Z"
    }
   },
   "cell_type": "code",
   "source": [
    "mixed_device = qml.device(\"default.mixed\", wires=[0,1,2,3,4,5,6,7,8,9])\n",
    "early_qnode = qml.QNode(early_evaluation_utils, mixed_device)"
   ],
   "id": "c103303ea29512c9",
   "execution_count": 8,
   "outputs": []
  },
  {
   "metadata": {
    "ExecuteTime": {
     "end_time": "2024-10-06T16:04:04.246732Z",
     "start_time": "2024-10-06T14:12:37.078454Z"
    }
   },
   "cell_type": "code",
   "source": [
    "result = []\n",
    "media = []\n",
    "for img, label in tqdm(test_dataloader.dataset):\n",
    "    img = img.type(torch.float64)\n",
    "    img = img / torch.linalg.norm(img).view(-1, 1) \n",
    "    probs = early_qnode(img)\n",
    "    prediction = torch.argmax(probs)\n",
    "    result.append((prediction, label))\n",
    "     \n",
    "def calculate_accuracy(data):\n",
    "    correct = sum([1 for label, prediction in data if label == prediction])\n",
    "    return correct, correct / len(data)\n",
    "\n",
    "test_results = calculate_accuracy(result)\n",
    "\n",
    "print(test_results[0], \"elements have been correctly classified probability\", p, \"with an accuracy of \", test_results[1])"
   ],
   "id": "d449022b5e83b09b",
   "execution_count": 9,
   "outputs": []
  },
  {
   "metadata": {
    "ExecuteTime": {
     "end_time": "2024-10-03T20:04:52.046402Z",
     "start_time": "2024-10-03T20:04:52.044967Z"
    }
   },
   "cell_type": "code",
   "source": "",
   "id": "45fe7eadbd74d4d6",
   "execution_count": 92,
   "outputs": []
  },
  {
   "metadata": {
    "ExecuteTime": {
     "end_time": "2024-10-06T16:04:04.250781Z",
     "start_time": "2024-10-06T16:04:04.247715Z"
    }
   },
   "cell_type": "code",
   "source": [
    "p = 0.1\n",
    "def early_evaluation_utils(state: torch.Tensor = None): \n",
    "    first_pair = [0,1]\n",
    "    if state is not None:\n",
    "        # state vector initialization with input\n",
    "        qml.QubitStateVector(state, wires=range(8))\n",
    "    for i in range(8):\n",
    "        for j in range(8):\n",
    "            qml.RX(weights[f'layer_{i}'][j, 0], wires=j)\n",
    "            qml.RY(weights[f'layer_{i}'][j, 1], wires=j)\n",
    "            qml.RZ(weights[f'layer_{i}'][j, 2], wires=j)\n",
    "        for j in range(8):\n",
    "            qml.CNOT(wires=[j, (j + 1) % 8])\n",
    "            qml.DepolarizingChannel(p=p, wires=(j + 1) % 8)\n",
    "    \n",
    "    return qml.probs(wires = first_pair)"
   ],
   "id": "f8bb40f4511611d0",
   "execution_count": 10,
   "outputs": []
  },
  {
   "metadata": {
    "ExecuteTime": {
     "end_time": "2024-10-06T16:04:04.255615Z",
     "start_time": "2024-10-06T16:04:04.251354Z"
    }
   },
   "cell_type": "code",
   "source": [
    "mixed_device = qml.device(\"default.mixed\", wires=[0,1,2,3,4,5,6,7,8,9])\n",
    "early_qnode = qml.QNode(early_evaluation_utils, mixed_device)"
   ],
   "id": "bd61335687e9771b",
   "execution_count": 11,
   "outputs": []
  },
  {
   "metadata": {
    "ExecuteTime": {
     "end_time": "2024-10-06T16:06:50.977547Z",
     "start_time": "2024-10-06T16:04:04.256210Z"
    }
   },
   "cell_type": "code",
   "source": [
    "result = []\n",
    "media = []\n",
    "for img, label in tqdm(test_dataloader.dataset):\n",
    "    img = img.type(torch.float64)\n",
    "    img = img / torch.linalg.norm(img).view(-1, 1) \n",
    "    probs = early_qnode(img)\n",
    "    prediction = torch.argmax(probs)\n",
    "    result.append((prediction, label))\n",
    "     \n",
    "def calculate_accuracy(data):\n",
    "    correct = sum([1 for label, prediction in data if label == prediction])\n",
    "    return correct, correct / len(data)\n",
    "\n",
    "test_results = calculate_accuracy(result)\n",
    "\n",
    "print(test_results[0], \"elements have been correctly classified probability\", p, \"with an accuracy of \", test_results[1])"
   ],
   "id": "9ab05c599678e318",
   "execution_count": 12,
   "outputs": []
  },
  {
   "metadata": {
    "ExecuteTime": {
     "end_time": "2024-10-08T13:36:55.457788Z",
     "start_time": "2024-10-08T13:36:55.453335Z"
    }
   },
   "cell_type": "code",
   "source": [
    "with open(\"/Users/jackvittori/Desktop/4layerokkkk/weight4layer.pickle\", \"rb\") as file: \n",
    "    weights = pickle.load(file)\n",
    "for param in weights.values():\n",
    "    param.requires_grad = False"
   ],
   "id": "4b2520733300eb3",
   "execution_count": 51,
   "outputs": []
  },
  {
   "metadata": {
    "ExecuteTime": {
     "end_time": "2024-10-08T15:00:47.075608Z",
     "start_time": "2024-10-08T13:36:55.458381Z"
    }
   },
   "cell_type": "code",
   "source": [
    "p = 0.12\n",
    "def early_evaluation_utils(state: torch.Tensor = None): \n",
    "    first_pair = [0,1]\n",
    "    if state is not None:\n",
    "        # state vector initialization with input\n",
    "        qml.QubitStateVector(state, wires=range(8))\n",
    "    for i in range(4):\n",
    "        for j in range(8):\n",
    "            qml.RX(weights[f'layer_{i}'][j, 0], wires=j)\n",
    "            qml.RY(weights[f'layer_{i}'][j, 1], wires=j)\n",
    "            qml.RZ(weights[f'layer_{i}'][j, 2], wires=j)\n",
    "        for j in range(8):\n",
    "            qml.CNOT(wires=[j, (j + 1) % 8])\n",
    "            qml.DepolarizingChannel(p=p, wires=(j + 1) % 8)\n",
    "    \n",
    "    return qml.probs(wires = first_pair)\n",
    "\n",
    "mixed_device = qml.device(\"default.mixed\", wires=[0,1,2,3,4,5,6,7,8,9])\n",
    "early_qnode = qml.QNode(early_evaluation_utils, mixed_device)\n",
    "result = []\n",
    "media = []\n",
    "for i, (img, label) in tqdm(enumerate(test_dataloader.dataset)):\n",
    "    img = img.type(torch.float64)\n",
    "    img = img / torch.linalg.norm(img).view(-1, 1) \n",
    "    probs = early_qnode(img)\n",
    "    prediction = torch.argmax(probs)\n",
    "    result.append((prediction, label))\n",
    "     \n",
    "def calculate_accuracy(data):\n",
    "    correct = sum([1 for label, prediction in data if label == prediction])\n",
    "    return correct, correct / len(data)\n",
    "\n",
    "test_results = calculate_accuracy(result)\n",
    "\n",
    "print(test_results[0], \"elements have been correctly classified probability\", p, \"with an accuracy of \", test_results[1])"
   ],
   "id": "3356a994c46107ac",
   "execution_count": 52,
   "outputs": []
  },
  {
   "metadata": {
    "ExecuteTime": {
     "end_time": "2024-10-08T10:56:59.981886Z",
     "start_time": "2024-10-08T10:53:30.338633Z"
    }
   },
   "cell_type": "code",
   "source": [
    "p = 0.05\n",
    "def early_evaluation_utils(state: torch.Tensor = None): \n",
    "    first_pair = [0,1]\n",
    "    if state is not None:\n",
    "        # state vector initialization with input\n",
    "        qml.QubitStateVector(state, wires=range(8))\n",
    "    for i in range(4):\n",
    "        for j in range(8):\n",
    "            qml.RX(weights[f'layer_{i}'][j, 0], wires=j)\n",
    "            qml.RY(weights[f'layer_{i}'][j, 1], wires=j)\n",
    "            qml.RZ(weights[f'layer_{i}'][j, 2], wires=j)\n",
    "        for j in range(8):\n",
    "            qml.CNOT(wires=[j, (j + 1) % 8])\n",
    "            qml.DepolarizingChannel(p=p, wires=(j + 1) % 8)\n",
    "    \n",
    "    return qml.probs(wires = first_pair)\n",
    "mixed_device = qml.device(\"default.mixed\", wires=[0,1,2,3,4,5,6,7,8,9])\n",
    "early_qnode = qml.QNode(early_evaluation_utils, mixed_device)\n",
    "result = []\n",
    "media = []\n",
    "for i, (img, label) in tqdm(enumerate(test_dataloader.dataset)):\n",
    "    if i == 300: \n",
    "        break\n",
    "    img = img.type(torch.float64)\n",
    "    img = img / torch.linalg.norm(img).view(-1, 1) \n",
    "    probs = early_qnode(img)\n",
    "    prediction = torch.argmax(probs)\n",
    "    result.append((prediction, label))\n",
    "     \n",
    "def calculate_accuracy(data):\n",
    "    correct = sum([1 for label, prediction in data if label == prediction])\n",
    "    return correct, correct / len(data)\n",
    "\n",
    "test_results = calculate_accuracy(result)\n",
    "\n",
    "print(test_results[0], \"elements have been correctly classified probability\", p, \"with an accuracy of \", test_results[1])"
   ],
   "id": "4553e449fd6d4abc",
   "execution_count": 38,
   "outputs": []
  },
  {
   "metadata": {
    "ExecuteTime": {
     "end_time": "2024-10-08T11:00:29.717491Z",
     "start_time": "2024-10-08T10:56:59.982560Z"
    }
   },
   "cell_type": "code",
   "source": [
    "p = 0.075\n",
    "def early_evaluation_utils(state: torch.Tensor = None): \n",
    "    first_pair = [0,1]\n",
    "    if state is not None:\n",
    "        # state vector initialization with input\n",
    "        qml.QubitStateVector(state, wires=range(8))\n",
    "    for i in range(4):\n",
    "        for j in range(8):\n",
    "            qml.RX(weights[f'layer_{i}'][j, 0], wires=j)\n",
    "            qml.RY(weights[f'layer_{i}'][j, 1], wires=j)\n",
    "            qml.RZ(weights[f'layer_{i}'][j, 2], wires=j)\n",
    "        for j in range(8):\n",
    "            qml.CNOT(wires=[j, (j + 1) % 8])\n",
    "            qml.DepolarizingChannel(p=p, wires=(j + 1) % 8)\n",
    "    \n",
    "    return qml.probs(wires = first_pair)\n",
    "mixed_device = qml.device(\"default.mixed\", wires=[0,1,2,3,4,5,6,7,8,9])\n",
    "early_qnode = qml.QNode(early_evaluation_utils, mixed_device)\n",
    "result = []\n",
    "media = []\n",
    "for i, (img, label) in tqdm(enumerate(test_dataloader.dataset)):\n",
    "    if i == 300: \n",
    "        break\n",
    "    img = img.type(torch.float64)\n",
    "    img = img / torch.linalg.norm(img).view(-1, 1) \n",
    "    probs = early_qnode(img)\n",
    "    prediction = torch.argmax(probs)\n",
    "    result.append((prediction, label))\n",
    "     \n",
    "def calculate_accuracy(data):\n",
    "    correct = sum([1 for label, prediction in data if label == prediction])\n",
    "    return correct, correct / len(data)\n",
    "\n",
    "test_results = calculate_accuracy(result)\n",
    "\n",
    "print(test_results[0], \"elements have been correctly classified probability\", p, \"with an accuracy of \", test_results[1])"
   ],
   "id": "5afaa987305e896f",
   "execution_count": 39,
   "outputs": []
  },
  {
   "metadata": {
    "ExecuteTime": {
     "end_time": "2024-10-08T11:03:49.979625Z",
     "start_time": "2024-10-08T11:00:29.718018Z"
    }
   },
   "cell_type": "code",
   "source": [
    "p = 0.1\n",
    "def early_evaluation_utils(state: torch.Tensor = None): \n",
    "    first_pair = [0,1]\n",
    "    if state is not None:\n",
    "        # state vector initialization with input\n",
    "        qml.QubitStateVector(state, wires=range(8))\n",
    "    for i in range(4):\n",
    "        for j in range(8):\n",
    "            qml.RX(weights[f'layer_{i}'][j, 0], wires=j)\n",
    "            qml.RY(weights[f'layer_{i}'][j, 1], wires=j)\n",
    "            qml.RZ(weights[f'layer_{i}'][j, 2], wires=j)\n",
    "        for j in range(8):\n",
    "            qml.CNOT(wires=[j, (j + 1) % 8])\n",
    "            qml.DepolarizingChannel(p=p, wires=(j + 1) % 8)\n",
    "    \n",
    "    return qml.probs(wires = first_pair)\n",
    "mixed_device = qml.device(\"default.mixed\", wires=[0,1,2,3,4,5,6,7,8,9])\n",
    "early_qnode = qml.QNode(early_evaluation_utils, mixed_device)\n",
    "result = []\n",
    "media = []\n",
    "for i, (img, label) in tqdm(enumerate(test_dataloader.dataset)):\n",
    "    if i ==300: \n",
    "        break \n",
    "    img = img.type(torch.float64)\n",
    "    img = img / torch.linalg.norm(img).view(-1, 1) \n",
    "    probs = early_qnode(img)\n",
    "    prediction = torch.argmax(probs)\n",
    "    result.append((prediction, label))\n",
    "     \n",
    "def calculate_accuracy(data):\n",
    "    correct = sum([1 for label, prediction in data if label == prediction])\n",
    "    return correct, correct / len(data)\n",
    "\n",
    "test_results = calculate_accuracy(result)\n",
    "\n",
    "print(test_results[0], \"elements have been correctly classified probability\", p, \"with an accuracy of \", test_results[1])"
   ],
   "id": "202b72f01cb8c5a0",
   "execution_count": 40,
   "outputs": []
  },
  {
   "metadata": {
    "ExecuteTime": {
     "end_time": "2024-10-08T11:07:14.309905Z",
     "start_time": "2024-10-08T11:03:49.980230Z"
    }
   },
   "cell_type": "code",
   "source": [
    "p = 0.125\n",
    "def early_evaluation_utils(state: torch.Tensor = None): \n",
    "    first_pair = [0,1]\n",
    "    if state is not None:\n",
    "        # state vector initialization with input\n",
    "        qml.QubitStateVector(state, wires=range(8))\n",
    "    for i in range(4):\n",
    "        for j in range(8):\n",
    "            qml.RX(weights[f'layer_{i}'][j, 0], wires=j)\n",
    "            qml.RY(weights[f'layer_{i}'][j, 1], wires=j)\n",
    "            qml.RZ(weights[f'layer_{i}'][j, 2], wires=j)\n",
    "        for j in range(8):\n",
    "            qml.CNOT(wires=[j, (j + 1) % 8])\n",
    "            qml.DepolarizingChannel(p=p, wires=(j + 1) % 8)\n",
    "    \n",
    "    return qml.probs(wires = first_pair)\n",
    "mixed_device = qml.device(\"default.mixed\", wires=[0,1,2,3,4,5,6,7,8,9])\n",
    "early_qnode = qml.QNode(early_evaluation_utils, mixed_device)\n",
    "result = []\n",
    "media = []\n",
    "for i, (img, label) in tqdm(enumerate(test_dataloader.dataset)):\n",
    "    if i ==300: \n",
    "        break \n",
    "    img = img.type(torch.float64)\n",
    "    img = img / torch.linalg.norm(img).view(-1, 1) \n",
    "    probs = early_qnode(img)\n",
    "    prediction = torch.argmax(probs)\n",
    "    result.append((prediction, label))\n",
    "     \n",
    "def calculate_accuracy(data):\n",
    "    correct = sum([1 for label, prediction in data if label == prediction])\n",
    "    return correct, correct / len(data)\n",
    "\n",
    "test_results = calculate_accuracy(result)\n",
    "\n",
    "print(test_results[0], \"elements have been correctly classified probability\", p, \"with an accuracy of \", test_results[1])"
   ],
   "id": "a10452a96a680dff",
   "execution_count": 41,
   "outputs": []
  },
  {
   "metadata": {
    "ExecuteTime": {
     "end_time": "2024-10-08T11:10:35.003770Z",
     "start_time": "2024-10-08T11:07:14.310455Z"
    }
   },
   "cell_type": "code",
   "source": [
    "p = 0.15\n",
    "def early_evaluation_utils(state: torch.Tensor = None): \n",
    "    first_pair = [0,1]\n",
    "    if state is not None:\n",
    "        # state vector initialization with input\n",
    "        qml.QubitStateVector(state, wires=range(8))\n",
    "    for i in range(4):\n",
    "        for j in range(8):\n",
    "            qml.RX(weights[f'layer_{i}'][j, 0], wires=j)\n",
    "            qml.RY(weights[f'layer_{i}'][j, 1], wires=j)\n",
    "            qml.RZ(weights[f'layer_{i}'][j, 2], wires=j)\n",
    "        for j in range(8):\n",
    "            qml.CNOT(wires=[j, (j + 1) % 8])\n",
    "            qml.DepolarizingChannel(p=p, wires=(j + 1) % 8)\n",
    "    \n",
    "    return qml.probs(wires = first_pair)\n",
    "mixed_device = qml.device(\"default.mixed\", wires=[0,1,2,3,4,5,6,7,8,9])\n",
    "early_qnode = qml.QNode(early_evaluation_utils, mixed_device)\n",
    "result = []\n",
    "media = []\n",
    "for i, (img, label) in tqdm(enumerate(test_dataloader.dataset)):\n",
    "    if i == 300: \n",
    "        break \n",
    "    img = img.type(torch.float64)\n",
    "    img = img / torch.linalg.norm(img).view(-1, 1) \n",
    "    probs = early_qnode(img)\n",
    "    prediction = torch.argmax(probs)\n",
    "    result.append((prediction, label))\n",
    "     \n",
    "def calculate_accuracy(data):\n",
    "    correct = sum([1 for label, prediction in data if label == prediction])\n",
    "    return correct, correct / len(data)\n",
    "\n",
    "test_results = calculate_accuracy(result)\n",
    "\n",
    "print(test_results[0], \"elements have been correctly classified probability\", p, \"with an accuracy of \", test_results[1])"
   ],
   "id": "33db9903e9322a5",
   "execution_count": 42,
   "outputs": []
  },
  {
   "metadata": {
    "ExecuteTime": {
     "end_time": "2024-10-08T11:13:53.400215Z",
     "start_time": "2024-10-08T11:10:35.004306Z"
    }
   },
   "cell_type": "code",
   "source": [
    "p = 0.175\n",
    "def early_evaluation_utils(state: torch.Tensor = None): \n",
    "    first_pair = [0,1]\n",
    "    if state is not None:\n",
    "        # state vector initialization with input\n",
    "        qml.QubitStateVector(state, wires=range(8))\n",
    "    for i in range(4):\n",
    "        for j in range(8):\n",
    "            qml.RX(weights[f'layer_{i}'][j, 0], wires=j)\n",
    "            qml.RY(weights[f'layer_{i}'][j, 1], wires=j)\n",
    "            qml.RZ(weights[f'layer_{i}'][j, 2], wires=j)\n",
    "        for j in range(8):\n",
    "            qml.CNOT(wires=[j, (j + 1) % 8])\n",
    "            qml.DepolarizingChannel(p=p, wires=(j + 1) % 8)\n",
    "    \n",
    "    return qml.probs(wires = first_pair)\n",
    "mixed_device = qml.device(\"default.mixed\", wires=[0,1,2,3,4,5,6,7,8,9])\n",
    "early_qnode = qml.QNode(early_evaluation_utils, mixed_device)\n",
    "result = []\n",
    "media = []\n",
    "for i, (img, label) in tqdm(enumerate(test_dataloader.dataset)):\n",
    "    if i ==300: \n",
    "        break \n",
    "    img = img.type(torch.float64)\n",
    "    img = img / torch.linalg.norm(img).view(-1, 1) \n",
    "    probs = early_qnode(img)\n",
    "    prediction = torch.argmax(probs)\n",
    "    result.append((prediction, label))\n",
    "     \n",
    "def calculate_accuracy(data):\n",
    "    correct = sum([1 for label, prediction in data if label == prediction])\n",
    "    return correct, correct / len(data)\n",
    "\n",
    "test_results = calculate_accuracy(result)\n",
    "\n",
    "print(test_results[0], \"elements have been correctly classified probability\", p, \"with an accuracy of \", test_results[1])"
   ],
   "id": "7b212ecfee68b07f",
   "execution_count": 43,
   "outputs": []
  },
  {
   "metadata": {
    "ExecuteTime": {
     "end_time": "2024-10-08T11:17:07.805465Z",
     "start_time": "2024-10-08T11:13:53.401746Z"
    }
   },
   "cell_type": "code",
   "source": [
    "p = 0.20\n",
    "def early_evaluation_utils(state: torch.Tensor = None): \n",
    "    first_pair = [0,1]\n",
    "    if state is not None:\n",
    "        # state vector initialization with input\n",
    "        qml.QubitStateVector(state, wires=range(8))\n",
    "    for i in range(4):\n",
    "        for j in range(8):\n",
    "            qml.RX(weights[f'layer_{i}'][j, 0], wires=j)\n",
    "            qml.RY(weights[f'layer_{i}'][j, 1], wires=j)\n",
    "            qml.RZ(weights[f'layer_{i}'][j, 2], wires=j)\n",
    "        for j in range(8):\n",
    "            qml.CNOT(wires=[j, (j + 1) % 8])\n",
    "            qml.DepolarizingChannel(p=p, wires=(j + 1) % 8)\n",
    "    \n",
    "    return qml.probs(wires = first_pair)\n",
    "mixed_device = qml.device(\"default.mixed\", wires=[0,1,2,3,4,5,6,7,8,9])\n",
    "early_qnode = qml.QNode(early_evaluation_utils, mixed_device)\n",
    "result = []\n",
    "media = []\n",
    "for i, (img, label) in tqdm(enumerate(test_dataloader.dataset)):\n",
    "    if i == 300: \n",
    "        break \n",
    "    img = img.type(torch.float64)\n",
    "    img = img / torch.linalg.norm(img).view(-1, 1) \n",
    "    probs = early_qnode(img)\n",
    "    prediction = torch.argmax(probs)\n",
    "    result.append((prediction, label))\n",
    "     \n",
    "def calculate_accuracy(data):\n",
    "    correct = sum([1 for label, prediction in data if label == prediction])\n",
    "    return correct, correct / len(data)\n",
    "\n",
    "test_results = calculate_accuracy(result)\n",
    "\n",
    "print(test_results[0], \"elements have been correctly classified probability\", p, \"with an accuracy of \", test_results[1])"
   ],
   "id": "65c1331abb7882c7",
   "execution_count": 44,
   "outputs": []
  },
  {
   "metadata": {
    "ExecuteTime": {
     "end_time": "2024-10-08T11:20:21.585319Z",
     "start_time": "2024-10-08T11:17:07.805985Z"
    }
   },
   "cell_type": "code",
   "source": [
    "p = 0.25\n",
    "def early_evaluation_utils(state: torch.Tensor = None): \n",
    "    first_pair = [0,1]\n",
    "    if state is not None:\n",
    "        # state vector initialization with input\n",
    "        qml.QubitStateVector(state, wires=range(8))\n",
    "    for i in range(4):\n",
    "        for j in range(8):\n",
    "            qml.RX(weights[f'layer_{i}'][j, 0], wires=j)\n",
    "            qml.RY(weights[f'layer_{i}'][j, 1], wires=j)\n",
    "            qml.RZ(weights[f'layer_{i}'][j, 2], wires=j)\n",
    "        for j in range(8):\n",
    "            qml.CNOT(wires=[j, (j + 1) % 8])\n",
    "            qml.DepolarizingChannel(p=p, wires=(j + 1) % 8)\n",
    "    \n",
    "    return qml.probs(wires = first_pair)\n",
    "mixed_device = qml.device(\"default.mixed\", wires=[0,1,2,3,4,5,6,7,8,9])\n",
    "early_qnode = qml.QNode(early_evaluation_utils, mixed_device)\n",
    "result = []\n",
    "media = []\n",
    "for i, (img, label) in tqdm(enumerate(test_dataloader.dataset)):\n",
    "    if i ==300: \n",
    "        break \n",
    "    img = img.type(torch.float64)\n",
    "    img = img / torch.linalg.norm(img).view(-1, 1) \n",
    "    probs = early_qnode(img)\n",
    "    prediction = torch.argmax(probs)\n",
    "    result.append((prediction, label))\n",
    "     \n",
    "def calculate_accuracy(data):\n",
    "    correct = sum([1 for label, prediction in data if label == prediction])\n",
    "    return correct, correct / len(data)\n",
    "\n",
    "test_results = calculate_accuracy(result)\n",
    "\n",
    "print(test_results[0], \"elements have been correctly classified probability\", p, \"with an accuracy of \", test_results[1])"
   ],
   "id": "4313913b35689675",
   "execution_count": 45,
   "outputs": []
  },
  {
   "metadata": {
    "ExecuteTime": {
     "end_time": "2024-10-08T11:23:35.863152Z",
     "start_time": "2024-10-08T11:20:21.585837Z"
    }
   },
   "cell_type": "code",
   "source": [
    "p = 0.30\n",
    "def early_evaluation_utils(state: torch.Tensor = None): \n",
    "    first_pair = [0,1]\n",
    "    if state is not None:\n",
    "        # state vector initialization with input\n",
    "        qml.QubitStateVector(state, wires=range(8))\n",
    "    for i in range(4):\n",
    "        for j in range(8):\n",
    "            qml.RX(weights[f'layer_{i}'][j, 0], wires=j)\n",
    "            qml.RY(weights[f'layer_{i}'][j, 1], wires=j)\n",
    "            qml.RZ(weights[f'layer_{i}'][j, 2], wires=j)\n",
    "        for j in range(8):\n",
    "            qml.CNOT(wires=[j, (j + 1) % 8])\n",
    "            qml.DepolarizingChannel(p=p, wires=(j + 1) % 8)\n",
    "    \n",
    "    return qml.probs(wires = first_pair)\n",
    "mixed_device = qml.device(\"default.mixed\", wires=[0,1,2,3,4,5,6,7,8,9])\n",
    "early_qnode = qml.QNode(early_evaluation_utils, mixed_device)\n",
    "result = []\n",
    "media = []\n",
    "for i, (img, label) in tqdm(enumerate(test_dataloader.dataset)):\n",
    "    if i ==300: \n",
    "        break \n",
    "    img = img.type(torch.float64)\n",
    "    img = img / torch.linalg.norm(img).view(-1, 1) \n",
    "    probs = early_qnode(img)\n",
    "    prediction = torch.argmax(probs)\n",
    "    result.append((prediction, label))\n",
    "     \n",
    "def calculate_accuracy(data):\n",
    "    correct = sum([1 for label, prediction in data if label == prediction])\n",
    "    return correct, correct / len(data)\n",
    "\n",
    "test_results = calculate_accuracy(result)\n",
    "\n",
    "print(test_results[0], \"elements have been correctly classified probability\", p, \"with an accuracy of \", test_results[1])"
   ],
   "id": "d190394e108553a3",
   "execution_count": 46,
   "outputs": []
  },
  {
   "metadata": {},
   "cell_type": "code",
   "execution_count": null,
   "source": "",
   "id": "488bc0402b8c08ba",
   "outputs": []
  },
  {
   "metadata": {},
   "cell_type": "code",
   "execution_count": null,
   "source": "",
   "id": "74f661107c293e3a",
   "outputs": []
  },
  {
   "metadata": {
    "ExecuteTime": {
     "end_time": "2024-10-07T07:57:18.088141Z",
     "start_time": "2024-10-07T07:57:05.704775Z"
    }
   },
   "cell_type": "code",
   "source": [
    "result = []\n",
    "media = []\n",
    "for i, (img, label) in tqdm(enumerate(test_dataloader.dataset)):\n",
    "    img = img.type(torch.float64)\n",
    "    img = img / torch.linalg.norm(img).view(-1, 1) \n",
    "    probs = early_qnode(img)\n",
    "    prediction = torch.argmax(probs)\n",
    "    print(probs[prediction].item())\n",
    "    result.append((prediction, label))\n",
    "     \n",
    "def calculate_accuracy(data):\n",
    "    correct = sum([1 for label, prediction in data if label == prediction])\n",
    "    return correct, correct / len(data)\n",
    "\n",
    "test_results = calculate_accuracy(result)\n",
    "\n",
    "print(test_results[0], \"elements have been correctly classified probability\", p, \"with an accuracy of \", test_results[1])"
   ],
   "id": "3685fbb74ae5dde4",
   "execution_count": 10,
   "outputs": []
  },
  {
   "metadata": {
    "ExecuteTime": {
     "end_time": "2024-10-06T16:46:47.587701Z",
     "start_time": "2024-10-06T16:46:47.586341Z"
    }
   },
   "cell_type": "code",
   "source": "",
   "id": "c21a72c542493e26",
   "execution_count": 16,
   "outputs": []
  },
  {
   "metadata": {
    "ExecuteTime": {
     "end_time": "2024-10-06T16:46:47.590700Z",
     "start_time": "2024-10-06T16:46:47.588168Z"
    }
   },
   "cell_type": "code",
   "source": [
    "p = 0.01\n",
    "def early_evaluation_utils(state: torch.Tensor = None): \n",
    "    first_pair = [0,1]\n",
    "    if state is not None:\n",
    "        # state vector initialization with input\n",
    "        qml.QubitStateVector(state, wires=range(8))\n",
    "    for i in range(4):\n",
    "        for j in range(8):\n",
    "            qml.RX(weights[f'layer_{i}'][j, 0], wires=j)\n",
    "            qml.RY(weights[f'layer_{i}'][j, 1], wires=j)\n",
    "            qml.RZ(weights[f'layer_{i}'][j, 2], wires=j)\n",
    "        for j in range(8):\n",
    "            qml.CNOT(wires=[j, (j + 1) % 8])\n",
    "            qml.DepolarizingChannel(p=p, wires=(j + 1) % 8)\n",
    "    \n",
    "    return qml.probs(wires = first_pair)"
   ],
   "id": "f354e7b9c4893a19",
   "execution_count": 17,
   "outputs": []
  },
  {
   "metadata": {
    "ExecuteTime": {
     "end_time": "2024-10-06T16:46:47.594427Z",
     "start_time": "2024-10-06T16:46:47.591843Z"
    }
   },
   "cell_type": "code",
   "source": [
    "mixed_device = qml.device(\"default.mixed\", wires=[0,1,2,3,4,5,6,7,8,9])\n",
    "early_qnode = qml.QNode(early_evaluation_utils, mixed_device)"
   ],
   "id": "603b96596f819d39",
   "execution_count": 18,
   "outputs": []
  },
  {
   "metadata": {
    "ExecuteTime": {
     "end_time": "2024-10-06T17:27:18.993204Z",
     "start_time": "2024-10-06T16:46:47.594875Z"
    }
   },
   "cell_type": "code",
   "source": [
    "result = []\n",
    "media = []\n",
    "for img, label in tqdm(test_dataloader.dataset):\n",
    "\n",
    "    img = img.type(torch.float64)\n",
    "    img = img / torch.linalg.norm(img).view(-1, 1) \n",
    "    probs = early_qnode(img)\n",
    "    prediction = torch.argmax(probs)\n",
    "    result.append((prediction, label))\n",
    "     \n",
    "def calculate_accuracy(data):\n",
    "    correct = sum([1 for label, prediction in data if label == prediction])\n",
    "    return correct, correct / len(data)\n",
    "\n",
    "test_results = calculate_accuracy(result)\n",
    "\n",
    "print(test_results[0], \"elements have been correctly classified probability\", p, \"with an accuracy of \", test_results[1])"
   ],
   "id": "3689b36412b154d0",
   "execution_count": 19,
   "outputs": []
  },
  {
   "metadata": {
    "ExecuteTime": {
     "end_time": "2024-10-06T17:27:18.996691Z",
     "start_time": "2024-10-06T17:27:18.994003Z"
    }
   },
   "cell_type": "code",
   "source": [
    "p = 0.015\n",
    "def early_evaluation_utils(state: torch.Tensor = None): \n",
    "    first_pair = [0,1]\n",
    "    if state is not None:\n",
    "        # state vector initialization with input\n",
    "        qml.QubitStateVector(state, wires=range(8))\n",
    "    for i in range(4):\n",
    "        for j in range(8):\n",
    "            qml.RX(weights[f'layer_{i}'][j, 0], wires=j)\n",
    "            qml.RY(weights[f'layer_{i}'][j, 1], wires=j)\n",
    "            qml.RZ(weights[f'layer_{i}'][j, 2], wires=j)\n",
    "        for j in range(8):\n",
    "            qml.CNOT(wires=[j, (j + 1) % 8])\n",
    "            qml.DepolarizingChannel(p=p, wires=(j + 1) % 8)\n",
    "    \n",
    "    return qml.probs(wires = first_pair)"
   ],
   "id": "a15da8a45a0fefc1",
   "execution_count": 20,
   "outputs": []
  },
  {
   "metadata": {
    "ExecuteTime": {
     "end_time": "2024-10-06T17:27:18.999858Z",
     "start_time": "2024-10-06T17:27:18.997252Z"
    }
   },
   "cell_type": "code",
   "source": [
    "mixed_device = qml.device(\"default.mixed\", wires=[0,1,2,3,4,5,6,7,8,9])\n",
    "early_qnode = qml.QNode(early_evaluation_utils, mixed_device)"
   ],
   "id": "369331353db7c08a",
   "execution_count": 21,
   "outputs": []
  },
  {
   "metadata": {
    "ExecuteTime": {
     "end_time": "2024-10-06T18:08:33.624987Z",
     "start_time": "2024-10-06T17:27:19.000389Z"
    }
   },
   "cell_type": "code",
   "source": [
    "result = []\n",
    "media = []\n",
    "for img, label in tqdm(test_dataloader.dataset):  \n",
    "    img = img.type(torch.float64)\n",
    "    img = img / torch.linalg.norm(img).view(-1, 1) \n",
    "    probs = early_qnode(img)\n",
    "    prediction = torch.argmax(probs)\n",
    "    result.append((prediction, label))\n",
    "     \n",
    "def calculate_accuracy(data):\n",
    "    correct = sum([1 for label, prediction in data if label == prediction])\n",
    "    return correct, correct / len(data)\n",
    "\n",
    "test_results = calculate_accuracy(result)\n",
    "\n",
    "print(test_results[0], \"elements have been correctly classified probability\", p, \"with an accuracy of \", test_results[1])"
   ],
   "id": "768c7a99812994ed",
   "execution_count": 22,
   "outputs": []
  },
  {
   "metadata": {},
   "cell_type": "code",
   "execution_count": null,
   "source": "",
   "id": "4cf8ffebc852b9b9",
   "outputs": []
  }
 ],
 "metadata": {
  "kernelspec": {
   "display_name": "Python 3",
   "language": "python",
   "name": "python3"
  },
  "language_info": {
   "codemirror_mode": {
    "name": "ipython",
    "version": 2
   },
   "file_extension": ".py",
   "mimetype": "text/x-python",
   "name": "python",
   "nbconvert_exporter": "python",
   "pygments_lexer": "ipython2",
   "version": "2.7.6"
  }
 },
 "nbformat": 4,
 "nbformat_minor": 5
}
