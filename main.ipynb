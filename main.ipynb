{
 "cells": [
  {
   "cell_type": "code",
   "metadata": {
    "collapsed": true,
    "ExecuteTime": {
     "end_time": "2024-05-11T16:37:14.009765Z",
     "start_time": "2024-05-11T16:37:12.139468Z"
    }
   },
   "source": [
    "from model import QuantumCircuit, FullQuantumModel\n",
    "import torch\n",
    "import torchvision.datasets as datasets\n",
    "import torchvision.transforms as transforms\n",
    "from torch.utils.data import DataLoader, random_split"
   ],
   "outputs": [],
   "execution_count": 1
  },
  {
   "cell_type": "code",
   "source": [
    "#Model instantiation\n",
    "\n",
    "num_qubits = 8\n",
    "num_layers = 3\n",
    "model = FullQuantumModel(num_qubits, num_layers)"
   ],
   "metadata": {
    "collapsed": false,
    "ExecuteTime": {
     "end_time": "2024-05-11T16:37:14.013064Z",
     "start_time": "2024-05-11T16:37:14.010733Z"
    }
   },
   "outputs": [],
   "execution_count": 2
  },
  {
   "metadata": {
    "ExecuteTime": {
     "end_time": "2024-05-11T16:37:14.314898Z",
     "start_time": "2024-05-11T16:37:14.013679Z"
    }
   },
   "cell_type": "code",
   "source": "model.draw(style = 'sketch')",
   "outputs": [
    {
     "name": "stdout",
     "output_type": "stream",
     "text": [
      "probs:  probs(wires=[0])\n",
      "\n",
      "state:  state(wires=[])\n"
     ]
    },
    {
     "ename": "QuantumFunctionError",
     "evalue": "All measurements must be returned in the order they are measured.",
     "output_type": "error",
     "traceback": [
      "\u001B[0;31m---------------------------------------------------------------------------\u001B[0m",
      "\u001B[0;31mQuantumFunctionError\u001B[0m                      Traceback (most recent call last)",
      "Cell \u001B[0;32mIn[3], line 1\u001B[0m\n\u001B[0;32m----> 1\u001B[0m model\u001B[38;5;241m.\u001B[39mdraw(style \u001B[38;5;241m=\u001B[39m \u001B[38;5;124m'\u001B[39m\u001B[38;5;124msketch\u001B[39m\u001B[38;5;124m'\u001B[39m)\n",
      "File \u001B[0;32m~/Desktop/Documenti-giacomo/QML-early_exit/model.py:173\u001B[0m, in \u001B[0;36mFullQuantumModel.draw\u001B[0;34m(self, style)\u001B[0m\n\u001B[1;32m    171\u001B[0m     \u001B[38;5;28;01mraise\u001B[39;00m \u001B[38;5;167;01mValueError\u001B[39;00m(\u001B[38;5;124mf\u001B[39m\u001B[38;5;124m\"\u001B[39m\u001B[38;5;124mInvalid style \u001B[39m\u001B[38;5;124m'\u001B[39m\u001B[38;5;132;01m{\u001B[39;00mstyle\u001B[38;5;132;01m}\u001B[39;00m\u001B[38;5;124m'\u001B[39m\u001B[38;5;124m. Valid styles are: \u001B[39m\u001B[38;5;132;01m{\u001B[39;00m\u001B[38;5;124m'\u001B[39m\u001B[38;5;124m, \u001B[39m\u001B[38;5;124m'\u001B[39m\u001B[38;5;241m.\u001B[39mjoin(valid_styles)\u001B[38;5;132;01m}\u001B[39;00m\u001B[38;5;124m\"\u001B[39m)\n\u001B[1;32m    172\u001B[0m qml\u001B[38;5;241m.\u001B[39mdrawer\u001B[38;5;241m.\u001B[39muse_style(style)\n\u001B[0;32m--> 173\u001B[0m fig, ax \u001B[38;5;241m=\u001B[39m qml\u001B[38;5;241m.\u001B[39mdraw_mpl(\u001B[38;5;28mself\u001B[39m\u001B[38;5;241m.\u001B[39mquantum_layer\u001B[38;5;241m.\u001B[39mquantum_node)(\u001B[38;5;28mself\u001B[39m\u001B[38;5;241m.\u001B[39mquantum_layer\u001B[38;5;241m.\u001B[39mparams)\n\u001B[1;32m    175\u001B[0m plt\u001B[38;5;241m.\u001B[39mshow()\n",
      "File \u001B[0;32m~/miniconda3/envs/tesi/lib/python3.12/site-packages/pennylane/drawer/draw.py:582\u001B[0m, in \u001B[0;36m_draw_mpl_qnode.<locals>.wrapper\u001B[0;34m(*args, **kwargs_qnode)\u001B[0m\n\u001B[1;32m    580\u001B[0m \u001B[38;5;28;01mtry\u001B[39;00m:\n\u001B[1;32m    581\u001B[0m     qnode\u001B[38;5;241m.\u001B[39mexpansion_strategy \u001B[38;5;241m=\u001B[39m expansion_strategy \u001B[38;5;129;01mor\u001B[39;00m original_expansion_strategy\n\u001B[0;32m--> 582\u001B[0m     qnode\u001B[38;5;241m.\u001B[39mconstruct(args, kwargs_qnode)\n\u001B[1;32m    583\u001B[0m     program \u001B[38;5;241m=\u001B[39m qnode\u001B[38;5;241m.\u001B[39mtransform_program\n\u001B[1;32m    584\u001B[0m     [tape], _ \u001B[38;5;241m=\u001B[39m program([qnode\u001B[38;5;241m.\u001B[39mtape])\n",
      "File \u001B[0;32m~/miniconda3/envs/tesi/lib/python3.12/site-packages/pennylane/workflow/qnode.py:920\u001B[0m, in \u001B[0;36mQNode.construct\u001B[0;34m(self, args, kwargs)\u001B[0m\n\u001B[1;32m    915\u001B[0m terminal_measurements \u001B[38;5;241m=\u001B[39m [\n\u001B[1;32m    916\u001B[0m     m \u001B[38;5;28;01mfor\u001B[39;00m m \u001B[38;5;129;01min\u001B[39;00m \u001B[38;5;28mself\u001B[39m\u001B[38;5;241m.\u001B[39mtape\u001B[38;5;241m.\u001B[39mmeasurements \u001B[38;5;28;01mif\u001B[39;00m \u001B[38;5;129;01mnot\u001B[39;00m \u001B[38;5;28misinstance\u001B[39m(m, MidMeasureMP)\n\u001B[1;32m    917\u001B[0m ]\n\u001B[1;32m    919\u001B[0m \u001B[38;5;28;01mif\u001B[39;00m \u001B[38;5;28many\u001B[39m(ret \u001B[38;5;129;01mis\u001B[39;00m \u001B[38;5;129;01mnot\u001B[39;00m m \u001B[38;5;28;01mfor\u001B[39;00m ret, m \u001B[38;5;129;01min\u001B[39;00m \u001B[38;5;28mzip\u001B[39m(measurement_processes, terminal_measurements)):\n\u001B[0;32m--> 920\u001B[0m     \u001B[38;5;28;01mraise\u001B[39;00m qml\u001B[38;5;241m.\u001B[39mQuantumFunctionError(\n\u001B[1;32m    921\u001B[0m         \u001B[38;5;124m\"\u001B[39m\u001B[38;5;124mAll measurements must be returned in the order they are measured.\u001B[39m\u001B[38;5;124m\"\u001B[39m\n\u001B[1;32m    922\u001B[0m     )\n\u001B[1;32m    924\u001B[0m num_wires \u001B[38;5;241m=\u001B[39m \u001B[38;5;28mlen\u001B[39m(\u001B[38;5;28mself\u001B[39m\u001B[38;5;241m.\u001B[39mtape\u001B[38;5;241m.\u001B[39mwires) \u001B[38;5;28;01mif\u001B[39;00m \u001B[38;5;129;01mnot\u001B[39;00m \u001B[38;5;28mself\u001B[39m\u001B[38;5;241m.\u001B[39mdevice\u001B[38;5;241m.\u001B[39mwires \u001B[38;5;28;01melse\u001B[39;00m \u001B[38;5;28mlen\u001B[39m(\u001B[38;5;28mself\u001B[39m\u001B[38;5;241m.\u001B[39mdevice\u001B[38;5;241m.\u001B[39mwires)\n\u001B[1;32m    925\u001B[0m \u001B[38;5;28;01mfor\u001B[39;00m obj \u001B[38;5;129;01min\u001B[39;00m \u001B[38;5;28mself\u001B[39m\u001B[38;5;241m.\u001B[39mtape\u001B[38;5;241m.\u001B[39moperations \u001B[38;5;241m+\u001B[39m \u001B[38;5;28mself\u001B[39m\u001B[38;5;241m.\u001B[39mtape\u001B[38;5;241m.\u001B[39mobservables:\n",
      "\u001B[0;31mQuantumFunctionError\u001B[0m: All measurements must be returned in the order they are measured."
     ]
    }
   ],
   "execution_count": 3
  },
  {
   "metadata": {},
   "cell_type": "markdown",
   "source": "# Dataset preparation"
  },
  {
   "metadata": {
    "ExecuteTime": {
     "end_time": "2024-05-11T16:37:14.315799Z",
     "start_time": "2024-05-11T16:37:14.315751Z"
    }
   },
   "cell_type": "code",
   "source": [
    "# Download MNIST and prepare transforms\n",
    "mnist_train = datasets.MNIST(root='./data', train=True, download=True,\n",
    "                             transform=transforms.Compose([\n",
    "                                transforms.Resize((16, 16)),  # Resize to 16x16\n",
    "                                transforms.ToTensor(),\n",
    "                                transforms.Normalize((0.1307,), (0.3081,))  # Normalize\n",
    "                             ]))\n",
    "# Filter for zeros and ones\n",
    "data = []\n",
    "targets = []\n",
    "for image, label in mnist_train:\n",
    "    if label in [0, 1]:\n",
    "        data.append(image.squeeze())\n",
    "        targets.append(label)\n",
    "\n",
    "data = torch.stack(data)\n",
    "targets = torch.tensor(targets)\n",
    "# Select 1024 zeros and 1024 ones for speed\n",
    "zeros_indices = (targets == 0)\n",
    "ones_indices = (targets == 1)\n",
    "\n",
    "zeros = data[zeros_indices]\n",
    "ones = data[ones_indices]\n",
    "\n",
    "#normalize between 0 and 1\n",
    "zeros_max = torch.max(zeros.reshape(-1, 16*16), dim = 1)\n",
    "zeros_min = torch.min(zeros.reshape(-1, 16*16), dim = 1)\n",
    "ones_max = torch.max(ones.reshape(-1, 16*16), dim = 1)\n",
    "ones_min = torch.min(ones.reshape(-1, 16*16), dim = 1)\n",
    "\n",
    "def normalize(imgs):\n",
    "  maxes, _ = torch.max(imgs.reshape(-1, 16*16), dim = 1)\n",
    "  mins, _ = torch.min(imgs.reshape(-1, 16*16), dim = 1)\n",
    "\n",
    "  mins = mins.unsqueeze(1).unsqueeze(2)\n",
    "  maxes = maxes.unsqueeze(1).unsqueeze(2)\n",
    "\n",
    "  return (imgs-mins)/(maxes-mins)\n",
    "\n",
    "zeros = normalize(zeros)\n",
    "ones = normalize(ones)\n",
    "\n",
    "# assert images have min 0 and max 1 within an error of 1e-5\n",
    "assert torch.allclose(zeros.min(), torch.tensor(0., dtype = torch.float32), atol=1e-5)\n",
    "assert torch.allclose(zeros.max(), torch.tensor(1., dtype = torch.float32), atol=1e-5)\n",
    "assert torch.allclose(ones.min(), torch.tensor(0., dtype = torch.float32), atol=1e-5)\n",
    "assert torch.allclose(ones.max(), torch.tensor(1., dtype = torch.float32), atol=1e-5)\n",
    "\n",
    "# concatenate the two datasets\n",
    "zeros = zeros.flatten(start_dim = 1)\n",
    "ones = ones.flatten(start_dim = 1)\n",
    "dataset = torch.cat((zeros, ones), dim = 0)\n",
    "\n",
    "# add labels\n",
    "labels = torch.cat((torch.zeros((zeros.shape[0], 1)), torch.ones((ones.shape[0], 1))), dim = 0).squeeze()\n",
    "\n",
    "# build dataloader\n",
    "dataset = torch.utils.data.TensorDataset(dataset, labels)"
   ],
   "outputs": [],
   "execution_count": null
  },
  {
   "metadata": {},
   "cell_type": "code",
   "source": [
    "#train/test split 80/20\n",
    "\n",
    "train_size = int(0.8 * len(dataset))\n",
    "test_size = len(dataset) - train_size\n",
    "\n",
    "train_dataset, test_dataset = random_split(dataset, [train_size, test_size])\n",
    "\n",
    "#dataloader\n",
    "BATCH_SIZE = 32\n",
    "\n",
    "train_dataloader = DataLoader(train_dataset, batch_size = BATCH_SIZE, shuffle = True, drop_last = True)\n",
    "\n",
    "test_dataloader = DataLoader(test_dataset, batch_size = BATCH_SIZE, shuffle = True, drop_last = True)"
   ],
   "outputs": [],
   "execution_count": null
  },
  {
   "metadata": {},
   "cell_type": "code",
   "source": "len(train_dataset)",
   "outputs": [],
   "execution_count": null
  },
  {
   "metadata": {},
   "cell_type": "code",
   "source": "len(test_dataset)",
   "outputs": [],
   "execution_count": null
  },
  {
   "metadata": {},
   "cell_type": "markdown",
   "source": "# Model training"
  },
  {
   "metadata": {
    "ExecuteTime": {
     "end_time": "2024-05-11T16:35:20.137560Z",
     "start_time": "2024-05-11T16:35:19.906286Z"
    }
   },
   "cell_type": "code",
   "source": "model.fit(dataloader=train_dataloader, learning_rate=0.01, epochs=2, show_plot=True)",
   "outputs": [
    {
     "name": "stderr",
     "output_type": "stream",
     "text": [
      "Epoch 1/2:   0%|          | 0/316 [00:00<?, ?it/s]\n"
     ]
    },
    {
     "name": "stdout",
     "output_type": "stream",
     "text": [
      "probs:  probs(wires=[])\n",
      "\n",
      "state:  state(wires=[])\n"
     ]
    },
    {
     "ename": "QuantumFunctionError",
     "evalue": "All measurements must be returned in the order they are measured.",
     "output_type": "error",
     "traceback": [
      "\u001B[0;31m---------------------------------------------------------------------------\u001B[0m",
      "\u001B[0;31mQuantumFunctionError\u001B[0m                      Traceback (most recent call last)",
      "Cell \u001B[0;32mIn[9], line 1\u001B[0m\n\u001B[0;32m----> 1\u001B[0m model\u001B[38;5;241m.\u001B[39mfit(dataloader\u001B[38;5;241m=\u001B[39mtrain_dataloader, learning_rate\u001B[38;5;241m=\u001B[39m\u001B[38;5;241m0.01\u001B[39m, epochs\u001B[38;5;241m=\u001B[39m\u001B[38;5;241m2\u001B[39m, show_plot\u001B[38;5;241m=\u001B[39m\u001B[38;5;28;01mTrue\u001B[39;00m)\n",
      "File \u001B[0;32m~/Desktop/Documenti-giacomo/QML-early_exit/model.py:216\u001B[0m, in \u001B[0;36mFullQuantumModel.fit\u001B[0;34m(self, dataloader, learning_rate, epochs, loss_function, num_layers_to_execute, show_plot)\u001B[0m\n\u001B[1;32m    212\u001B[0m data \u001B[38;5;241m=\u001B[39m data \u001B[38;5;241m/\u001B[39m torch\u001B[38;5;241m.\u001B[39mlinalg\u001B[38;5;241m.\u001B[39mnorm(data, dim\u001B[38;5;241m=\u001B[39m\u001B[38;5;241m1\u001B[39m)\u001B[38;5;241m.\u001B[39mview(\u001B[38;5;241m-\u001B[39m\u001B[38;5;241m1\u001B[39m, \u001B[38;5;241m1\u001B[39m)\n\u001B[1;32m    214\u001B[0m optimizer\u001B[38;5;241m.\u001B[39mzero_grad()\n\u001B[0;32m--> 216\u001B[0m output \u001B[38;5;241m=\u001B[39m \u001B[38;5;28mself\u001B[39m\u001B[38;5;241m.\u001B[39mforward(state\u001B[38;5;241m=\u001B[39mdata, num_layers_to_execute\u001B[38;5;241m=\u001B[39mnum_layers_to_execute)\n\u001B[1;32m    218\u001B[0m predictions_per_epoch\u001B[38;5;241m.\u001B[39mappend((output \u001B[38;5;241m>\u001B[39m \u001B[38;5;241m0.5\u001B[39m))\n\u001B[1;32m    220\u001B[0m targets_per_epoch\u001B[38;5;241m.\u001B[39mappend(targets)\n",
      "File \u001B[0;32m~/Desktop/Documenti-giacomo/QML-early_exit/model.py:99\u001B[0m, in \u001B[0;36mFullQuantumModel.forward\u001B[0;34m(self, state, num_layers_to_execute)\u001B[0m\n\u001B[1;32m     85\u001B[0m \u001B[38;5;28;01mdef\u001B[39;00m \u001B[38;5;21mforward\u001B[39m(\u001B[38;5;28mself\u001B[39m, state: torch\u001B[38;5;241m.\u001B[39mTensor, num_layers_to_execute: Optional[\u001B[38;5;28mint\u001B[39m] \u001B[38;5;241m=\u001B[39m \u001B[38;5;28;01mNone\u001B[39;00m):\n\u001B[1;32m     86\u001B[0m \u001B[38;5;250m    \u001B[39m\u001B[38;5;124;03m\"\"\"\u001B[39;00m\n\u001B[1;32m     87\u001B[0m \u001B[38;5;124;03m    Calculate the probability distribution from quantum state measurements.\u001B[39;00m\n\u001B[1;32m     88\u001B[0m \n\u001B[0;32m   (...)\u001B[0m\n\u001B[1;32m     97\u001B[0m \n\u001B[1;32m     98\u001B[0m \u001B[38;5;124;03m    \"\"\"\u001B[39;00m\n\u001B[0;32m---> 99\u001B[0m     state_vector \u001B[38;5;241m=\u001B[39m \u001B[38;5;28mself\u001B[39m\u001B[38;5;241m.\u001B[39mquantum_layer(state\u001B[38;5;241m=\u001B[39mstate, num_layers_to_execute\u001B[38;5;241m=\u001B[39mnum_layers_to_execute)\n\u001B[1;32m    100\u001B[0m     probabilities \u001B[38;5;241m=\u001B[39m torch\u001B[38;5;241m.\u001B[39msum(torch\u001B[38;5;241m.\u001B[39mabs(state_vector[:, :\u001B[38;5;241m2\u001B[39m \u001B[38;5;241m*\u001B[39m\u001B[38;5;241m*\u001B[39m (\u001B[38;5;28mself\u001B[39m\u001B[38;5;241m.\u001B[39mquantum_layer\u001B[38;5;241m.\u001B[39mnum_qubits \u001B[38;5;241m-\u001B[39m \u001B[38;5;241m1\u001B[39m)]) \u001B[38;5;241m*\u001B[39m\u001B[38;5;241m*\u001B[39m \u001B[38;5;241m2\u001B[39m, dim\u001B[38;5;241m=\u001B[39m\u001B[38;5;241m1\u001B[39m)\n\u001B[1;32m    101\u001B[0m     \u001B[38;5;28;01mreturn\u001B[39;00m probabilities\u001B[38;5;241m.\u001B[39mtype(torch\u001B[38;5;241m.\u001B[39mfloat32)\n",
      "File \u001B[0;32m~/miniconda3/envs/tesi/lib/python3.12/site-packages/torch/nn/modules/module.py:1511\u001B[0m, in \u001B[0;36mModule._wrapped_call_impl\u001B[0;34m(self, *args, **kwargs)\u001B[0m\n\u001B[1;32m   1509\u001B[0m     \u001B[38;5;28;01mreturn\u001B[39;00m \u001B[38;5;28mself\u001B[39m\u001B[38;5;241m.\u001B[39m_compiled_call_impl(\u001B[38;5;241m*\u001B[39margs, \u001B[38;5;241m*\u001B[39m\u001B[38;5;241m*\u001B[39mkwargs)  \u001B[38;5;66;03m# type: ignore[misc]\u001B[39;00m\n\u001B[1;32m   1510\u001B[0m \u001B[38;5;28;01melse\u001B[39;00m:\n\u001B[0;32m-> 1511\u001B[0m     \u001B[38;5;28;01mreturn\u001B[39;00m \u001B[38;5;28mself\u001B[39m\u001B[38;5;241m.\u001B[39m_call_impl(\u001B[38;5;241m*\u001B[39margs, \u001B[38;5;241m*\u001B[39m\u001B[38;5;241m*\u001B[39mkwargs)\n",
      "File \u001B[0;32m~/miniconda3/envs/tesi/lib/python3.12/site-packages/torch/nn/modules/module.py:1520\u001B[0m, in \u001B[0;36mModule._call_impl\u001B[0;34m(self, *args, **kwargs)\u001B[0m\n\u001B[1;32m   1515\u001B[0m \u001B[38;5;66;03m# If we don't have any hooks, we want to skip the rest of the logic in\u001B[39;00m\n\u001B[1;32m   1516\u001B[0m \u001B[38;5;66;03m# this function, and just call forward.\u001B[39;00m\n\u001B[1;32m   1517\u001B[0m \u001B[38;5;28;01mif\u001B[39;00m \u001B[38;5;129;01mnot\u001B[39;00m (\u001B[38;5;28mself\u001B[39m\u001B[38;5;241m.\u001B[39m_backward_hooks \u001B[38;5;129;01mor\u001B[39;00m \u001B[38;5;28mself\u001B[39m\u001B[38;5;241m.\u001B[39m_backward_pre_hooks \u001B[38;5;129;01mor\u001B[39;00m \u001B[38;5;28mself\u001B[39m\u001B[38;5;241m.\u001B[39m_forward_hooks \u001B[38;5;129;01mor\u001B[39;00m \u001B[38;5;28mself\u001B[39m\u001B[38;5;241m.\u001B[39m_forward_pre_hooks\n\u001B[1;32m   1518\u001B[0m         \u001B[38;5;129;01mor\u001B[39;00m _global_backward_pre_hooks \u001B[38;5;129;01mor\u001B[39;00m _global_backward_hooks\n\u001B[1;32m   1519\u001B[0m         \u001B[38;5;129;01mor\u001B[39;00m _global_forward_hooks \u001B[38;5;129;01mor\u001B[39;00m _global_forward_pre_hooks):\n\u001B[0;32m-> 1520\u001B[0m     \u001B[38;5;28;01mreturn\u001B[39;00m forward_call(\u001B[38;5;241m*\u001B[39margs, \u001B[38;5;241m*\u001B[39m\u001B[38;5;241m*\u001B[39mkwargs)\n\u001B[1;32m   1522\u001B[0m \u001B[38;5;28;01mtry\u001B[39;00m:\n\u001B[1;32m   1523\u001B[0m     result \u001B[38;5;241m=\u001B[39m \u001B[38;5;28;01mNone\u001B[39;00m\n",
      "File \u001B[0;32m~/Desktop/Documenti-giacomo/QML-early_exit/model.py:70\u001B[0m, in \u001B[0;36mQuantumCircuit.forward\u001B[0;34m(self, state, num_layers_to_execute)\u001B[0m\n\u001B[1;32m     62\u001B[0m \u001B[38;5;28;01mdef\u001B[39;00m \u001B[38;5;21mforward\u001B[39m(\u001B[38;5;28mself\u001B[39m, state: torch\u001B[38;5;241m.\u001B[39mTensor \u001B[38;5;241m=\u001B[39m \u001B[38;5;28;01mNone\u001B[39;00m, num_layers_to_execute: Optional[\u001B[38;5;28mint\u001B[39m] \u001B[38;5;241m=\u001B[39m \u001B[38;5;28;01mNone\u001B[39;00m) \u001B[38;5;241m-\u001B[39m\u001B[38;5;241m>\u001B[39m StateMP:\n\u001B[1;32m     63\u001B[0m \u001B[38;5;250m    \u001B[39m\u001B[38;5;124;03m\"\"\"\u001B[39;00m\n\u001B[1;32m     64\u001B[0m \u001B[38;5;124;03m    Perform a forward pass on the quantum circuit.\u001B[39;00m\n\u001B[1;32m     65\u001B[0m \n\u001B[0;32m   (...)\u001B[0m\n\u001B[1;32m     68\u001B[0m \u001B[38;5;124;03m    :return: the output state of the quantum circuit in the computational basis\u001B[39;00m\n\u001B[1;32m     69\u001B[0m \u001B[38;5;124;03m    \"\"\"\u001B[39;00m\n\u001B[0;32m---> 70\u001B[0m     \u001B[38;5;28;01mreturn\u001B[39;00m \u001B[38;5;28mself\u001B[39m\u001B[38;5;241m.\u001B[39mquantum_node(params\u001B[38;5;241m=\u001B[39m\u001B[38;5;28mself\u001B[39m\u001B[38;5;241m.\u001B[39mparams, state\u001B[38;5;241m=\u001B[39mstate, num_layers_to_execute\u001B[38;5;241m=\u001B[39mnum_layers_to_execute)\n",
      "File \u001B[0;32m~/miniconda3/envs/tesi/lib/python3.12/site-packages/pennylane/workflow/qnode.py:1002\u001B[0m, in \u001B[0;36mQNode.__call__\u001B[0;34m(self, *args, **kwargs)\u001B[0m\n\u001B[1;32m    999\u001B[0m         kwargs[\u001B[38;5;124m\"\u001B[39m\u001B[38;5;124mshots\u001B[39m\u001B[38;5;124m\"\u001B[39m] \u001B[38;5;241m=\u001B[39m _get_device_shots(\u001B[38;5;28mself\u001B[39m\u001B[38;5;241m.\u001B[39m_original_device)\n\u001B[1;32m   1001\u001B[0m \u001B[38;5;66;03m# construct the tape\u001B[39;00m\n\u001B[0;32m-> 1002\u001B[0m \u001B[38;5;28mself\u001B[39m\u001B[38;5;241m.\u001B[39mconstruct(args, kwargs)\n\u001B[1;32m   1004\u001B[0m cache \u001B[38;5;241m=\u001B[39m \u001B[38;5;28mself\u001B[39m\u001B[38;5;241m.\u001B[39mexecute_kwargs\u001B[38;5;241m.\u001B[39mget(\u001B[38;5;124m\"\u001B[39m\u001B[38;5;124mcache\u001B[39m\u001B[38;5;124m\"\u001B[39m, \u001B[38;5;28;01mFalse\u001B[39;00m)\n\u001B[1;32m   1005\u001B[0m using_custom_cache \u001B[38;5;241m=\u001B[39m (\n\u001B[1;32m   1006\u001B[0m     \u001B[38;5;28mhasattr\u001B[39m(cache, \u001B[38;5;124m\"\u001B[39m\u001B[38;5;124m__getitem__\u001B[39m\u001B[38;5;124m\"\u001B[39m)\n\u001B[1;32m   1007\u001B[0m     \u001B[38;5;129;01mand\u001B[39;00m \u001B[38;5;28mhasattr\u001B[39m(cache, \u001B[38;5;124m\"\u001B[39m\u001B[38;5;124m__setitem__\u001B[39m\u001B[38;5;124m\"\u001B[39m)\n\u001B[1;32m   1008\u001B[0m     \u001B[38;5;129;01mand\u001B[39;00m \u001B[38;5;28mhasattr\u001B[39m(cache, \u001B[38;5;124m\"\u001B[39m\u001B[38;5;124m__delitem__\u001B[39m\u001B[38;5;124m\"\u001B[39m)\n\u001B[1;32m   1009\u001B[0m )\n",
      "File \u001B[0;32m~/miniconda3/envs/tesi/lib/python3.12/site-packages/pennylane/workflow/qnode.py:920\u001B[0m, in \u001B[0;36mQNode.construct\u001B[0;34m(self, args, kwargs)\u001B[0m\n\u001B[1;32m    915\u001B[0m terminal_measurements \u001B[38;5;241m=\u001B[39m [\n\u001B[1;32m    916\u001B[0m     m \u001B[38;5;28;01mfor\u001B[39;00m m \u001B[38;5;129;01min\u001B[39;00m \u001B[38;5;28mself\u001B[39m\u001B[38;5;241m.\u001B[39mtape\u001B[38;5;241m.\u001B[39mmeasurements \u001B[38;5;28;01mif\u001B[39;00m \u001B[38;5;129;01mnot\u001B[39;00m \u001B[38;5;28misinstance\u001B[39m(m, MidMeasureMP)\n\u001B[1;32m    917\u001B[0m ]\n\u001B[1;32m    919\u001B[0m \u001B[38;5;28;01mif\u001B[39;00m \u001B[38;5;28many\u001B[39m(ret \u001B[38;5;129;01mis\u001B[39;00m \u001B[38;5;129;01mnot\u001B[39;00m m \u001B[38;5;28;01mfor\u001B[39;00m ret, m \u001B[38;5;129;01min\u001B[39;00m \u001B[38;5;28mzip\u001B[39m(measurement_processes, terminal_measurements)):\n\u001B[0;32m--> 920\u001B[0m     \u001B[38;5;28;01mraise\u001B[39;00m qml\u001B[38;5;241m.\u001B[39mQuantumFunctionError(\n\u001B[1;32m    921\u001B[0m         \u001B[38;5;124m\"\u001B[39m\u001B[38;5;124mAll measurements must be returned in the order they are measured.\u001B[39m\u001B[38;5;124m\"\u001B[39m\n\u001B[1;32m    922\u001B[0m     )\n\u001B[1;32m    924\u001B[0m num_wires \u001B[38;5;241m=\u001B[39m \u001B[38;5;28mlen\u001B[39m(\u001B[38;5;28mself\u001B[39m\u001B[38;5;241m.\u001B[39mtape\u001B[38;5;241m.\u001B[39mwires) \u001B[38;5;28;01mif\u001B[39;00m \u001B[38;5;129;01mnot\u001B[39;00m \u001B[38;5;28mself\u001B[39m\u001B[38;5;241m.\u001B[39mdevice\u001B[38;5;241m.\u001B[39mwires \u001B[38;5;28;01melse\u001B[39;00m \u001B[38;5;28mlen\u001B[39m(\u001B[38;5;28mself\u001B[39m\u001B[38;5;241m.\u001B[39mdevice\u001B[38;5;241m.\u001B[39mwires)\n\u001B[1;32m    925\u001B[0m \u001B[38;5;28;01mfor\u001B[39;00m obj \u001B[38;5;129;01min\u001B[39;00m \u001B[38;5;28mself\u001B[39m\u001B[38;5;241m.\u001B[39mtape\u001B[38;5;241m.\u001B[39moperations \u001B[38;5;241m+\u001B[39m \u001B[38;5;28mself\u001B[39m\u001B[38;5;241m.\u001B[39mtape\u001B[38;5;241m.\u001B[39mobservables:\n",
      "\u001B[0;31mQuantumFunctionError\u001B[0m: All measurements must be returned in the order they are measured."
     ]
    }
   ],
   "execution_count": 9
  },
  {
   "metadata": {
    "ExecuteTime": {
     "end_time": "2024-05-09T14:07:13.291100Z",
     "start_time": "2024-05-09T14:07:12.139210Z"
    }
   },
   "cell_type": "code",
   "source": [
    "model.freeze_layers(list(range(model.num_layers)))\n",
    "model.eval()\n",
    "\n",
    "accuracy = []\n",
    "for data, targets in test_dataloader:\n",
    "    data = data / torch.linalg.norm(data, dim=1).view(-1, 1)\n",
    "    output = model(data)\n",
    "    accuracy.append(torch.sum((output > 0.5) == targets).item() / test_dataloader.batch_size)\n",
    "    \n",
    "accuracy = sum(accuracy)/len(accuracy)\n",
    "print(accuracy)"
   ],
   "outputs": [
    {
     "name": "stdout",
     "output_type": "stream",
     "text": [
      "0.9909018987341772\n"
     ]
    }
   ],
   "execution_count": 13
  },
  {
   "metadata": {
    "ExecuteTime": {
     "end_time": "2024-05-09T14:06:34.132586Z",
     "start_time": "2024-05-09T14:06:34.128567Z"
    }
   },
   "cell_type": "code",
   "source": "accuracy",
   "outputs": [
    {
     "data": {
      "text/plain": [
       "[1.0,\n",
       " 1.0,\n",
       " 1.0,\n",
       " 1.0,\n",
       " 1.0,\n",
       " 1.0,\n",
       " 1.0,\n",
       " 1.0,\n",
       " 1.0,\n",
       " 1.0,\n",
       " 1.0,\n",
       " 0.96875,\n",
       " 1.0,\n",
       " 1.0,\n",
       " 1.0,\n",
       " 1.0,\n",
       " 1.0,\n",
       " 1.0,\n",
       " 0.96875,\n",
       " 0.96875,\n",
       " 0.96875,\n",
       " 1.0,\n",
       " 1.0,\n",
       " 1.0,\n",
       " 1.0,\n",
       " 1.0,\n",
       " 0.96875,\n",
       " 1.0,\n",
       " 1.0,\n",
       " 1.0,\n",
       " 1.0,\n",
       " 1.0,\n",
       " 0.96875,\n",
       " 1.0,\n",
       " 0.96875,\n",
       " 1.0,\n",
       " 0.9375,\n",
       " 1.0,\n",
       " 1.0,\n",
       " 1.0,\n",
       " 1.0,\n",
       " 1.0,\n",
       " 1.0,\n",
       " 1.0,\n",
       " 0.96875,\n",
       " 0.96875,\n",
       " 1.0,\n",
       " 1.0,\n",
       " 1.0,\n",
       " 0.96875,\n",
       " 1.0,\n",
       " 1.0,\n",
       " 1.0,\n",
       " 1.0,\n",
       " 0.96875,\n",
       " 0.96875,\n",
       " 1.0,\n",
       " 1.0,\n",
       " 0.96875,\n",
       " 1.0,\n",
       " 1.0,\n",
       " 0.96875,\n",
       " 0.96875,\n",
       " 0.96875,\n",
       " 1.0,\n",
       " 0.96875,\n",
       " 0.96875,\n",
       " 1.0,\n",
       " 1.0,\n",
       " 1.0,\n",
       " 1.0,\n",
       " 1.0,\n",
       " 0.96875,\n",
       " 1.0,\n",
       " 0.96875,\n",
       " 1.0,\n",
       " 1.0,\n",
       " 0.96875,\n",
       " 1.0]"
      ]
     },
     "execution_count": 12,
     "metadata": {},
     "output_type": "execute_result"
    }
   ],
   "execution_count": 12
  },
  {
   "metadata": {},
   "cell_type": "code",
   "outputs": [],
   "execution_count": null,
   "source": ""
  }
 ],
 "metadata": {
  "kernelspec": {
   "display_name": "Python 3",
   "language": "python",
   "name": "python3"
  },
  "language_info": {
   "codemirror_mode": {
    "name": "ipython",
    "version": 2
   },
   "file_extension": ".py",
   "mimetype": "text/x-python",
   "name": "python",
   "nbconvert_exporter": "python",
   "pygments_lexer": "ipython2",
   "version": "2.7.6"
  }
 },
 "nbformat": 4,
 "nbformat_minor": 0
}
