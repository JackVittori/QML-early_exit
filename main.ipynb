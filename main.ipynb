{
 "cells": [
  {
   "cell_type": "code",
   "metadata": {
    "collapsed": true,
    "ExecuteTime": {
     "end_time": "2024-09-04T16:18:50.316520Z",
     "start_time": "2024-09-04T16:18:50.176873Z"
    }
   },
   "source": [
    "from OriginalModel import FullQuantumModel, QuantumCircuit\n",
    "import torch\n",
    "import torchvision.datasets as datasets\n",
    "import torchvision.transforms as transforms\n",
    "from data_utils import mnist_preparation \n",
    "import math\n",
    "import matplotlib.pyplot as plt\n",
    "import seaborn as sns\n",
    "from collections import Counter\n",
    "import numpy as np\n",
    "from tqdm import tqdm\n",
    "from sklearn.metrics import confusion_matrix, ConfusionMatrixDisplay"
   ],
   "execution_count": 1,
   "outputs": []
  },
  {
   "metadata": {
    "ExecuteTime": {
     "end_time": "2024-09-04T16:18:50.317287Z",
     "start_time": "2024-09-04T16:18:50.317238Z"
    }
   },
   "cell_type": "code",
   "source": [
    "#states of 8 qubits\n",
    "for i in range(256):\n",
    "    print(format(i, '08b'))"
   ],
   "execution_count": null,
   "outputs": []
  },
  {
   "cell_type": "code",
   "source": [
    "#Model instantiation\n",
    "num_qubits = 8\n",
    "num_layers = 6\n",
    "model = FullQuantumModel(qubits=num_qubits, layers=num_layers, num_classes=4)"
   ],
   "metadata": {
    "collapsed": false
   },
   "execution_count": null,
   "outputs": []
  },
  {
   "metadata": {},
   "cell_type": "code",
   "source": "model.draw(style = 'sketch')",
   "execution_count": null,
   "outputs": []
  },
  {
   "metadata": {},
   "cell_type": "code",
   "source": "model.trainable_parameters()",
   "execution_count": null,
   "outputs": []
  },
  {
   "metadata": {},
   "cell_type": "markdown",
   "source": "# Dataset preparation"
  },
  {
   "metadata": {},
   "cell_type": "code",
   "execution_count": null,
   "source": "labels = [0,1,2,3]",
   "outputs": []
  },
  {
   "metadata": {},
   "cell_type": "code",
   "execution_count": null,
   "source": [
    "# Download MNIST and prepare transforms\n",
    "mnist = datasets.MNIST(root='./data', train=True, download=True, transform=transforms.Compose([\n",
    "                                transforms.Resize((16, 16)),  # Resize to 16x16\n",
    "                                transforms.ToTensor(),\n",
    "                                transforms.Normalize((0.1307,), (0.3081,))  # Normalize\n",
    "                             ]))"
   ],
   "outputs": []
  },
  {
   "metadata": {},
   "cell_type": "code",
   "execution_count": null,
   "source": "train_dataloader, test_dataloader = mnist_preparation(dataset=mnist, labels = labels, train_test_ratio=0.8,batch_size=64)",
   "outputs": []
  },
  {
   "metadata": {},
   "cell_type": "markdown",
   "source": [
    "# Model training\n",
    "\n",
    "A tutorial on how to train the model with the different functionalities is hereafter reported:"
   ]
  },
  {
   "metadata": {
    "jupyter": {
     "is_executing": true
    }
   },
   "cell_type": "code",
   "source": [
    "# 'normal' training of the whole model\n",
    "model.fit(dataloader=train_dataloader, learning_rate=0.01, epochs=8, show_plot=True)"
   ],
   "execution_count": null,
   "outputs": []
  },
  {
   "metadata": {
    "ExecuteTime": {
     "end_time": "2024-05-17T12:53:13.746276Z",
     "start_time": "2024-05-17T12:52:53.084115Z"
    }
   },
   "cell_type": "code",
   "source": [
    "# training of the model up to the forth layer: take prediction after four layers and train only the layer before that\n",
    "model.fit(dataloader=train_dataloader, learning_rate=0.0001, epochs=1, num_layers_to_execute=4, show_plot=True)"
   ],
   "execution_count": 18,
   "outputs": []
  },
  {
   "metadata": {
    "ExecuteTime": {
     "end_time": "2024-05-17T12:53:24.970658Z",
     "start_time": "2024-05-17T12:53:13.747620Z"
    }
   },
   "cell_type": "code",
   "source": [
    "# training of the model up to the forth layer: take prediction after second layers and train only the layer before that\n",
    "model.fit(dataloader=train_dataloader, learning_rate=0.0001, epochs=1, num_layers_to_execute=2, show_plot=True)"
   ],
   "execution_count": 19,
   "outputs": []
  },
  {
   "metadata": {},
   "cell_type": "markdown",
   "source": "# Test"
  },
  {
   "metadata": {
    "ExecuteTime": {
     "end_time": "2024-05-17T12:53:32.276092Z",
     "start_time": "2024-05-17T12:53:32.273756Z"
    }
   },
   "cell_type": "code",
   "source": [
    "#freeze the layer after that the previous cell has already freeze all but the first two\n",
    "model.freeze_layers([0,1])\n",
    "model.trainable_parameters()"
   ],
   "execution_count": 20,
   "outputs": []
  },
  {
   "metadata": {
    "ExecuteTime": {
     "end_time": "2024-05-17T12:54:47.058703Z",
     "start_time": "2024-05-17T12:53:34.097287Z"
    }
   },
   "cell_type": "code",
   "source": [
    "#set a threshold for confidence value\n",
    "threshold = 0.3\n",
    "\n",
    "#save prediction of the test set, there is an early exit on layer 2 and 4\n",
    "#that will be used when the confidence will be adequately high, i.e. the \n",
    "#probabilty associated to one of the possible states is greater than the\n",
    "#threshold\n",
    "\n",
    "results = {\n",
    "    '2_layers': [],\n",
    "    '4_layers': [],\n",
    "    '6_layers': []\n",
    "}\n",
    "\n",
    "for img, label in tqdm(test_dataloader.dataset): \n",
    "    img = img / torch.linalg.norm(img).view(-1, 1)\n",
    "    \n",
    "    #forward pass until the first 2 layers\n",
    "    probs = model.forward(state=img, num_layers_to_execute=2)\n",
    "    prediction = torch.argmax(probs, dim=1)\n",
    "    confidence = probs[0, prediction]\n",
    "    \n",
    "    if confidence > threshold:\n",
    "        results['2_layers'].append((prediction, label))\n",
    "    else: \n",
    "        #forward pass until the 4 layer\n",
    "        probs = model.forward(state=img, num_layers_to_execute=4)\n",
    "        prediction = torch.argmax(probs, dim=1)\n",
    "        confidence = probs[0, prediction]\n",
    "        \n",
    "        if confidence > threshold:\n",
    "            results['4_layers'].append((prediction, label))\n",
    "        \n",
    "        else:\n",
    "            probs = model.forward(state=img, num_layers_to_execute=6)\n",
    "            prediction = torch.argmax(probs, dim=1)\n",
    "            results['6_layers'].append((prediction,label))"
   ],
   "execution_count": 21,
   "outputs": []
  },
  {
   "metadata": {
    "ExecuteTime": {
     "end_time": "2024-05-17T12:54:47.069411Z",
     "start_time": "2024-05-17T12:54:47.059656Z"
    }
   },
   "cell_type": "code",
   "source": [
    "#accuracy computation\n",
    "\n",
    "def calculate_accuracy(data):\n",
    "    correct = sum([1 for label, prediction in data if label == prediction])\n",
    "    return correct, correct / len(data)\n",
    "\n",
    "correct_2_layers, accuracy_2_layers = calculate_accuracy(results['2_layers'])\n",
    "correct_4_layers, accuracy_4_layers = calculate_accuracy(results['4_layers'])\n",
    "correct_6_layers, accuracy_6_layers = calculate_accuracy(results['6_layers'])\n",
    "\n",
    "print(f\"{len(results['2_layers'])} elements in 2 layers with Accuracy : {accuracy_2_layers}\")\n",
    "\n",
    "print(f\"{len(results['4_layers'])} elements in 4 layers with Accuracy : {accuracy_4_layers}\")\n",
    "\n",
    "print(f\"{len(results['6_layers'])} elements in 2 layers with Accuracy : {accuracy_6_layers}\")\n",
    "\n",
    "print(f\"Overall accuracy: {(correct_2_layers+correct_4_layers+correct_6_layers)/len(test_dataloader.dataset)}\")"
   ],
   "execution_count": 22,
   "outputs": []
  },
  {
   "metadata": {
    "ExecuteTime": {
     "end_time": "2024-05-17T13:08:43.390027Z",
     "start_time": "2024-05-17T13:08:43.195675Z"
    }
   },
   "cell_type": "code",
   "source": [
    "#pie chart to display the distribution of labels that are classified in each exit \n",
    "def plot_pie_charts(results):\n",
    "    fig, axes = plt.subplots(1, 3, figsize=(24, 8)) \n",
    "\n",
    "    \n",
    "    titles = [\"Label distribution in 2 layers\", \"Label distribution in 4 layers\", \"Label distribution in 6 layers\"]\n",
    "    \n",
    "    for idx, key in enumerate(['2_layers', '4_layers', '6_layers']):\n",
    "        data = results[key]\n",
    "        labels, counts = zip(*Counter([label.item() for _, label in data]).items())\n",
    "        axes[idx].pie(counts, labels=labels, autopct='%1.1f%%', startangle=140)\n",
    "        axes[idx].set_title(titles[idx])\n",
    "        axes[idx].axis('equal') \n",
    "\n",
    "    plt.tight_layout()\n",
    "    plt.show()\n",
    "\n",
    "\n",
    "plot_pie_charts(results)"
   ],
   "execution_count": 25,
   "outputs": []
  },
  {
   "metadata": {
    "ExecuteTime": {
     "end_time": "2024-05-17T13:08:58.312366Z",
     "start_time": "2024-05-17T13:08:57.674202Z"
    }
   },
   "cell_type": "code",
   "source": [
    "#confusion matrix \n",
    "\n",
    "results = {\n",
    "    '2_layers': [(torch.tensor([pred]), torch.tensor([label])) for pred, label in results['2_layers']],\n",
    "    '4_layers': [(torch.tensor([pred]), torch.tensor([label])) for pred, label in results['4_layers']],\n",
    "    '6_layers': [(torch.tensor([pred]), torch.tensor([label])) for pred, label in results['6_layers']]\n",
    "}\n",
    "\n",
    "def plot_confusion_matrix(results, layer_name, ax):\n",
    "    all_preds = torch.cat([x[0] for x in results])\n",
    "    all_labels = torch.cat([x[1] for x in results])\n",
    "    \n",
    "    cm = confusion_matrix(all_labels.numpy(), all_preds.numpy())\n",
    "    disp = ConfusionMatrixDisplay(confusion_matrix=cm)\n",
    "    \n",
    "    disp.plot(cmap=plt.cm.Blues, ax=ax)\n",
    "    ax.set_title(f'Confusion Matrix for {layer_name}')\n",
    "    ax.set_xlabel('Predicted')\n",
    "    ax.set_ylabel('True')\n",
    "\n",
    "\n",
    "fig, axes = plt.subplots(2, 3, figsize=(18, 12))\n",
    "\n",
    "\n",
    "plot_confusion_matrix(results['2_layers'], '2 Layers', axes[0, 0])\n",
    "plot_confusion_matrix(results['4_layers'], '4 Layers', axes[0, 1])\n",
    "plot_confusion_matrix(results['6_layers'], '6 Layers', axes[0, 2])\n",
    "\n",
    "all_results = results['2_layers'] + results['4_layers'] + results['6_layers']\n",
    "plot_confusion_matrix(all_results, 'Overall Model', axes[1, 1])\n",
    "\n",
    "fig.delaxes(axes[1, 0])\n",
    "fig.delaxes(axes[1, 2])\n",
    "\n",
    "plt.tight_layout()\n",
    "plt.show()"
   ],
   "execution_count": 26,
   "outputs": []
  }
 ],
 "metadata": {
  "kernelspec": {
   "display_name": "Python 3",
   "language": "python",
   "name": "python3"
  },
  "language_info": {
   "codemirror_mode": {
    "name": "ipython",
    "version": 2
   },
   "file_extension": ".py",
   "mimetype": "text/x-python",
   "name": "python",
   "nbconvert_exporter": "python",
   "pygments_lexer": "ipython2",
   "version": "2.7.6"
  }
 },
 "nbformat": 4,
 "nbformat_minor": 0
}
