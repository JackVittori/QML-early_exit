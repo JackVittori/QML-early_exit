{
 "cells": [
  {
   "metadata": {},
   "cell_type": "markdown",
   "source": [
    "# Dataset preparation\n",
    "\n",
    "In this section MNIST dataset is used. I define [here](https://github.com/JackVittori/QML-early_exit/blob/main/data_utils.py) a class in order to preprocess it and select the labels you want. "
   ],
   "id": "da2da910edf7593c"
  },
  {
   "metadata": {
    "ExecuteTime": {
     "end_time": "2024-09-06T07:37:01.378404Z",
     "start_time": "2024-09-06T07:36:58.137403Z"
    }
   },
   "cell_type": "code",
   "source": [
    "import torch\n",
    "import pennylane as qml\n",
    "from pennylane import numpy as np\n",
    "import torchvision.datasets as datasets\n",
    "import torchvision.transforms as transforms\n",
    "from data_utils import mnist_preparation \n",
    "from evaluationUtils import calculate_mcm_accuracy\n",
    "from tqdm import tqdm\n",
    "import matplotlib as plt\n",
    "from OriginalModel import FullQuantumModel, QuantumCircuit\n",
    "from mcmModel import MCMQuantumModel, MCMCircuit\n",
    "from pennylane import Device\n",
    "from pennylane.measurements import StateMP\n",
    "from torch.nn import Module, ParameterDict\n",
    "import matplotlib.pyplot as plt\n",
    "import warnings\n",
    "from typing import Optional, Dict, List, Any\n",
    "from torch.utils.data import DataLoader, dataloader\n",
    "from time import time\n",
    "import math\n",
    "from pennylane.measurements import MidMeasureMP\n",
    "\n",
    "torch.manual_seed(1234)"
   ],
   "id": "c8217a65145589bb",
   "execution_count": 1,
   "outputs": []
  },
  {
   "metadata": {},
   "cell_type": "markdown",
   "source": [
    "# Theory: Pure and mixed states\n",
    "In simple terms, a state is **pure** if you do not have ignorance about its preparation while it is **mixed** if you do not know. The so called **density operator**, is a useful tool to describe quantum states especially when they are mixes and can be defined as:\n",
    "\n",
    "$$\n",
    "\\hat{\\rho} = \\sum \\limits_i p_i | \\phi_i \\rangle \\langle \\phi_i |\n",
    "$$ \n",
    "\n",
    "where the probabilities $\\sum \\limits_i p_i = 1$ and each of $p_i$ is associated to state $|\\phi_i \\rangle$. The density operator is useful to describe mixed states. For a pure state instead you will have the probability being 1 in a specific state ending up in $\\hat{\\rho} = | \\phi \\rangle \\langle \\phi |$. \n",
    "\n",
    "The density operator can be represented as a matrix using the basis $\\{ |i \\rangle \\}_{i=1}^{2^N}$, where N is the number of qubits, then the ij-th element of the matrix will be $\\langle i | \\rho | j \\rangle$. In matrix representation on the diagonal there are the so called *population terms* and off diagonal the *coherence terms*.\n",
    "\n",
    "The density operator: \n",
    "- is hermitian, meaning that on the diagonal $\\rho_{ii} = \\rho_{ii}^*$ and off diagonal $\\rho_{ij}= \\rho{ji}^*$;\n",
    "- has unitary trace $\\text{tr}[\\rho] = 1$; \n",
    "- is non negative, i.e. for any vector in the Hilbert space $\\langle \\phi |\\rho | \\phi \\rangle \\geq 0$. \n",
    "\n",
    "A simple criterion to check if a state is pure or mixed is to calculate $\\text{tr}[\\rho^2]$, if it is 1 it is pure, if it is less than 1 it is mixed.\n",
    "\n"
   ],
   "id": "b29989c5d2da7d90"
  },
  {
   "metadata": {},
   "cell_type": "markdown",
   "source": [
    "# Overview of the original model\n",
    "The original model has been given in a .ipynb file that can be consulted [here](https://github.com/JackVittori/QML-early_exit/blob/main/PQC_MNIST_classifier.ipynb), but I decided to rearrange it in a [class](https://github.com/JackVittori/QML-early_exit/blob/main/OriginalModel.py) adding some useful methods as to freeze and unfreeze weights and to train up to a certain layer. \n",
    " \n",
    "The initial state of the system is initialized using one image. If the image is of size 16x16, then you need 8 qubits in order to have $2^8 = 256$ possible states in order to associate each of the 256 values referred to an image to define the amplitude to be in a specific state (obviously they need to be normalized in order to have that the sum of square modulo of the weights to be 1). In PennyLane, the states are in lexiographic order, whose meaning is hereafter reported for completeness:  \n",
    "\n",
    " "
   ],
   "id": "9a9def132269d92d"
  },
  {
   "metadata": {
    "ExecuteTime": {
     "end_time": "2024-09-05T10:43:25.278342Z",
     "start_time": "2024-09-05T10:43:25.276229Z"
    }
   },
   "cell_type": "code",
   "source": [
    "#lexiographic order\n",
    "states = []\n",
    "for i in range(256):\n",
    "    states.append(format(i, '08b'))  \n",
    "print(states)"
   ],
   "id": "9f065433e689da5e",
   "execution_count": 2,
   "outputs": []
  },
  {
   "metadata": {},
   "cell_type": "markdown",
   "source": [
    "Considering that $\\text{dim}\\mathcal{H}_8 = 2^8$, that the computational basis for an 8-qubit system is $\\{ |00000000\\rangle, |00000001 \\rangle, \\dots, |11111111 \\rangle \\}$ and can be synthetically expressed as $\\{ |i \\rangle \\}_{i = 1}^{2^8}$, the general initial state can be expressed as: \n",
    "\n",
    "$$\n",
    "|\\psi \\rangle = \\sum \\limits_{i=1}^{256} \\alpha_i |i \\rangle\n",
    "$$\n",
    "\n",
    "where $\\alpha_i$ are complex coefficients such that $\\sum \\limits_{i=1}^{256} \\alpha_i = 1$. "
   ],
   "id": "4f2ab2392f79ba2f"
  },
  {
   "metadata": {},
   "cell_type": "markdown",
   "source": [
    "Each layer of the original model consists in parametrized rotations defined using the $\\sigma_X, \\sigma_Y, \\sigma_Z$ Pauli Matrices [RX](https://docs.pennylane.ai/en/stable/code/api/pennylane.RX.html), [RY](https://docs.pennylane.ai/en/stable/code/api/pennylane.RY.html), [RZ](https://docs.pennylane.ai/en/stable/code/api/pennylane.RZ.html) gates applied on each qubit, then [CNOT](https://docs.pennylane.ai/en/stable/code/api/pennylane.CNOT.html) gates are applied to create entanglement. **CNOT** is a 2 qubit gate with a *control* and a *target* qubit (if the control is $|1\\rangle$ swap the target qubit). Then suppose to apply a CNOT gate on a two qubit state in the form $(\\alpha |0\\rangle_A + \\beta |1\\rangle_A)|0\\rangle_B$ you will obtain the entangled state $\\alpha|00\\rangle_{AB} + \\beta |11\\rangle_{AB}$.\n",
    "\n",
    "A very small recap on entanglement is hereafter reported. Considering a system composed by two subsystems A,B, for pure states it can be described by $|\\phi \\rangle_{AB}$. Then the state is **separable** iff: \n",
    "\n",
    "$$\n",
    "$|\\phi \\rangle_{AB}$ = |\\phi \\rangle_A \\otimes |\\phi \\rangle_B\n",
    "$$\n",
    "\n",
    "For example $\\frac{|00\\rangle_{AB} + |01 \\rangle_{AB}}{\\sqrt{2}$ is separable beacuse it can be written as $\\frac{|0\\rangle_{A} (|0\\rangle_{B} + |1 \\rangle_{B})}{\\sqrt{2}$.\n",
    "\n",
    "If the state is not separable it is **entangled**. This fact is not easy to prove, for this reason there exists some criteria working under specific circumstances that I do not specify there but can be consulted in Nielsen Chuang or Principles of Quantum computation Vol 1,2 of Benenti Casati Strini.\n",
    " \n",
    "One example of Entangled states are the [Bell states](https://en.wikipedia.org/wiki/Bell_state), that can be used as a basis of Entangled Hilbert Space.\n",
    "\n",
    "For mixed states instead we can use an operational approach to express **separability** called Local Operation and Classical Communication. A and B, prepare separable states locally and cooperate with classical communication to create the full state: \n",
    "\n",
    "$$\n",
    "\\rho_{AB} = \\sum \\limits_i p_i \\rho_A^i \\otimes \\rho_B^i\n",
    "$$\n",
    "\n",
    "Also there if a state is not separable, then it is **entangled** and there exists some criteria that make use of Von Neumann Entropy or other tool to check if the state is entangled."
   ],
   "id": "7d6f45b44731a656"
  },
  {
   "metadata": {},
   "cell_type": "markdown",
   "source": [
    "## Original Model Implementation\n",
    "Refer to [this implementation](https://github.com/JackVittori/QML-early_exit/blob/main/initial-model.py) for the original model where you can use the methods that I defined to freeze/unfreeze the weights of each layer, draw the circuit, put early exits and train (also with some fixed layers) with any number of classes you want. The logic was simple: \n",
    "\n",
    "- 2 classes: use the first qubit for classification, the first 128 states of the state vector refer to $|0\\rangle$ state, the last 128 to $|1\\rangle$ state. Use BCE loss to train and probability as confidence measure for early exits. \n",
    "- 3 classes: use two qubits for classification, then you will have 4 possible states $|00\\rangle, |01\\rangle, |10\\rangle, |11\\rangle$. Use the first 3 states for classification, the output probabilities will be used as logits (has having 4 states they will not sum up to one) and the model will be train with CrossEntropy Loss (that have a softmax activation). The probability is used as confidence measure for early exits; \n",
    "- 4 classes: use two qubits for classification, then the output probabilities are effectively probabilities and the model is trained using Negative Log Likelihood. The probability is used as confidence measure for earl exits. \n",
    "\n",
    "In general considering to use 8 qubits for the model in order to *load* 256 image pixel values, a number of classification qubits is calculated as `math.ceil(math.log2(num_classes))` and Log Likelihood or Cross Entropy is selected automatically by the class FullQuantumModel on initialization to train. An example of how to use and train the model with also early exits is reported [here](https://github.com/JackVittori/QML-early_exit/blob/main/main.ipynb). Hereafter is reported a schematic representation of the original model:\n"
   ],
   "id": "b23c7480a9c83d93"
  },
  {
   "metadata": {
    "ExecuteTime": {
     "end_time": "2024-09-05T13:20:41.610949Z",
     "start_time": "2024-09-05T13:20:41.058488Z"
    }
   },
   "cell_type": "code",
   "source": [
    "num_qubits = 8\n",
    "num_layers = 8\n",
    "model = FullQuantumModel(qubits=num_qubits, layers=num_layers, num_classes=6)\n",
    "model.draw(style = 'sketch')\n",
    "model.trainable_parameters()"
   ],
   "id": "40d743a189b2e415",
   "execution_count": 76,
   "outputs": []
  },
  {
   "metadata": {
    "ExecuteTime": {
     "end_time": "2024-09-05T11:31:30.769336Z",
     "start_time": "2024-09-05T11:31:30.767544Z"
    }
   },
   "cell_type": "code",
   "source": "model.trainable_layers()",
   "id": "27bd42811aa0e8fa",
   "execution_count": 30,
   "outputs": []
  },
  {
   "metadata": {},
   "cell_type": "markdown",
   "source": "The number of trainable parameters are 24 per layer, 1 parameter per rotation, 3 rotations per qubit, 8 qubits in total.",
   "id": "d36b8218354964f2"
  },
  {
   "metadata": {},
   "cell_type": "markdown",
   "source": [
    "# Mid circuit measurements model\n",
    "\n",
    "For simplicity, suppose we want to perform classification on 4 classes. \n",
    "\n",
    "We can associate label 0,1,2,3 to states $|00 \\rangle, |01 \\rangle, |10 \\rangle, |11 \\rangle$. The idea for early exits is to measure the first pair of qubits for the first exits, the second pair of qubits for the second, the third pair of qubits for the third and the last pair of qubits for the last one. Maybe we could also reduce the number of exits to 2 or 3 instead of 4, we'll see. Given that a measurement affect the state of the system, we need to explore a bit the theory behind mid circuit measurements."
   ],
   "id": "a5aabce5762c60a9"
  },
  {
   "metadata": {},
   "cell_type": "markdown",
   "source": [
    "# Mid circuit measurements\n",
    "A [measurement](https://pennylane.ai/qml/demos/tutorial_mcm_introduction/) $M$ is a process that maps a valid quantum state $\\rho$ (density operator) to a classical probabilistic mixture of post measurement quantum states $\\rho_i$, specified by $M$: \n",
    "\n",
    "$$\n",
    "M[\\rho] = \\sum \\limits_{i=1}^n p_i \\rho_i\n",
    "$$\n",
    "\n",
    "where $n$ is the number of possible outcomes and $p_i$ the probability to measure outcome $i$ associated to $\\rho_i$. This describes the probabilistic mixture after the measurement if we do not record the outcome. If the outcome is recorded, we no longer have a probabilistic mixture but the state $\\rho_i$ associated to the filtered outcome $i$. \n",
    "\n",
    "Considering the so called projective measurements, calling $\\Pi_i$ the projector associated to the measurement outcome, with all projectors summming to the identity, the post measurement states are given by: \n",
    "\n",
    "$$\n",
    "\\rho_i = \\frac{\\Pi_i \\rho \\Pi_i}{\\text{tr}[\\Pi_i \\rho]}\n",
    "$$\n",
    "\n",
    "where $p_i = \\text{tr}[\\Pi_i \\rho]$. If we do not measure the outcome the system will end up in state: \n",
    "\n",
    "$$\n",
    "M[\\rho] = \\sum \\limits_{i=1}^n \\Pi_i \\rho \\Pi_i\n",
    "$$\n",
    "\n",
    "## Theory addendum: Generalized Quantum Measurements\n",
    "\n",
    "Generalized measurements are a collection of operators $\\{ M_i\\}$ such that for pure states the probability of the measurement outcome $i$ is given by:\n",
    "\n",
    "$$\n",
    "p(i) = \\langle \\psi | M_i^{\\dagger} M_i | \\psi \\rangle\n",
    "$$\n",
    "\n",
    "The state of the system after the measurement, given that the outcome $i$ was obtained, is:\n",
    "\n",
    "$$\n",
    "|\\psi'\\rangle = \\frac{M_i |\\psi\\rangle}{\\sqrt{\\langle \\psi | M_i^{\\dagger} M_i | \\psi \\rangle}}\n",
    "$$\n",
    "\n",
    "For mixed states instead the probability of the measurement outcome $i$ is given by: \n",
    "$$\n",
    "p(i) = \\text{tr}[\\rho M_i^{\\dagger} M_i]\n",
    "$$\n",
    "\n",
    "The state of the system after the measurement, given that the outcome $i$ was obtained, is:\n",
    "\n",
    "$$\n",
    "\\rho' = \\frac{M_i^{\\dagger} \\rho M_i}{\\text{tr}[\\rho M_i^{\\dagger} M_i]}\n",
    "$$\n",
    "\n",
    "From that, we can define the so called **Positive Operator Valued Measurements (POVM)** as $\\Pi_i=M_i^\\dagger M_i$ where $\\sum \\limits_i \\Pi_i = \\mathbf{I}$. They are non negative and for pure states the probability of obtaining outcome $i$ is $p(i)= \\langle \\psi |\\Pi_i |\\psi \\rangle$, while for mixed state is $p(i) = \\text{tr}[\\rho \\Pi_i]$. \n",
    "\n",
    "The **projective measurements** are a specific class of Generalized Measurements  where $P_i = | i \\rangle  \\langle i |$, $\\sum_i P_i = \\mathbf{I}$, $P_iP_j = \\delta_{ij} P_i$ and $P_i^2 = \\mathbf{I}$. In this case for pure states the probability of obtaining outcome $i$ is: \n",
    "\n",
    "$$\n",
    "p(i) = \\langle \\psi |P_i| \\psi \\rangle\n",
    "$$\n",
    "\n",
    "and the final state is: \n",
    "\n",
    "$$\n",
    "|\\psi' \\rangle = \\frac{P_i |\\psi \\rangle}{ \\sqrt{\\langle \\psi |P_i| \\psi \\rangle}}\n",
    "$$\n",
    "\n",
    "For mixed state the probability to obtain an outcome $i$ is given by: \n",
    "\n",
    "$$\n",
    "p(i) = \\text{tr}[\\rho P_i]\n",
    "$$\n",
    "\n",
    "And the final state: \n",
    "\n",
    "$$\n",
    "\\rho' = \\frac{P_i \\rho P_i}{\\text{tr}[\\rho P_i]}\n",
    "$$\n",
    "\n",
    "In PennyLane, the measurements with unknown outcomes are [Measurement Value](https://docs.pennylane.ai/en/stable/code/api/pennylane.measurements.MeasurementValue.html) objects. "
   ],
   "id": "78974686f87dea1"
  },
  {
   "metadata": {},
   "cell_type": "markdown",
   "source": [
    "## Mid-circuit-Measurements model\n",
    "\n",
    "In our model we would like to register the outcome of each mid circuit measurements of two qubits to be used for classification of the input image in each early exits, then the resulting state will not be in a probabilistic mixture but will be the one $\\rho_i$ associated to the outcome $i$. \n",
    "\n",
    "How can we measure the confidence associated to classification at each step?\n",
    "\n",
    "### First approach: \n",
    "\n",
    "Access to the probabilities associated to the measured state and use the highest probability between the 4 as confidence measure of the correspondent predicted label for the input image. In simulation, the circuit is run a number of *shots* specified in the [`device`](https://docs.pennylane.ai/en/stable/code/api/pennylane.device.html) definition. In general, supposing to take measurements using [`qml.sample()`](https://docs.pennylane.ai/en/stable/code/api/pennylane.sample.html), it will return as many samples as specified in the shots argument. With an high enough number of samples, the result can be used to estimate the probability to obtain a specific outcome for that. In practice it will be more useful to use directly [`qml.probs()`](https://docs.pennylane.ai/en/stable/code/api/pennylane.probs.html) with `op` argument the sequence of `MeasurementValue` objects coming from mid circuit measurements. \n",
    "\n",
    "(In inference would we need a single shot classification or we can assume that we can repeat for a given number of times the computation? I think that the assumption is always that the circuit is run multiple times, otherwise it would be impossible to estimate a quantum state with one shot. In fact to access to a state in one shot through PennyLane I think that can be considered 'cheating'.)\n",
    "\n",
    "### Second approach:\n",
    "\n",
    "The second approach is to use the [fidelity](https://en.wikipedia.org/wiki/Fidelity_of_quantum_states) to quantify the confidence associated to a given output. \n",
    "\n",
    "**Theory: Fidelity Measure**\n",
    "\n",
    "The fidelity (square root fidelity) is a 'distance' measure between quantum states that for arbitrary states (defined through density operators) is defined as: \n",
    "\n",
    "$$\n",
    "F(\\rho, \\sigma) = \\text{tr}^2[ \\sqrt{\\rho^{\\frac{1}{2}} \\sigma \\rho^{\\frac{1}{2}}}]\n",
    "$$\n",
    "\n",
    "If $\\rho$ and $\\sigma$ commute, i.e. when they are diagonal in the same basis: $\\rho = \\sum \\limits_i r_i |i\\rangle \\langle i|$ and $\\sigma = \\sum \\limits_i s_i |i\\rangle \\langle i|$ for some orthonormal basis, the fidelity reduces to: \n",
    "\n",
    "$$\n",
    "F(\\rho, \\sigma) = \\sum \\limits_i r_i s_i\n",
    "$$\n",
    "\n",
    "\n",
    "The fidelity between a pure state $|\\psi \\rangle$ and an arbitrary state $\\rho$ is given by: \n",
    "\n",
    "$$\n",
    "F(\\rho, |\\psi\\rangle) = \\langle \\psi|\\rho |\\psi \\rangle\n",
    "$$\n",
    "\n",
    "That is the square root of the overlap between them. \n",
    "\n",
    "Finally, the fidelity between two pure states $|\\phi\\rangle, |\\psi\\rangle$: \n",
    "\n",
    "$$\n",
    "F(|\\phi\\rangle, |\\psi\\rangle) = |\\langle \\phi|\\psi\\rangle|^2\n",
    "$$\n",
    "\n",
    "For example, $F(\\frac{|0\\rangle \\langle 0| + |1\\rangle \\langle 1|}{2}, |0\\rangle) = \\frac{1}{2}$, $F(|0\\rangle,|0\\rangle) = 1$, $F(|0\\rangle,|1\\rangle) = 0$, $F(|+\\rangle,|0\\rangle) = \\frac{1}{2}$.\n",
    "\n",
    "In general the value of the fidelity is comprised between 0 and 1 (the higher the similar). \n"
   ],
   "id": "e4e428ca039221e7"
  },
  {
   "metadata": {},
   "cell_type": "markdown",
   "source": [
    "### Fidelity measurements for classical estimation\n",
    "\n",
    "From the course in Quantum Information I learned that fidelity can be used to assess the quality of a **classical estimation** of a quantum state. Suppose Alice want to communicate a pure state to Bob $|\\psi \\rangle = \\alpha |0\\rangle + \\beta |1 \\rangle$ <u>without</u> a quantum channel. Imagine that you have infinite copies of the quantum state, Alice can measure his state in the computational basis and communicate the outcomes classically to Bob. Bob can then can characterize the quantum system (with some limitations) proposing a $\\hat{\\rho}_G$ guess whose quality will depend on the quantity of transferred information and can be measured using the fidelity.\n",
    "\n",
    "In general, we can not directly access to a quantum state. What we can do is to run the circuit many times obtaining a number of outputs given by the number of `shots` specified in the device initialization. Using [`qml.probs()`](https://docs.pennylane.ai/en/stable/code/api/pennylane.probs.html) with a given number of shots, we are extracting our guess from the sampling process, whose \"closeness\" to the four vectors of the computational basis can be evaluated using fidelity.\n",
    "\n",
    "In order to perform a Mid Circuit Measurement PennyLane suggests to use [`qml.measure()`](https://docs.pennylane.ai/en/stable/code/api/pennylane.measure.html)\n",
    "\n",
    "### Application:\n",
    "\n",
    "Having 4 classes, they can be associated to states $|00\\rangle, |01\\rangle, |10\\rangle,|11\\rangle$. Our aim is to have as output a state that have the higher possible fidelity, i.e. we want the state before the measurement to be as close as possible to one of the fourth basis vectors. Then the fidelity could be used as a confidence measure in the classification at each early exits setting a threshold: \n",
    "\n",
    "1. Measure the first 2 qubits -> classification, if the fidelity is high enough we can stop here, otherwise continue; \n",
    "2. Measure the second pair of qubits -> classification, if the fidelity is high enough we can stop here, otherwise continue; \n",
    "3. Repeat for how many early exits have you put, if the fidelity is never adequately high take the output of all the layers."
   ],
   "id": "e732ca4c319c1f7c"
  },
  {
   "metadata": {},
   "cell_type": "markdown",
   "source": [
    "## Pennylane measurement\n",
    "\n",
    "According to [Pennylane](https://pennylane.ai/blog/2022/06/how-to-do-measurements-in-pennylane/), in real experiment the actual wave function is not accessible but we can \"cheat\" taking as output a set of measurement from the resulting state. There exists some function in Pennylane in order to do that: \n",
    "\n",
    "- [`qml.sample()`](https://docs.pennylane.ai/en/stable/code/api/pennylane.sample.html) is used to output a number of samples specified in the *device* definition (shots param) of the indicated observable, such as `qml.sample(qml.PauliY(0))`. Basically, Pennylane is sampling the eigenvalues $\\lambda_i$ with their associated probabilites $p(\\lambda_i)=|\\langle \\xi_i |\\psi\\rangle|^2$, where $|\\xi_i\\rangle$ is the corresponding basis state in the basis of observables. In the case we want to measure one of the four possible basis in our example the basis will be the computational one with 0,1 eigenvalues. Since it is a stochastich process it is **not differentiable**. \n",
    "- [`qml.probs()`](https://docs.pennylane.ai/en/stable/code/api/pennylane.probs.html) return an array in lexiographic order containing the probabilities $|\\langle i | \\psi \\rangle|^2$ of measuring the computational basis state $|i\\rangle$ in the current state $|\\psi \\rangle$ if no observable are specified. Specifying the number of `shots` in the device definition the function will output <u> the probabilities given by the sampling process</u>. Then, with an high enough number of samples we can assume we are able to reconstruct the quantum state. "
   ],
   "id": "d024836888344e5e"
  },
  {
   "metadata": {},
   "cell_type": "markdown",
   "source": "Following the example provided in [this PennyLane tutorial](https://pennylane.ai/qml/demos/tutorial_how_to_collect_mcm_stats/) that is hereafter reported, we can try to adapt the reasoning to our model...",
   "id": "891dcc999f5e6007"
  },
  {
   "metadata": {
    "ExecuteTime": {
     "end_time": "2024-09-03T12:47:56.361516Z",
     "start_time": "2024-09-03T12:47:56.276323Z"
    }
   },
   "cell_type": "code",
   "source": [
    "\"\"\"Pennylane example \"\"\"\n",
    "\n",
    "np.random.seed(511)\n",
    "\n",
    "first_wire = 0\n",
    "other_wires = [1, 2, 3]\n",
    "\n",
    "def ansatz(x):\n",
    "    mcms = []\n",
    "\n",
    "    # Rotate all qubits\n",
    "    for w, x_ in enumerate(x):\n",
    "        qml.RX(x_, w)\n",
    "\n",
    "    # Measure first qubit\n",
    "    mcms.append(qml.measure(first_wire))\n",
    "\n",
    "    # Entangle all qubits with first qubit\n",
    "    for w in other_wires:\n",
    "        qml.CNOT([first_wire, w])\n",
    "\n",
    "    # Measure and reset all qubits but the first\n",
    "    for w in other_wires:\n",
    "        mcms.append(qml.measure(w, reset=True))\n",
    "\n",
    "    return mcms\n",
    "\n",
    "dev = qml.device(\"default.qubit\", shots=100)\n",
    "@qml.qnode(dev)\n",
    "def simple_node(x):\n",
    "    # apply the ansatz, and collect mid-circuit measurements. mcm1 is the measurement\n",
    "    # of wire 0, and mcms2 is a list of measurements of the other wires.\n",
    "    mcm1, *mcms2 = ansatz(x)\n",
    "    return qml.probs(op=mcm1), qml.counts(mcms2)\n",
    "\n",
    "x = np.random.random(4)\n",
    "fig, ax = qml.draw_mpl(simple_node)(x)\n",
    "probs, counts = qml.defer_measurements(simple_node)(x)\n",
    "print(f\"Probability vector of first qubit MCM: {np.round(probs, 5)}\")\n",
    "print(f\"Bit string counts on other qubits: {counts}\")"
   ],
   "id": "d4393949fc84bd24",
   "execution_count": 4,
   "outputs": []
  },
  {
   "metadata": {},
   "cell_type": "markdown",
   "source": "[**Defer Measurements**](https://docs.pennylane.ai/en/stable/code/api/pennylane.defer_measurements.html) are used to speed up the circuit execution. According to Nielsen Chuang, measurement can always be moved from an intermediate stage of a quantum circuit to the end of the circuit; if the measurement results are used at any stage og the circuit then classically controlled operations can be replaced by conditional quantum operation. ",
   "id": "b1a15ba8a4834cb3"
  },
  {
   "metadata": {},
   "cell_type": "markdown",
   "source": [
    "# Ansatz of the model \n",
    "\n",
    "Let's consider 4 classes for the original model without early exits... \n"
   ],
   "id": "92e7bdc08aca93ae"
  },
  {
   "metadata": {
    "ExecuteTime": {
     "end_time": "2024-09-05T10:59:06.359558Z",
     "start_time": "2024-09-05T10:59:05.656088Z"
    }
   },
   "cell_type": "code",
   "source": "model.draw(style = 'sketch')",
   "id": "9e6493bb3314068",
   "execution_count": 15,
   "outputs": []
  },
  {
   "metadata": {
    "ExecuteTime": {
     "end_time": "2024-09-05T15:11:02.600646Z",
     "start_time": "2024-09-05T15:11:00.501948Z"
    }
   },
   "cell_type": "code",
   "source": [
    "#dataset preparation\n",
    "\n",
    "labels = [0,1,2,3]\n",
    "# Download MNIST and prepare transforms\n",
    "mnist = datasets.MNIST(root='./data', train=True, download=True, transform=transforms.Compose([\n",
    "                                transforms.Resize((16, 16)),  # Resize to 16x16\n",
    "                                transforms.ToTensor(),\n",
    "                                transforms.Normalize((0.1307,), (0.3081,))  # Normalize\n",
    "                             ]))\n",
    "#train/test 80/20 split, see data_utils.py for further details\n",
    "train_dataloader, test_dataloader = mnist_preparation(dataset=mnist, labels = labels, train_test_ratio=0.8,batch_size=64)\n",
    "\n",
    "print(\"Images in the training set: \", len(train_dataloader.dataset), \"\\n Images in the test set: \", len(test_dataloader.dataset))"
   ],
   "id": "4af29eda0a961703",
   "execution_count": 81,
   "outputs": []
  },
  {
   "metadata": {
    "ExecuteTime": {
     "end_time": "2024-09-05T11:38:29.440263Z",
     "start_time": "2024-09-05T11:38:29.438596Z"
    }
   },
   "cell_type": "code",
   "source": [
    "#check all layers are set as trainable\n",
    "model.trainable_layers()"
   ],
   "id": "7188081ff119630c",
   "execution_count": 51,
   "outputs": []
  },
  {
   "metadata": {
    "ExecuteTime": {
     "end_time": "2024-09-05T11:38:29.856393Z",
     "start_time": "2024-09-05T11:38:29.854482Z"
    }
   },
   "cell_type": "code",
   "source": [
    "#We could freeze a layer if we want with the following method of the class in OriginalModel.py\n",
    "model.freeze_layers([0,1])\n",
    "model.trainable_layers()\n",
    "model.trainable_parameters()"
   ],
   "id": "56fb47df75a15dc2",
   "execution_count": 52,
   "outputs": []
  },
  {
   "metadata": {
    "ExecuteTime": {
     "end_time": "2024-09-05T11:38:30.825478Z",
     "start_time": "2024-09-05T11:38:30.823796Z"
    }
   },
   "cell_type": "code",
   "source": [
    "# We can also unfreeze them\n",
    "model.unfreeze_layers([0,1])\n",
    "model.trainable_layers()\n",
    "model.trainable_parameters()"
   ],
   "id": "f04d564f5f92491f",
   "execution_count": 53,
   "outputs": []
  },
  {
   "metadata": {},
   "cell_type": "markdown",
   "source": "## Training of the original model",
   "id": "4ee02fbb80de7a08"
  },
  {
   "metadata": {
    "ExecuteTime": {
     "end_time": "2024-09-05T13:28:53.958765Z",
     "start_time": "2024-09-05T13:22:18.078578Z"
    }
   },
   "cell_type": "code",
   "source": [
    "\"\"\"Let's proceed with training using the fit method defined in the class in OriginalModel.py\n",
    "    In this case, I will use the standard training loop over the whole model.\"\"\"\n",
    "accuracy, loss = model.fit(dataloader=train_dataloader, learning_rate=0.001, epochs=15, show_plot=True)"
   ],
   "id": "cbbe0079a00f0156",
   "execution_count": 78,
   "outputs": []
  },
  {
   "metadata": {},
   "cell_type": "markdown",
   "source": "## Test of the original model",
   "id": "213709cbcefdcc78"
  },
  {
   "metadata": {
    "ExecuteTime": {
     "end_time": "2024-09-05T13:31:34.677643Z",
     "start_time": "2024-09-05T13:29:32.763962Z"
    }
   },
   "cell_type": "code",
   "source": [
    "model.freeze_layers([0,1,2,3,4,5,6,7])\n",
    "model.trainable_parameters()\n",
    "\n",
    "#simplified per image test set evaluation\n",
    "result = []\n",
    "for img, label in tqdm(test_dataloader.dataset):\n",
    "    img = img / torch.linalg.norm(img).view(-1, 1) #image normalization\n",
    "    probs = model.forward(state=img) #extract probabilities\n",
    "    prediction = torch.argmax(probs, dim=1) \n",
    "    result.append((prediction, label))"
   ],
   "id": "9b5e9e2f9cc130a1",
   "execution_count": 79,
   "outputs": []
  },
  {
   "metadata": {
    "ExecuteTime": {
     "end_time": "2024-09-05T13:31:34.687110Z",
     "start_time": "2024-09-05T13:31:34.678527Z"
    }
   },
   "cell_type": "code",
   "source": [
    "def calculate_accuracy(data):\n",
    "    correct = sum([1 for label, prediction in data if label == prediction])\n",
    "    return correct, correct / len(data)\n",
    "\n",
    "test_results = calculate_accuracy(result)\n",
    "\n",
    "print(test_results[0], \"elements have been correctly classified over\", len(test_dataloader.dataset), \"total images with an accuracy of \", test_results[1])"
   ],
   "id": "8a98d9e17d043369",
   "execution_count": 80,
   "outputs": []
  },
  {
   "metadata": {},
   "cell_type": "markdown",
   "source": [
    "# Mid circuit measurements ansatz\n",
    "\n",
    "Let's start with only one mid circuit measurement in the middle of the circuit after 4 layers...\n",
    "\n",
    "The first pair of qubits will be used for the mid circuit measurement and the second pair for the final classification...  "
   ],
   "id": "929b4bb38295e061"
  },
  {
   "metadata": {
    "ExecuteTime": {
     "end_time": "2024-09-05T15:16:00.962072Z",
     "start_time": "2024-09-05T15:16:00.960012Z"
    }
   },
   "cell_type": "code",
   "source": [
    "num_qubits = 8\n",
    "num_layers = 8\n",
    "params = torch.nn.ParameterDict({\n",
    "            f'layer_{i}': torch.nn.Parameter(torch.rand(num_qubits, 3, requires_grad=True))\n",
    "            for i in range(num_layers)\n",
    "        })"
   ],
   "id": "1f3b76365de07b14",
   "execution_count": 5,
   "outputs": []
  },
  {
   "metadata": {
    "ExecuteTime": {
     "end_time": "2024-09-05T15:16:02.647105Z",
     "start_time": "2024-09-05T15:16:01.589410Z"
    }
   },
   "cell_type": "code",
   "source": [
    "first_pair = [0,1]\n",
    "second_pair = [2,3]\n",
    "\n",
    "def ansatz_1(parameters: Dict, state: torch.Tensor = None): \n",
    "    mcms =  []\n",
    "    if state is not None: \n",
    "        # state vector initialization with input\n",
    "        qml.QubitStateVector(state, wires=range(num_qubits))\n",
    "        \n",
    "    for i in range(4): \n",
    "        for j in range(num_qubits): \n",
    "            qml.RX(parameters[f'layer_{i}'][j, 0], wires=j)\n",
    "            qml.RY(parameters[f'layer_{i}'][j, 1], wires=j)\n",
    "            qml.RZ(parameters[f'layer_{i}'][j, 2], wires=j)\n",
    "        for j in range(num_qubits):\n",
    "            qml.CNOT(wires=[j, (j + 1) % num_qubits])   \n",
    "    for w in first_pair: \n",
    "        mcms.append(qml.measure(wires=w))\n",
    "    \n",
    "    for i in range(4, num_layers): \n",
    "        for j in range(num_qubits): \n",
    "            qml.RX(parameters[f'layer_{i}'][j, 0], wires=j)\n",
    "            qml.RY(parameters[f'layer_{i}'][j, 1], wires=j)\n",
    "            qml.RZ(parameters[f'layer_{i}'][j, 2], wires=j)\n",
    "        for j in range(num_qubits):\n",
    "            qml.CNOT(wires=[j, (j + 1) % num_qubits])\n",
    "   \n",
    "    for w in second_pair: \n",
    "        mcms.append(qml.measure(wires=w))\n",
    "    return mcms\n",
    "\n",
    "dev = qml.device(\"default.qubit\", shots=10)\n",
    "@qml.qnode(dev)\n",
    "def circuit_1(parameters: Dict, state: torch.Tensor = None): \n",
    "    results = ansatz_1(parameters, state)\n",
    "    mcm = results[0:2]\n",
    "    fm = results[2:]\n",
    "    return qml.probs(op=mcm), qml.probs(op=fm)\n",
    "\n",
    "fig, ax = qml.draw_mpl(circuit_1)(params)\n",
    "fig.savefig('/Users/jackvittori/Desktop/QML-early_exit/mcm-circuit-measurements.png')"
   ],
   "id": "2633422a5937bedf",
   "execution_count": 6,
   "outputs": []
  },
  {
   "metadata": {
    "ExecuteTime": {
     "end_time": "2024-09-03T12:56:49.126861Z",
     "start_time": "2024-09-03T12:56:44.182176Z"
    }
   },
   "cell_type": "code",
   "source": [
    "for data, target in train_dataloader: \n",
    "    data = data / torch.linalg.norm(data, dim=1).view(-1, 1)\n",
    "    a = circuit_1(parameters=params, state = data)    \n",
    "    break"
   ],
   "id": "5cfbdcc11c5e86bf",
   "execution_count": 15,
   "outputs": []
  },
  {
   "metadata": {
    "ExecuteTime": {
     "end_time": "2024-09-03T12:57:04.632322Z",
     "start_time": "2024-09-03T12:57:03.600066Z"
    }
   },
   "cell_type": "code",
   "source": [
    "first_pair = [0,1]\n",
    "second_pair = [2,3]\n",
    "\n",
    "def ansatz_2(parameters: Dict, state: torch.Tensor = None): \n",
    "    \n",
    "    if state is not None: \n",
    "        # state vector initialization with input\n",
    "        qml.QubitStateVector(state, wires=range(num_qubits))\n",
    "        \n",
    "    for i in range(4): \n",
    "        for j in range(num_qubits): \n",
    "            qml.RX(parameters[f'layer_{i}'][j, 0], wires=j)\n",
    "            qml.RY(parameters[f'layer_{i}'][j, 1], wires=j)\n",
    "            qml.RZ(parameters[f'layer_{i}'][j, 2], wires=j)\n",
    "        for j in range(num_qubits):\n",
    "            qml.CNOT(wires=[j, (j + 1) % num_qubits])\n",
    "            \n",
    "    mcm = [qml.measure(wire) for wire in first_pair]\n",
    "    \n",
    "    for i in range(4, num_layers): \n",
    "        for j in range(num_qubits): \n",
    "            qml.RX(parameters[f'layer_{i}'][j, 0], wires=j)\n",
    "            qml.RY(parameters[f'layer_{i}'][j, 1], wires=j)\n",
    "            qml.RZ(parameters[f'layer_{i}'][j, 2], wires=j)\n",
    "        for j in range(num_qubits):\n",
    "            qml.CNOT(wires=[j, (j + 1) % num_qubits])\n",
    "    return mcm\n",
    "\n",
    "dev = qml.device(\"default.qubit\", shots=10)\n",
    "@qml.qnode(dev, interface = 'torch')\n",
    "def circuit_2(parameters: Dict, state: torch.Tensor = None):\n",
    "    mcm = ansatz_2(parameters, state)\n",
    "    return qml.probs(op=mcm), qml.probs(wires=second_pair)\n",
    "\n",
    "fig, ax = qml.draw_mpl(circuit_2)(params)\n",
    "fig.savefig('test.png')"
   ],
   "id": "4e2fa6f54a95bdc3",
   "execution_count": 16,
   "outputs": []
  },
  {
   "metadata": {
    "ExecuteTime": {
     "end_time": "2024-09-03T12:57:12.928170Z",
     "start_time": "2024-09-03T12:57:08.109005Z"
    }
   },
   "cell_type": "code",
   "source": [
    "for data, target in train_dataloader: \n",
    "    data = data / torch.linalg.norm(data, dim=1).view(-1, 1)\n",
    "    a = circuit_2(parameters=params, state = data)    \n",
    "    break"
   ],
   "id": "1a9fc61fd05b3e9",
   "execution_count": 17,
   "outputs": []
  },
  {
   "metadata": {},
   "cell_type": "markdown",
   "source": "Specifying the number of shots is not working defining the model because Pennylane is estimating qml.probs() using qml.sample() under the hoods and qml.sample() is not differentiable. ",
   "id": "5104d57e96c9962e"
  },
  {
   "metadata": {},
   "cell_type": "markdown",
   "source": [
    "# MCMQuantum model\n",
    "\n",
    "See [mcmModel.py](https://github.com/JackVittori/QML-early_exit/blob/530cedde3ea00d82bcc46479ef4d242e83be8f0a/mcmModel.py) for further details. "
   ],
   "id": "fa4228e11b254cd2"
  },
  {
   "metadata": {
    "ExecuteTime": {
     "end_time": "2024-09-05T15:24:21.551977Z",
     "start_time": "2024-09-05T15:24:21.549317Z"
    }
   },
   "cell_type": "code",
   "source": "model = MCMQuantumModel(qubits = 8, layers = 8, ansatz = 'ansatz_1')",
   "id": "7550bbf6b975fcce",
   "execution_count": 2,
   "outputs": []
  },
  {
   "metadata": {
    "ExecuteTime": {
     "end_time": "2024-09-05T15:24:22.994911Z",
     "start_time": "2024-09-05T15:24:22.411658Z"
    }
   },
   "cell_type": "code",
   "source": "model.draw(style='sketch')",
   "id": "2315e62362d0477b",
   "execution_count": 3,
   "outputs": []
  },
  {
   "metadata": {
    "ExecuteTime": {
     "end_time": "2024-09-05T15:24:24.502778Z",
     "start_time": "2024-09-05T15:24:24.501036Z"
    }
   },
   "cell_type": "code",
   "source": "model.trainable_layers()",
   "id": "c1750baf07298e96",
   "execution_count": 4,
   "outputs": []
  },
  {
   "metadata": {
    "ExecuteTime": {
     "end_time": "2024-09-05T15:24:24.671606Z",
     "start_time": "2024-09-05T15:24:24.669975Z"
    }
   },
   "cell_type": "code",
   "source": "model.freeze_layers([0,1])",
   "id": "d41c10c83655f71b",
   "execution_count": 5,
   "outputs": []
  },
  {
   "metadata": {
    "ExecuteTime": {
     "end_time": "2024-09-05T15:24:24.961478Z",
     "start_time": "2024-09-05T15:24:24.959785Z"
    }
   },
   "cell_type": "code",
   "source": "model.trainable_layers()",
   "id": "86572163d1aee284",
   "execution_count": 6,
   "outputs": []
  },
  {
   "metadata": {
    "ExecuteTime": {
     "end_time": "2024-09-05T15:24:26.352022Z",
     "start_time": "2024-09-05T15:24:26.350309Z"
    }
   },
   "cell_type": "code",
   "source": [
    "model.unfreeze_layers([0,1])\n",
    "model.trainable_layers()"
   ],
   "id": "9ac0d544db19e347",
   "execution_count": 7,
   "outputs": []
  },
  {
   "metadata": {},
   "cell_type": "markdown",
   "source": [
    "## Model training\n",
    "First of all let's split the dataset in train, validation and test reserving 70% of the dataset to the train set and splitting by 50% the remaining images.  "
   ],
   "id": "2203956bc60515f4"
  },
  {
   "metadata": {
    "ExecuteTime": {
     "end_time": "2024-09-06T07:38:49.049034Z",
     "start_time": "2024-09-06T07:38:46.796237Z"
    }
   },
   "cell_type": "code",
   "source": [
    "labels = [0,1,2,3]\n",
    "# Download MNIST and prepare transforms\n",
    "mnist = datasets.MNIST(root='./data', train=True, download=True, transform=transforms.Compose([\n",
    "                                transforms.Resize((16, 16)),  # Resize to 16x16\n",
    "                                transforms.ToTensor(),\n",
    "                                transforms.Normalize((0.1307,), (0.3081,))  # Normalize\n",
    "                             ]))\n",
    "#train/test 80/20 split, see data_utils.py for further details\n",
    "train_dataloader, validation_dataloader, test_dataloader = mnist_preparation(dataset=mnist, labels = labels, train_test_ratio=0.7,batch_size=64, vali_test_ratio=0.5)\n",
    "\n",
    "print(\"Images in the training set: \", len(train_dataloader.dataset), \"\\n Images in the validation set: \", len(validation_dataloader.dataset), \"\\n Images in the test set: \", len(test_dataloader.dataset))"
   ],
   "id": "58aa85dbb6763503",
   "execution_count": 9,
   "outputs": []
  },
  {
   "metadata": {
    "ExecuteTime": {
     "end_time": "2024-09-05T15:59:07.989524Z",
     "start_time": "2024-09-05T15:24:41.410169Z"
    }
   },
   "cell_type": "code",
   "source": "mcm_accuracy, fm_accuracy, loss_history = model.fit(dataloader = train_dataloader, learning_rate = 0.001, epochs = 20, show_plot = True)",
   "id": "ea852a2c7e4042f",
   "execution_count": 9,
   "outputs": []
  },
  {
   "metadata": {},
   "cell_type": "markdown",
   "source": [
    "## Model Evaluation\n",
    "First of all we save the model parameters after the training"
   ],
   "id": "1225527ce6eab60e"
  },
  {
   "metadata": {
    "ExecuteTime": {
     "end_time": "2024-09-05T16:09:02.052302Z",
     "start_time": "2024-09-05T16:09:02.050002Z"
    }
   },
   "cell_type": "code",
   "source": "model_parameters = model.params",
   "id": "e27287d625b230a8",
   "execution_count": 20,
   "outputs": []
  },
  {
   "metadata": {
    "ExecuteTime": {
     "end_time": "2024-09-05T16:10:17.484667Z",
     "start_time": "2024-09-05T16:10:17.482577Z"
    }
   },
   "cell_type": "code",
   "source": "print(model_parameters)",
   "id": "aff76f5e2600cce7",
   "execution_count": 21,
   "outputs": []
  },
  {
   "metadata": {
    "ExecuteTime": {
     "end_time": "2024-09-05T16:10:20.262655Z",
     "start_time": "2024-09-05T16:10:20.258230Z"
    }
   },
   "cell_type": "code",
   "source": [
    "import pickle\n",
    "\n",
    "with open(\"/Users/jackvittori/Desktop/pesi.pickle\", \"wb\") as file:\n",
    "    pickle.dump(model_parameters, file)"
   ],
   "id": "a2dbd392bbc47cee",
   "execution_count": 22,
   "outputs": []
  },
  {
   "metadata": {
    "ExecuteTime": {
     "end_time": "2024-09-06T07:38:24.857610Z",
     "start_time": "2024-09-06T07:38:24.855114Z"
    }
   },
   "cell_type": "code",
   "source": [
    "# Rileggere la variabile\n",
    "import pickle\n",
    "with open(\"/Users/jackvittori/Desktop/pesi.pickle\", \"rb\") as file:\n",
    "    model_parameters = pickle.load(file) # Output: {'chiave': 'valore', 'numero': 123}\n"
   ],
   "id": "b197b6fa22de65b0",
   "execution_count": 5,
   "outputs": []
  },
  {
   "metadata": {},
   "cell_type": "markdown",
   "source": "We want to run the circuit up to the early exit and if the probability is above a threshold we take the result, otherwise we want to run the circuit until the end taking the final prediction. In evaluation, we do not need differentiability, meaning that we can simulate the real case scenario where we run the circuit a given number of times. ",
   "id": "30e13d61743fc5a2"
  },
  {
   "metadata": {},
   "cell_type": "markdown",
   "source": "",
   "id": "b544ee05c10080ef"
  },
  {
   "metadata": {
    "ExecuteTime": {
     "end_time": "2024-09-06T07:44:39.962054Z",
     "start_time": "2024-09-06T07:44:39.955995Z"
    }
   },
   "cell_type": "code",
   "source": [
    "num_qubits = 8\n",
    "num_layers = 8\n",
    "params = model_parameters\n",
    "np.random.seed(1234)\n",
    "num_shots = 10\n",
    "torch.manual_seed(1234)\n",
    "first_pair = [0,1]\n",
    "second_pair = [2,3]\n",
    "\n",
    "def early_evaluation(parameters: Dict, state: torch.Tensor = None): \n",
    "    mcms =  []\n",
    "    if state is not None: \n",
    "        # state vector initialization with input\n",
    "        qml.QubitStateVector(state, wires=range(num_qubits))\n",
    "        \n",
    "    for i in range(4): \n",
    "        for j in range(num_qubits): \n",
    "            qml.RX(parameters[f'layer_{i}'][j, 0], wires=j)\n",
    "            qml.RY(parameters[f'layer_{i}'][j, 1], wires=j)\n",
    "            qml.RZ(parameters[f'layer_{i}'][j, 2], wires=j)\n",
    "        for j in range(num_qubits):\n",
    "            qml.CNOT(wires=[j, (j + 1) % num_qubits])   \n",
    "    for w in first_pair: \n",
    "        mcms.append(qml.measure(wires=w))\n",
    "    return mcms\n",
    "\n",
    "dev = qml.device(\"default.qubit\", shots=num_shots)\n",
    "#dev = qml.device(\"default.qubit\")\n",
    "@qml.qnode(dev)\n",
    "def circuit_early_evaluation(parameters: Dict, state: torch.Tensor = None): \n",
    "    results = early_evaluation(parameters, state)\n",
    "    return qml.probs(op=results)\n",
    "\n",
    "def full_evaluation(parameters: Dict, state: torch.Tensor = None): \n",
    "    mcms =  []\n",
    "    if state is not None: \n",
    "        # state vector initialization with input\n",
    "        qml.QubitStateVector(state, wires=range(num_qubits))\n",
    "        \n",
    "    for i in range(4): \n",
    "        for j in range(num_qubits): \n",
    "            qml.RX(parameters[f'layer_{i}'][j, 0], wires=j)\n",
    "            qml.RY(parameters[f'layer_{i}'][j, 1], wires=j)\n",
    "            qml.RZ(parameters[f'layer_{i}'][j, 2], wires=j)\n",
    "        for j in range(num_qubits):\n",
    "            qml.CNOT(wires=[j, (j + 1) % num_qubits])   \n",
    "    for w in first_pair: \n",
    "        mcms.append(qml.measure(wires=w))\n",
    "    \n",
    "    for i in range(4, num_layers): \n",
    "        for j in range(num_qubits): \n",
    "            qml.RX(parameters[f'layer_{i}'][j, 0], wires=j)\n",
    "            qml.RY(parameters[f'layer_{i}'][j, 1], wires=j)\n",
    "            qml.RZ(parameters[f'layer_{i}'][j, 2], wires=j)\n",
    "        for j in range(num_qubits):\n",
    "            qml.CNOT(wires=[j, (j + 1) % num_qubits])\n",
    "   \n",
    "    for w in second_pair: \n",
    "        mcms.append(qml.measure(wires=w))\n",
    "    return mcms\n",
    "\n",
    "dev = qml.device(\"default.qubit\", shots=num_shots)\n",
    "#dev = qml.device(\"default.qubit\")\n",
    "@qml.qnode(dev)\n",
    "def full_evaluation_circuit(parameters: Dict, state: torch.Tensor = None): \n",
    "    results = full_evaluation(parameters, state)\n",
    "    mcm = results[0:2]\n",
    "    fm = results[2:]\n",
    "    return qml.probs(op=mcm), qml.probs(op=fm)"
   ],
   "id": "77cda7e1a51884ee",
   "execution_count": 24,
   "outputs": []
  },
  {
   "metadata": {
    "ExecuteTime": {
     "end_time": "2024-09-06T07:44:40.382752Z",
     "start_time": "2024-09-06T07:44:40.379961Z"
    }
   },
   "cell_type": "code",
   "source": [
    "from torch.utils.data import DataLoader\n",
    "from tqdm import tqdm\n",
    "\n",
    "def evaluate(dataloader: DataLoader, threshold: float): \n",
    "    results = {\n",
    "        'early': [],\n",
    "        'final': []\n",
    "    }\n",
    "    total = len(dataloader.dataset)\n",
    "    \n",
    "    with tqdm(total=total, desc=\"Progress\", unit=\"iter\") as pbar:\n",
    "        for idx, (img, label) in enumerate(dataloader.dataset):\n",
    "            img = img / torch.linalg.norm(img).view(-1, 1)\n",
    "            early_probs = circuit_early_evaluation(parameters=params, state=img)\n",
    "            early_prediction = torch.argmax(early_probs)\n",
    "            early_confidence = early_probs[torch.argmax(early_probs)].item()\n",
    "\n",
    "            if early_confidence > threshold: \n",
    "                results['early'].append((early_prediction, label))\n",
    "            else:\n",
    "                final_probs = full_evaluation_circuit(parameters=params, state=img)[1]\n",
    "                final_prediction = torch.argmax(final_probs)\n",
    "                results['final'].append((final_prediction, label))\n",
    "\n",
    "            pbar.update(1)\n",
    "        \n",
    "    return results"
   ],
   "id": "9edc14ce04b09bdd",
   "execution_count": 25,
   "outputs": []
  },
  {
   "metadata": {
    "ExecuteTime": {
     "end_time": "2024-09-06T07:51:20.568131Z",
     "start_time": "2024-09-06T07:44:41.687209Z"
    }
   },
   "cell_type": "code",
   "source": "res = evaluate(test_dataloader, 0.5)",
   "id": "d45dc803e8b0d5ac",
   "execution_count": 26,
   "outputs": []
  },
  {
   "metadata": {
    "ExecuteTime": {
     "end_time": "2024-09-06T07:41:02.701813Z",
     "start_time": "2024-09-06T07:41:02.699456Z"
    }
   },
   "cell_type": "code",
   "source": [
    "def calculate_mcm_accuracy(dictionary: Dict, report: bool = False): \n",
    "    early_correct = sum([1 for label, prediction in dictionary['early'] if label == prediction])\n",
    "    if early_correct != 0: \n",
    "        early_accuracy = early_correct/len(dictionary['early'])\n",
    "    else: \n",
    "        early_accuracy = 0\n",
    "    final_correct = sum([1 for label, prediction in dictionary['final'] if label == prediction])\n",
    "    if final_correct != 0: \n",
    "        final_accuracy = final_correct/len(dictionary['final'])\n",
    "    else: \n",
    "        final_accuracy = 0\n",
    "    if report:\n",
    "        print(early_correct, \"elements have been correctly classified in the early exit over\", len(dictionary['early']), \"that have been early classified, with an accuracy of: \", early_accuracy, \"\\n\", final_correct, \"elements have been correctly classified in the final evaluation over\", len(dictionary['final']), \"that have not been early classified, with an accuracy of: \", final_accuracy)\n",
    "    return early_accuracy, final_accuracy"
   ],
   "id": "d4bfdf5e87d16af4",
   "execution_count": 15,
   "outputs": []
  },
  {
   "metadata": {
    "ExecuteTime": {
     "end_time": "2024-09-06T07:54:05.939128Z",
     "start_time": "2024-09-06T07:54:05.933626Z"
    }
   },
   "cell_type": "code",
   "source": "early_accuracy, final_accuracy = calculate_mcm_accuracy(res, True)",
   "id": "88c05c51d410f2ef",
   "execution_count": 27,
   "outputs": []
  },
  {
   "metadata": {},
   "cell_type": "markdown",
   "source": "Importing all in the class definition: ",
   "id": "d6788f581c03446a"
  },
  {
   "metadata": {
    "ExecuteTime": {
     "end_time": "2024-09-05T16:17:24.666932Z",
     "start_time": "2024-09-05T16:16:45.528801Z"
    }
   },
   "cell_type": "code",
   "source": "evaluation = model.evaluate(dataloader=test_dataloader, threshold=0.5)",
   "id": "d3c1ee7be60b0927",
   "execution_count": 45,
   "outputs": []
  },
  {
   "metadata": {
    "ExecuteTime": {
     "end_time": "2024-09-01T21:18:00.110940Z",
     "start_time": "2024-09-01T21:18:00.105407Z"
    }
   },
   "cell_type": "code",
   "source": "early_accuracy, final_accuracy = calculate_mcm_accuracy(evaluation, True)",
   "id": "1e35b0165d950ecd",
   "execution_count": 11,
   "outputs": []
  },
  {
   "metadata": {},
   "cell_type": "markdown",
   "source": "Batch Evaluation",
   "id": "36a3742315249b8d"
  },
  {
   "metadata": {
    "ExecuteTime": {
     "end_time": "2024-09-05T19:11:54.822858Z",
     "start_time": "2024-09-05T16:57:12.969806Z"
    }
   },
   "cell_type": "code",
   "source": [
    "torch.manual_seed(1234)\n",
    "threshold = [0.3, 0.4, 0.5, 0.6]\n",
    "\n",
    "for j in threshold: \n",
    "    shots = [5,10,20,30]\n",
    "    threshold = j\n",
    "    results = {\"5shot\": [], \"10shot\": [], \"20shot\": [], \"30shot\":[]}\n",
    "    for i in shots: \n",
    "        num_qubits = 8\n",
    "        num_layers = 8\n",
    "        params = model_parameters\n",
    "        num_shots = i\n",
    "        first_pair = [0,1]\n",
    "        second_pair = [2,3]\n",
    "        \n",
    "        def early_evaluation(parameters: Dict, state: torch.Tensor = None): \n",
    "            mcms =  []\n",
    "            if state is not None: \n",
    "                # state vector initialization with input\n",
    "                qml.QubitStateVector(state, wires=range(num_qubits))\n",
    "                \n",
    "            for i in range(4): \n",
    "                for j in range(num_qubits): \n",
    "                    qml.RX(parameters[f'layer_{i}'][j, 0], wires=j)\n",
    "                    qml.RY(parameters[f'layer_{i}'][j, 1], wires=j)\n",
    "                    qml.RZ(parameters[f'layer_{i}'][j, 2], wires=j)\n",
    "                for j in range(num_qubits):\n",
    "                    qml.CNOT(wires=[j, (j + 1) % num_qubits])   \n",
    "            for w in first_pair: \n",
    "                mcms.append(qml.measure(wires=w))\n",
    "            return mcms\n",
    "        \n",
    "        dev = qml.device(\"default.qubit\", shots=num_shots)\n",
    "        #dev = qml.device(\"default.qubit\")\n",
    "        @qml.qnode(dev)\n",
    "        def circuit_early_evaluation(parameters: Dict, state: torch.Tensor = None): \n",
    "            results = early_evaluation(parameters, state)\n",
    "            return qml.probs(op=results)\n",
    "        \n",
    "        def full_evaluation(parameters: Dict, state: torch.Tensor = None): \n",
    "            mcms =  []\n",
    "            if state is not None: \n",
    "                # state vector initialization with input\n",
    "                qml.QubitStateVector(state, wires=range(num_qubits))\n",
    "                \n",
    "            for i in range(4): \n",
    "                for j in range(num_qubits): \n",
    "                    qml.RX(parameters[f'layer_{i}'][j, 0], wires=j)\n",
    "                    qml.RY(parameters[f'layer_{i}'][j, 1], wires=j)\n",
    "                    qml.RZ(parameters[f'layer_{i}'][j, 2], wires=j)\n",
    "                for j in range(num_qubits):\n",
    "                    qml.CNOT(wires=[j, (j + 1) % num_qubits])   \n",
    "            for w in first_pair: \n",
    "                mcms.append(qml.measure(wires=w))\n",
    "            \n",
    "            for i in range(4, num_layers): \n",
    "                for j in range(num_qubits): \n",
    "                    qml.RX(parameters[f'layer_{i}'][j, 0], wires=j)\n",
    "                    qml.RY(parameters[f'layer_{i}'][j, 1], wires=j)\n",
    "                    qml.RZ(parameters[f'layer_{i}'][j, 2], wires=j)\n",
    "                for j in range(num_qubits):\n",
    "                    qml.CNOT(wires=[j, (j + 1) % num_qubits])\n",
    "           \n",
    "            for w in second_pair: \n",
    "                mcms.append(qml.measure(wires=w))\n",
    "            return mcms\n",
    "        \n",
    "        dev = qml.device(\"default.qubit\", shots=num_shots)\n",
    "        #dev = qml.device(\"default.qubit\")\n",
    "        @qml.qnode(dev)\n",
    "        def full_evaluation_circuit(parameters: Dict, state: torch.Tensor = None): \n",
    "            results = full_evaluation(parameters, state)\n",
    "            mcm = results[0:2]\n",
    "            fm = results[2:]\n",
    "            return qml.probs(op=fm)\n",
    "        \n",
    "        def evaluate(dataloader: DataLoader, threshold: float): \n",
    "            results = {\n",
    "                'early': [],\n",
    "                'final': []\n",
    "            }\n",
    "            total = len(dataloader.dataset)\n",
    "            \n",
    "            with tqdm(total=total, desc=\"Progress\", unit=\"iter\") as pbar:\n",
    "                for idx, (img, label) in enumerate(dataloader.dataset):\n",
    "                    img = img / torch.linalg.norm(img).view(-1, 1)\n",
    "                    early_probs = circuit_early_evaluation(parameters=params, state=img)\n",
    "                    early_prediction = torch.argmax(early_probs)\n",
    "                    early_confidence = early_probs[torch.argmax(early_probs)].item()\n",
    "        \n",
    "                    if early_confidence > threshold: \n",
    "                        results['early'].append((early_prediction, label))\n",
    "                    else:\n",
    "                        final_probs = full_evaluation_circuit(parameters=params, state=img)\n",
    "                        final_prediction = torch.argmax(final_probs)\n",
    "                        results['final'].append((final_prediction, label))\n",
    "        \n",
    "                    pbar.update(1)\n",
    "                \n",
    "            return results\n",
    "        \n",
    "        if i == 5: \n",
    "            print (\"Shots:\", i, \"\\n Threshold:\", threshold)\n",
    "            results['5shot'].append(calculate_mcm_accuracy(evaluate(test_dataloader, threshold), report = True))\n",
    "            \n",
    "        elif i ==10: \n",
    "            print (\"Shots:\", i, \"\\n Threshold:\", threshold)\n",
    "            results['10shot'].append(calculate_mcm_accuracy(evaluate(test_dataloader, threshold), report = True))\n",
    "            \n",
    "        elif i == 20: \n",
    "            print (\"Shots:\", i, \"\\n Threshold:\", threshold)\n",
    "            results['20shot'].append(calculate_mcm_accuracy(evaluate(test_dataloader, threshold), report = True))\n",
    "            \n",
    "        elif i == 30: \n",
    "            print (\"Shots:\", i, \"\\n Threshold:\", threshold)\n",
    "            results['30shot'].append(calculate_mcm_accuracy(evaluate(test_dataloader, threshold), report = True))\n",
    "    "
   ],
   "id": "d6bfc42b7874ae0b",
   "execution_count": 71,
   "outputs": []
  },
  {
   "metadata": {
    "ExecuteTime": {
     "end_time": "2024-09-05T19:57:20.785881Z",
     "start_time": "2024-09-05T19:11:54.823804Z"
    }
   },
   "cell_type": "code",
   "source": [
    "torch.manual_seed(1234)\n",
    "threshold = [0.7,0.8]\n",
    "\n",
    "for j in threshold: \n",
    "    shots = [5,10,20,30]\n",
    "    threshold = j\n",
    "    results = {\"5shot\": [], \"10shot\": [], \"20shot\": [], \"30shot\":[]}\n",
    "    for i in shots: \n",
    "        num_qubits = 8\n",
    "        num_layers = 8\n",
    "        params = model_parameters\n",
    "        num_shots = i\n",
    "        first_pair = [0,1]\n",
    "        second_pair = [2,3]\n",
    "        \n",
    "        def early_evaluation(parameters: Dict, state: torch.Tensor = None): \n",
    "            mcms =  []\n",
    "            if state is not None: \n",
    "                # state vector initialization with input\n",
    "                qml.QubitStateVector(state, wires=range(num_qubits))\n",
    "                \n",
    "            for i in range(4): \n",
    "                for j in range(num_qubits): \n",
    "                    qml.RX(parameters[f'layer_{i}'][j, 0], wires=j)\n",
    "                    qml.RY(parameters[f'layer_{i}'][j, 1], wires=j)\n",
    "                    qml.RZ(parameters[f'layer_{i}'][j, 2], wires=j)\n",
    "                for j in range(num_qubits):\n",
    "                    qml.CNOT(wires=[j, (j + 1) % num_qubits])   \n",
    "            for w in first_pair: \n",
    "                mcms.append(qml.measure(wires=w))\n",
    "            return mcms\n",
    "        \n",
    "        dev = qml.device(\"default.qubit\", shots=num_shots)\n",
    "        #dev = qml.device(\"default.qubit\")\n",
    "        @qml.qnode(dev)\n",
    "        def circuit_early_evaluation(parameters: Dict, state: torch.Tensor = None): \n",
    "            results = early_evaluation(parameters, state)\n",
    "            return qml.probs(op=results)\n",
    "        \n",
    "        def full_evaluation(parameters: Dict, state: torch.Tensor = None): \n",
    "            mcms =  []\n",
    "            if state is not None: \n",
    "                # state vector initialization with input\n",
    "                qml.QubitStateVector(state, wires=range(num_qubits))\n",
    "                \n",
    "            for i in range(4): \n",
    "                for j in range(num_qubits): \n",
    "                    qml.RX(parameters[f'layer_{i}'][j, 0], wires=j)\n",
    "                    qml.RY(parameters[f'layer_{i}'][j, 1], wires=j)\n",
    "                    qml.RZ(parameters[f'layer_{i}'][j, 2], wires=j)\n",
    "                for j in range(num_qubits):\n",
    "                    qml.CNOT(wires=[j, (j + 1) % num_qubits])   \n",
    "            for w in first_pair: \n",
    "                mcms.append(qml.measure(wires=w))\n",
    "            \n",
    "            for i in range(4, num_layers): \n",
    "                for j in range(num_qubits): \n",
    "                    qml.RX(parameters[f'layer_{i}'][j, 0], wires=j)\n",
    "                    qml.RY(parameters[f'layer_{i}'][j, 1], wires=j)\n",
    "                    qml.RZ(parameters[f'layer_{i}'][j, 2], wires=j)\n",
    "                for j in range(num_qubits):\n",
    "                    qml.CNOT(wires=[j, (j + 1) % num_qubits])\n",
    "           \n",
    "            for w in second_pair: \n",
    "                mcms.append(qml.measure(wires=w))\n",
    "            return mcms\n",
    "        \n",
    "        dev = qml.device(\"default.qubit\", shots=num_shots)\n",
    "        #dev = qml.device(\"default.qubit\")\n",
    "        @qml.qnode(dev)\n",
    "        def full_evaluation_circuit(parameters: Dict, state: torch.Tensor = None): \n",
    "            results = full_evaluation(parameters, state)\n",
    "            mcm = results[0:2]\n",
    "            fm = results[2:]\n",
    "            return qml.probs(op=fm)\n",
    "        \n",
    "        def evaluate(dataloader: DataLoader, threshold: float): \n",
    "            results = {\n",
    "                'early': [],\n",
    "                'final': []\n",
    "            }\n",
    "            total = len(dataloader.dataset)\n",
    "            \n",
    "            with tqdm(total=total, desc=\"Progress\", unit=\"iter\") as pbar:\n",
    "                for idx, (img, label) in enumerate(dataloader.dataset):\n",
    "                    img = img / torch.linalg.norm(img).view(-1, 1)\n",
    "                    early_probs = circuit_early_evaluation(parameters=params, state=img)\n",
    "                    early_prediction = torch.argmax(early_probs)\n",
    "                    early_confidence = early_probs[torch.argmax(early_probs)].item()\n",
    "        \n",
    "                    if early_confidence > threshold: \n",
    "                        results['early'].append((early_prediction, label))\n",
    "                    else:\n",
    "                        final_probs = full_evaluation_circuit(parameters=params, state=img)\n",
    "                        final_prediction = torch.argmax(final_probs)\n",
    "                        results['final'].append((final_prediction, label))\n",
    "        \n",
    "                    pbar.update(1)\n",
    "                \n",
    "            return results\n",
    "        \n",
    "        if i == 5: \n",
    "            print (\"Shots:\", i, \"\\n Threshold:\", threshold)\n",
    "            results['5shot'].append(calculate_mcm_accuracy(evaluate(test_dataloader, threshold), report = True))\n",
    "            \n",
    "        elif i ==10: \n",
    "            print (\"Shots:\", i, \"\\n Threshold:\", threshold)\n",
    "            results['10shot'].append(calculate_mcm_accuracy(evaluate(test_dataloader, threshold), report = True))\n",
    "            \n",
    "        elif i == 20: \n",
    "            print (\"Shots:\", i, \"\\n Threshold:\", threshold)\n",
    "            results['20shot'].append(calculate_mcm_accuracy(evaluate(test_dataloader, threshold), report = True))\n",
    "            \n",
    "        elif i == 30: \n",
    "            print (\"Shots:\", i, \"\\n Threshold:\", threshold)\n",
    "            results['30shot'].append(calculate_mcm_accuracy(evaluate(test_dataloader, threshold), report = True))"
   ],
   "id": "c968ebd3f5339bcf",
   "execution_count": 72,
   "outputs": []
  },
  {
   "metadata": {},
   "cell_type": "markdown",
   "source": "Analytic evaluation",
   "id": "536a8bf46420dff8"
  },
  {
   "metadata": {
    "ExecuteTime": {
     "end_time": "2024-09-05T20:13:44.606976Z",
     "start_time": "2024-09-05T20:13:44.600423Z"
    }
   },
   "cell_type": "code",
   "source": [
    "num_qubits = 8\n",
    "num_layers = 8\n",
    "params = model_parameters\n",
    "torch.manual_seed(1234)\n",
    "first_pair = [0,1]\n",
    "second_pair = [2,3]\n",
    "\n",
    "def early_evaluation(parameters: Dict, state: torch.Tensor = None): \n",
    "    mcms =  []\n",
    "    if state is not None: \n",
    "        # state vector initialization with input\n",
    "        qml.QubitStateVector(state, wires=range(num_qubits))\n",
    "        \n",
    "    for i in range(4): \n",
    "        for j in range(num_qubits): \n",
    "            qml.RX(parameters[f'layer_{i}'][j, 0], wires=j)\n",
    "            qml.RY(parameters[f'layer_{i}'][j, 1], wires=j)\n",
    "            qml.RZ(parameters[f'layer_{i}'][j, 2], wires=j)\n",
    "        for j in range(num_qubits):\n",
    "            qml.CNOT(wires=[j, (j + 1) % num_qubits])   \n",
    "    for w in first_pair: \n",
    "        mcms.append(qml.measure(wires=w))\n",
    "    return mcms\n",
    "\n",
    "dev = qml.device(\"default.qubit\", shots=num_shots)\n",
    "#dev = qml.device(\"default.qubit\")\n",
    "@qml.qnode(dev)\n",
    "def circuit_early_evaluation(parameters: Dict, state: torch.Tensor = None): \n",
    "    results = early_evaluation(parameters, state)\n",
    "    return qml.probs(op=results)\n",
    "\n",
    "def full_evaluation(parameters: Dict, state: torch.Tensor = None): \n",
    "    mcms =  []\n",
    "    if state is not None: \n",
    "        # state vector initialization with input\n",
    "        qml.QubitStateVector(state, wires=range(num_qubits))\n",
    "        \n",
    "    for i in range(4): \n",
    "        for j in range(num_qubits): \n",
    "            qml.RX(parameters[f'layer_{i}'][j, 0], wires=j)\n",
    "            qml.RY(parameters[f'layer_{i}'][j, 1], wires=j)\n",
    "            qml.RZ(parameters[f'layer_{i}'][j, 2], wires=j)\n",
    "        for j in range(num_qubits):\n",
    "            qml.CNOT(wires=[j, (j + 1) % num_qubits])   \n",
    "    for w in first_pair: \n",
    "        mcms.append(qml.measure(wires=w))\n",
    "    \n",
    "    for i in range(4, num_layers): \n",
    "        for j in range(num_qubits): \n",
    "            qml.RX(parameters[f'layer_{i}'][j, 0], wires=j)\n",
    "            qml.RY(parameters[f'layer_{i}'][j, 1], wires=j)\n",
    "            qml.RZ(parameters[f'layer_{i}'][j, 2], wires=j)\n",
    "        for j in range(num_qubits):\n",
    "            qml.CNOT(wires=[j, (j + 1) % num_qubits])\n",
    "   \n",
    "    for w in second_pair: \n",
    "        mcms.append(qml.measure(wires=w))\n",
    "    return mcms\n",
    "\n",
    "#dev = qml.device(\"default.qubit\")\n",
    "@qml.qnode(dev)\n",
    "def full_evaluation_circuit(parameters: Dict, state: torch.Tensor = None): \n",
    "    results = full_evaluation(parameters, state)\n",
    "    mcm = results[0:2]\n",
    "    fm = results[2:]\n",
    "    return qml.probs(op=fm)"
   ],
   "id": "a55d6711025406c6",
   "execution_count": 94,
   "outputs": []
  },
  {
   "metadata": {
    "ExecuteTime": {
     "end_time": "2024-09-05T20:15:46.463413Z",
     "start_time": "2024-09-05T20:15:46.437661Z"
    }
   },
   "cell_type": "code",
   "source": [
    "for img, label in test_dataloader.dataset:\n",
    "    img = img / torch.linalg.norm(img).view(-1, 1)\n",
    "    early_probs = circuit_early_evaluation(parameters=params, state=img)\n",
    "    early_prediction = torch.argmax(early_probs)\n",
    "    early_confidence = early_probs[early_prediction].item()\n",
    "    print(early_confidence)\n",
    "    break"
   ],
   "id": "50b96f3678ef9479",
   "execution_count": 104,
   "outputs": []
  },
  {
   "metadata": {
    "ExecuteTime": {
     "end_time": "2024-09-05T20:16:30.680917Z",
     "start_time": "2024-09-05T20:16:30.677920Z"
    }
   },
   "cell_type": "code",
   "source": [
    "def evaluate_analytic(dataloader: DataLoader, threshold: float): \n",
    "    results = {\n",
    "        'early': [],\n",
    "        'final': []\n",
    "    }\n",
    "    total = len(dataloader.dataset)\n",
    "    \n",
    "    with tqdm(total=total, desc=\"Progress\", unit=\"iter\") as pbar:\n",
    "        for idx, (img, label) in enumerate(dataloader.dataset):\n",
    "            img = img / torch.linalg.norm(img).view(-1, 1)\n",
    "            early_probs = circuit_early_evaluation(parameters=params, state=img)\n",
    "            early_prediction = torch.argmax(early_probs)\n",
    "            early_confidence = early_probs[early_prediction].item()\n",
    "\n",
    "            if early_confidence > threshold: \n",
    "                results['early'].append((early_prediction, label))\n",
    "            else:\n",
    "                final_probs = full_evaluation_circuit(parameters=params, state=img)\n",
    "                final_prediction = torch.argmax(final_probs)\n",
    "                results['final'].append((final_prediction, label))\n",
    "\n",
    "            pbar.update(1)\n",
    "        \n",
    "    return results"
   ],
   "id": "482e6dcfe69a69bb",
   "execution_count": 105,
   "outputs": []
  },
  {
   "metadata": {
    "ExecuteTime": {
     "end_time": "2024-09-05T20:18:28.237341Z",
     "start_time": "2024-09-05T20:17:05.821164Z"
    }
   },
   "cell_type": "code",
   "source": "res = evaluate_analytic(test_dataloader, 0.4)",
   "id": "dd91ea61f3be5ad3",
   "execution_count": 107,
   "outputs": []
  },
  {
   "metadata": {
    "ExecuteTime": {
     "end_time": "2024-09-05T20:22:57.536301Z",
     "start_time": "2024-09-05T20:20:05.433486Z"
    }
   },
   "cell_type": "code",
   "source": "res_2 = evaluate_analytic(test_dataloader, 0.5)",
   "id": "ced4777826eec720",
   "execution_count": 108,
   "outputs": []
  },
  {
   "metadata": {
    "ExecuteTime": {
     "end_time": "2024-09-05T20:25:44.010738Z",
     "start_time": "2024-09-05T20:22:57.537124Z"
    }
   },
   "cell_type": "code",
   "source": "res_3 = evaluate_analytic(test_dataloader, 0.6)",
   "id": "b3cc46c38a14da7",
   "execution_count": 109,
   "outputs": []
  },
  {
   "metadata": {
    "ExecuteTime": {
     "end_time": "2024-09-05T20:29:30.836110Z",
     "start_time": "2024-09-05T20:25:44.011290Z"
    }
   },
   "cell_type": "code",
   "source": "res_4 = evaluate_analytic(test_dataloader, 0.7)",
   "id": "4139ed82301338ca",
   "execution_count": 110,
   "outputs": []
  },
  {
   "metadata": {
    "ExecuteTime": {
     "end_time": "2024-09-05T20:33:16.662803Z",
     "start_time": "2024-09-05T20:29:30.837172Z"
    }
   },
   "cell_type": "code",
   "source": "res_5 = evaluate_analytic(test_dataloader, 0.8)",
   "id": "acbdc2ef885eab88",
   "execution_count": 111,
   "outputs": []
  },
  {
   "metadata": {
    "ExecuteTime": {
     "end_time": "2024-09-05T20:34:36.820303Z",
     "start_time": "2024-09-05T20:33:16.663338Z"
    }
   },
   "cell_type": "code",
   "source": "res_1 = evaluate_analytic(test_dataloader, 0.3)",
   "id": "a6128d2197f8ebea",
   "execution_count": 112,
   "outputs": []
  },
  {
   "metadata": {
    "ExecuteTime": {
     "end_time": "2024-09-05T20:34:36.831744Z",
     "start_time": "2024-09-05T20:34:36.820843Z"
    }
   },
   "cell_type": "code",
   "source": [
    "early_accuracy_1, final_accuracy_1 = calculate_mcm_accuracy(res_1, True)\n",
    "early_accuracy_2, final_accuracy_2 = calculate_mcm_accuracy(res, True)\n",
    "early_accuracy_3, final_accuracy_3 = calculate_mcm_accuracy(res_2, True)"
   ],
   "id": "35bcf39478d3ceac",
   "execution_count": 113,
   "outputs": []
  },
  {
   "metadata": {
    "ExecuteTime": {
     "end_time": "2024-09-05T20:34:36.843212Z",
     "start_time": "2024-09-05T20:34:36.832320Z"
    }
   },
   "cell_type": "code",
   "source": [
    "early_accuracy_4, final_accuracy_4 = calculate_mcm_accuracy(res_3, True)\n",
    "early_accuracy_5, final_accuracy_5 = calculate_mcm_accuracy(res_4, True)\n",
    "early_accuracy_6, final_accuracy_6 = calculate_mcm_accuracy(res_5, True)"
   ],
   "id": "378b7827c0e4de31",
   "execution_count": 114,
   "outputs": []
  },
  {
   "metadata": {},
   "cell_type": "markdown",
   "source": "# Full circuit Evaluation",
   "id": "142b0e6df87ff1ba"
  },
  {
   "metadata": {
    "ExecuteTime": {
     "end_time": "2024-09-05T20:56:55.373239Z",
     "start_time": "2024-09-05T20:55:23.991303Z"
    }
   },
   "cell_type": "code",
   "source": [
    "results = {\"early\": [], \"final\": []}\n",
    "for img, target in tqdm(test_dataloader.dataset):\n",
    "    img = img / torch.linalg.norm(img).view(-1, 1)\n",
    "    \n",
    "    mcm_probs, final_probs = model.forward(state=img)\n",
    "    mcm_predictions = torch.argmax(mcm_probs, dim=1)\n",
    "    mcm_correct = mcm_predictions == target\n",
    "    early_confidence = mcm_probs[0,mcm_predictions]\n",
    "    results[\"early\"].append((mcm_correct, early_confidence))\n",
    "    \n",
    "    final_predictions = torch.argmax(final_probs, dim=1)\n",
    "    final_correct = final_predictions == target\n",
    "    results[\"final\"].append((final_correct, final_predictions))"
   ],
   "id": "35413b4fb85eb76b",
   "execution_count": 138,
   "outputs": []
  },
  {
   "metadata": {
    "ExecuteTime": {
     "end_time": "2024-09-05T21:27:12.682193Z",
     "start_time": "2024-09-05T21:27:12.679752Z"
    }
   },
   "cell_type": "code",
   "source": [
    "def applica_threshold_con_contatore(lista1, lista2, threshold):\n",
    "    risultato = []\n",
    "    count_lista1 = 0\n",
    "    count_lista2 = 0\n",
    "    mcm_giusti = 0\n",
    "    finali_giusti = 0\n",
    "    \n",
    "    for i, (valore_bool, valore_tensor) in enumerate(lista1):\n",
    "        if valore_tensor.item() > threshold:\n",
    "            risultato.append(valore_bool.item())\n",
    "            count_lista1 += 1\n",
    "            if valore_bool: mcm_giusti += 1\n",
    "        else:\n",
    "            risultato.append(lista2[i][0]) \n",
    "            count_lista2 += 1\n",
    "            if lista2[i][0]: finali_giusti += 1\n",
    "            \n",
    "    return risultato, mcm_giusti, count_lista1, finali_giusti, count_lista2"
   ],
   "id": "eca1790a35f5c16e",
   "execution_count": 173,
   "outputs": []
  },
  {
   "metadata": {
    "ExecuteTime": {
     "end_time": "2024-09-05T21:27:20.332322Z",
     "start_time": "2024-09-05T21:27:20.305143Z"
    }
   },
   "cell_type": "code",
   "source": [
    "threshold = [0.3,0.4,0.45,0.5,0.6,0.7]\n",
    "\n",
    "for t in threshold:\n",
    "    risul, mcm_giusti, count_mcm, finali_giusti, count_final = applica_threshold_con_contatore(results['early'], results['final'], t)\n",
    "    \n",
    "    print(finali_giusti/count_final)"
   ],
   "id": "45bce251345c4d0a",
   "execution_count": 175,
   "outputs": []
  },
  {
   "metadata": {
    "ExecuteTime": {
     "end_time": "2024-09-05T21:16:30.418668Z",
     "start_time": "2024-09-05T21:16:30.361502Z"
    }
   },
   "cell_type": "code",
   "source": "",
   "id": "8f4a87f747c93cea",
   "execution_count": 154,
   "outputs": []
  },
  {
   "metadata": {},
   "cell_type": "code",
   "execution_count": null,
   "source": "",
   "id": "2b8f8805a5ceb510",
   "outputs": []
  }
 ],
 "metadata": {
  "kernelspec": {
   "display_name": "Python 3",
   "language": "python",
   "name": "python3"
  },
  "language_info": {
   "codemirror_mode": {
    "name": "ipython",
    "version": 2
   },
   "file_extension": ".py",
   "mimetype": "text/x-python",
   "name": "python",
   "nbconvert_exporter": "python",
   "pygments_lexer": "ipython2",
   "version": "2.7.6"
  }
 },
 "nbformat": 4,
 "nbformat_minor": 5
}
