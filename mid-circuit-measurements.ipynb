{
 "cells": [
  {
   "metadata": {},
   "cell_type": "markdown",
   "source": "# Dataset preparation",
   "id": "da2da910edf7593c"
  },
  {
   "metadata": {
    "ExecuteTime": {
     "end_time": "2024-08-02T14:01:30.710101Z",
     "start_time": "2024-08-02T14:01:26.598469Z"
    }
   },
   "cell_type": "code",
   "source": [
    "import torch\n",
    "import pennylane as qml\n",
    "import torchvision.datasets as datasets\n",
    "import torchvision.transforms as transforms\n",
    "from data_utils import mnist_preparation \n",
    "from tqdm import tqdm\n",
    "import matplotlib as plt"
   ],
   "id": "c8217a65145589bb",
   "outputs": [],
   "execution_count": 1
  },
  {
   "metadata": {
    "jupyter": {
     "is_executing": true
    },
    "ExecuteTime": {
     "start_time": "2024-08-02T14:01:30.711005Z"
    }
   },
   "cell_type": "code",
   "source": [
    "labels = [0,1,2,3]\n",
    "# Download MNIST and prepare transforms\n",
    "mnist = datasets.MNIST(root='./data', train=True, download=True, transform=transforms.Compose([\n",
    "                                transforms.Resize((16, 16)),  # Resize to 16x16\n",
    "                                transforms.ToTensor(),\n",
    "                                transforms.Normalize((0.1307,), (0.3081,))  # Normalize\n",
    "                             ]))\n",
    "\n",
    "#dataloader\n",
    "train_dataloader, test_dataloader = mnist_preparation(dataset=mnist, labels = labels, train_test_ratio=0.8,batch_size=64)"
   ],
   "id": "initial_id",
   "outputs": [],
   "execution_count": null
  },
  {
   "metadata": {},
   "cell_type": "markdown",
   "source": [
    "# Pure and mixed states\n",
    "Before diving in mid circuit measurements it could be useful to have a small recap on pure and mixed states. In simple terms, a state is **pure** if you do not have ignorance about its preparation while it is **mixed** if you do not know. The so called **density operator** can be defined as:\n",
    "\n",
    "$$\n",
    "\\hat{\\rho} = \\sum \\limits_i p_i | \\phi_i \\rangle \\langle \\phi_i |\n",
    "$$ \n",
    "\n",
    "where $\\sum \\limits_i p_i = 1$ and each of $p_i$ is associated to state $|\\phi_i \\rangle$. The density operator is useful to describe mixed states. For a pure state instead you will have the probability being 1 in a specific state ending up in $\\hat{\\rho} = | \\phi \\rangle \\langle \\phi |$. \n",
    "\n",
    "Expressing the density operator as $\\hat{\\rho} = \\sum \\limits_{i=1}^l p_k |\\psi_k \\rangle \\langle \\psi_k|$ it can be represented as a matrix using the basis $\\{ |i \\rangle \\}$, then the ij-th element of the matrix will be $\\langle i | \\rho | j \\rangle$. In matrix representation on the diagonal there are the so called *population terms* and off diagonal the *coherence terms*.\n",
    "\n",
    "The density operator: \n",
    "- is hermitian, meaning that on the diagonal $\\rho_{ii} = \\rho_{ii}^*$ and off diagonal $\\rho_{ij}= \\rho{ji}^*$;\n",
    "- has unitary trace $\\text{tr}[\\rho] = 1$; \n",
    "- is non negative, i.e. for any vector in the Hilbert space $\\langle \\phi |\\rho | \\phi \\rangle \\geq 0$. \n",
    "\n",
    "A simple criterion to check if a state is pure or mixed is to calculate $\\text{tr}[\\rho^2]$, if it is 1 it is pure, if it is less than 1 it is mixed.\n",
    "\n"
   ],
   "id": "b29989c5d2da7d90"
  },
  {
   "metadata": {},
   "cell_type": "markdown",
   "source": [
    "# Mid circuit measurements\n",
    "A measurement $M$ is a process that maps a valid quantum state $\\rho$ (density operator) to a classical probabilistic mixture of post measurement quantum states $\\rho_i$, specified by $M$: \n",
    "\n",
    "$$\n",
    "M[\\rho] = \\sum \\limits_{i=1}^n p_i \\rho_i\n",
    "$$\n",
    "\n",
    "where $n$ is the number of possible outcomes and $p_i$ the probability to measure outcome $i$ associated to $\\rho_i$. This describes the probabilistic mixture after the measurement if we do not record the outcome. If the outcome is recorded, we no longer have a probabilistic mixture but the state $\\rho_i$ associated to the filtered outcome $i$. \n",
    "\n",
    "Considering the so called projective measurements, calling $\\Pi_i$ the projector associated to the measurement outcome, with all projectors summming to the identity, the post measurement states are given by: \n",
    "\n",
    "$$\n",
    "\\rho_i = \\frac{\\Pi_i \\rho \\Pi_i}{\\text{tr}[\\Pi_i \\rho]}\n",
    "$$\n",
    "\n",
    "where $p_i = \\text{tr}[\\Pi_i \\rho]$. If we do not measure the outcome the system will end up in state: \n",
    "\n",
    "$$\n",
    "M[\\rho] = \\sum \\limits_{i=1}^n \\Pi_i \\rho \\Pi_i\n",
    "$$\n",
    "\n",
    "Even if it is not written, I suppose that in [Pennylane](https://pennylane.ai/qml/demos/tutorial_mcm_introduction/), they refers to $\\Pi_i$ as the so called Positive Operator Valued Measurements defined as $\\Pi_i = M_i^{\\dagger}M_i$ and $\\sum_i \\Pi_i = \\mathbf{I}$. For POVM $\\Pi_i$ are non negative, sufficient condition to describe as positive the probability to obtain an outcome $i$. In this scenario the $M$ operator defining the $\\Pi_i$ can be thought as Generalized Measurements, a specific collection of operators such that for pure states the probability of the measurement outcome $i$ is given by:\n",
    "\n",
    "$$\n",
    "p(i) = \\langle \\psi | M_i^{\\dagger} M_i | \\psi \\rangle\n",
    "$$\n",
    "\n",
    "The state of the system after the measurement, given that the outcome $i$ was obtained, is:\n",
    "\n",
    "$$\n",
    "|\\psi'\\rangle = \\frac{M_i |\\psi\\rangle}{\\sqrt{\\langle \\psi | M_i^{\\dagger} M_i | \\psi \\rangle}}\n",
    "$$\n",
    "\n",
    "For mixed states instead the probability of the measurement outcome $i$ is given by: \n",
    "$$\n",
    "p(i) = \\text{tr}[\\rho M_i^{\\dagger} M_i]\n",
    "$$\n",
    "\n",
    "The state of the system after the measurement, given that the outcome $i$ was obtained, is:\n",
    "\n",
    "$$\n",
    "\\rho' = \\frac{M_i^{\\dagger} \\rho M_i}{\\text{tr}[\\rho M_i^{\\dagger} M_i]}\n",
    "$$\n",
    "\n",
    "The **projective measurements** are a specific class of Generalized Measurements  where $P_i = | i \\rangle  \\langle i |$, $\\sum_i P_i = \\mathbf{I}$, $P_iP_j = \\delta_{ij} P_i$ and $P_i^2 = \\mathbf{I}$. In this case for pure states the probability of obtaining outcome $i$ is: \n",
    "\n",
    "$$\n",
    "p(i) = \\langle \\psi |P_i| \\psi \\rangle\n",
    "$$\n",
    "\n",
    "and the final state is: \n",
    "\n",
    "$$\n",
    "|\\psi' \\rangle = \\frac{P_i |\\psi \\rangle}{ \\sqrt{\\langle \\psi |P_i| \\psi \\rangle}}\n",
    "$$\n",
    "\n",
    "For mixed state the probability to obtain an outcome $i$ is given by: \n",
    "\n",
    "$$\n",
    "p(i) = \\text{tr}[\\rho P_i]\n",
    "$$\n",
    "\n",
    "And the final state: \n",
    "\n",
    "$$\n",
    "\\rho' = \\frac{P_i \\rho P_i}{\\text{tr}[\\rho P_i]}\n",
    "$$"
   ],
   "id": "78974686f87dea1"
  },
  {
   "metadata": {},
   "cell_type": "markdown",
   "source": [
    "# Original model\n",
    "The initial state of the system is initialized using one image. If the image is of size 16x16, then you need 8 qubits in order to have $2^8 = 256$ possible states in order to associate each of the 256 values referred to an image to define the amplitude to be in a specific state. In PennyLane, the states are in lexiographic order, whose meaning is hereafter reported for completeness:  \n",
    "\n",
    " "
   ],
   "id": "9a9def132269d92d"
  },
  {
   "metadata": {
    "ExecuteTime": {
     "end_time": "2024-08-02T14:13:05.956652Z",
     "start_time": "2024-08-02T14:13:05.954622Z"
    }
   },
   "cell_type": "code",
   "source": [
    "#lexiographic order\n",
    "states = []\n",
    "for i in range(256):\n",
    "    states.append(format(i, '08b'))  \n",
    "print(states)"
   ],
   "id": "9f065433e689da5e",
   "outputs": [
    {
     "name": "stdout",
     "output_type": "stream",
     "text": [
      "['00000000', '00000001', '00000010', '00000011', '00000100', '00000101', '00000110', '00000111', '00001000', '00001001', '00001010', '00001011', '00001100', '00001101', '00001110', '00001111', '00010000', '00010001', '00010010', '00010011', '00010100', '00010101', '00010110', '00010111', '00011000', '00011001', '00011010', '00011011', '00011100', '00011101', '00011110', '00011111', '00100000', '00100001', '00100010', '00100011', '00100100', '00100101', '00100110', '00100111', '00101000', '00101001', '00101010', '00101011', '00101100', '00101101', '00101110', '00101111', '00110000', '00110001', '00110010', '00110011', '00110100', '00110101', '00110110', '00110111', '00111000', '00111001', '00111010', '00111011', '00111100', '00111101', '00111110', '00111111', '01000000', '01000001', '01000010', '01000011', '01000100', '01000101', '01000110', '01000111', '01001000', '01001001', '01001010', '01001011', '01001100', '01001101', '01001110', '01001111', '01010000', '01010001', '01010010', '01010011', '01010100', '01010101', '01010110', '01010111', '01011000', '01011001', '01011010', '01011011', '01011100', '01011101', '01011110', '01011111', '01100000', '01100001', '01100010', '01100011', '01100100', '01100101', '01100110', '01100111', '01101000', '01101001', '01101010', '01101011', '01101100', '01101101', '01101110', '01101111', '01110000', '01110001', '01110010', '01110011', '01110100', '01110101', '01110110', '01110111', '01111000', '01111001', '01111010', '01111011', '01111100', '01111101', '01111110', '01111111', '10000000', '10000001', '10000010', '10000011', '10000100', '10000101', '10000110', '10000111', '10001000', '10001001', '10001010', '10001011', '10001100', '10001101', '10001110', '10001111', '10010000', '10010001', '10010010', '10010011', '10010100', '10010101', '10010110', '10010111', '10011000', '10011001', '10011010', '10011011', '10011100', '10011101', '10011110', '10011111', '10100000', '10100001', '10100010', '10100011', '10100100', '10100101', '10100110', '10100111', '10101000', '10101001', '10101010', '10101011', '10101100', '10101101', '10101110', '10101111', '10110000', '10110001', '10110010', '10110011', '10110100', '10110101', '10110110', '10110111', '10111000', '10111001', '10111010', '10111011', '10111100', '10111101', '10111110', '10111111', '11000000', '11000001', '11000010', '11000011', '11000100', '11000101', '11000110', '11000111', '11001000', '11001001', '11001010', '11001011', '11001100', '11001101', '11001110', '11001111', '11010000', '11010001', '11010010', '11010011', '11010100', '11010101', '11010110', '11010111', '11011000', '11011001', '11011010', '11011011', '11011100', '11011101', '11011110', '11011111', '11100000', '11100001', '11100010', '11100011', '11100100', '11100101', '11100110', '11100111', '11101000', '11101001', '11101010', '11101011', '11101100', '11101101', '11101110', '11101111', '11110000', '11110001', '11110010', '11110011', '11110100', '11110101', '11110110', '11110111', '11111000', '11111001', '11111010', '11111011', '11111100', '11111101', '11111110', '11111111']\n"
     ]
    }
   ],
   "execution_count": 1
  },
  {
   "metadata": {},
   "cell_type": "markdown",
   "source": [
    "Considering that $\\text{dim}\\mathcal{H}_8 = 2^8$, that the computational basis for an 8-qubit system is $\\{ |00000000\\rangle, |00000001 \\rangle, \\dots, |11111111 \\rangle \\}$ and can be synthetically expressed as $\\{ |i \\rangle \\}_{i = 1}^{2^8}$, the general initial state can be expressed as: \n",
    "\n",
    "$$\n",
    "|\\psi \\rangle = \\sum \\limits_{i=1}^{256} \\alpha_i |i \\rangle\n",
    "$$\n",
    "\n",
    "where $\\alpha_i$ are complex coefficients such that $\\sum \\limits_{i=1}^{256} \\alpha_i = 1$. "
   ],
   "id": "4f2ab2392f79ba2f"
  },
  {
   "metadata": {},
   "cell_type": "markdown",
   "source": [
    "Each layer of the original model consists in parametrized rotations defined using the $\\sigma_X, \\sigma_Y, \\sigma_Z$ Pauli Matrices [RX](https://docs.pennylane.ai/en/stable/code/api/pennylane.RX.html), [RY](https://docs.pennylane.ai/en/stable/code/api/pennylane.RY.html), [RZ](https://docs.pennylane.ai/en/stable/code/api/pennylane.RZ.html) gates applied on each qubit, then [CNOT](https://docs.pennylane.ai/en/stable/code/api/pennylane.CNOT.html) gates are applied to create entanglement. \n",
    "\n",
    "Just to remind, a very small recap on entanglement. Considering a system composed by two subsystems A,B, for pure states it can be described by $|\\phi \\rangle_{AB}$. Then the state is **separable** iff: \n",
    "\n",
    "$$\n",
    "$|\\phi \\rangle_{AB}$ = |\\phi \\rangle_A \\otimes |\\phi \\rangle_B\n",
    "$$\n",
    "\n",
    "For example $\\frac{|00\\rangle_{AB} + |01 \\rangle_{AB}}{\\sqrt{2}$ is separable beacuse it can be written as $\\frac{|0\\rangle_{A} (|0\\rangle_{B} + |1 \\rangle_{B})}{\\sqrt{2}$.\n",
    "\n",
    "If the state is not separable it is **entangled**. This fact is not easy to prove, for this reason there exists some criteria working under specific circumstances. One example of Entangled states are the [Bell states](https://en.wikipedia.org/wiki/Bell_state), that can be used as a basis of Entangled Hilbert Space.\n",
    "\n",
    "For mixed states instead we can use an operational approach to express **separability** called Local Operation and Classical Communication. A and B, prepare separable states locally and cooperate with classical communication to create the full state: \n",
    "\n",
    "$$\n",
    "\\rho_{AB} = \\sum \\limits_i p_i \\rho_A^i \\otimes \\rho_B^i\n",
    "$$\n",
    "\n",
    "Also there if a state is not separable, then it is **entangled**. "
   ],
   "id": "7d6f45b44731a656"
  },
  {
   "metadata": {},
   "cell_type": "markdown",
   "source": "",
   "id": "b23c7480a9c83d93"
  },
  {
   "metadata": {},
   "cell_type": "code",
   "outputs": [],
   "execution_count": null,
   "source": [
    "NUM_QUBITS = 8\n",
    "NUM_LAYERS = 3\n",
    "\n",
    "# get the device\n",
    "dev = qml.device(\"default.qubit\", wires=NUM_QUBITS)\n",
    "\n",
    "# circuit using the strongly entangling layer ansatz\n",
    "@qml.qnode(dev, interface=\"torch\")\n",
    "def circuit_block(params, state=None):\n",
    "\n",
    "    # Load the initial state if provided\n",
    "    if state is not None: qml.QubitStateVector(state, wires=range(NUM_QUBITS))\n",
    "\n",
    "    # Real quantum encoding (using amplitude encoding)\n",
    "    #if state is not None: qml.AmplitudeEmbedding(features=state, wires=range(NUM_QUBITS))\n",
    "\n",
    "    #qml.StronglyEntanglingLayers(params, wires=range(NUM_QUBITS), ranges = [1]*params.shape[0])\n",
    "\n",
    "    # Quantum circuit\n",
    "    for i in range(NUM_LAYERS):\n",
    "\n",
    "      # Rotation layer\n",
    "      for j in range(NUM_QUBITS):\n",
    "          qml.RX(params[i, j, 0], wires=j)\n",
    "          qml.RY(params[i, j, 1], wires=j)\n",
    "          qml.RZ(params[i, j, 2], wires=j)\n",
    "\n",
    "      # Entangling layer\n",
    "      for j in range(NUM_QUBITS):\n",
    "          qml.CNOT(wires=[j, (j + 1) % NUM_QUBITS])\n",
    "\n",
    "\n",
    "    # Return the state vector\n",
    "    return qml.state()\n",
    "\n",
    "  # define general circuit\n",
    "def circuit(params, state):\n",
    "\n",
    "    # apply first small block\n",
    "    state = circuit_block(params, state)\n",
    "\n",
    "    # return probability of measuring |0> in the first qubit\n",
    "    return measure(state)\n",
    "\n",
    "# define function that outputs the probability of mesuring |0> in the first qubit\n",
    "def measure(state):\n",
    "\n",
    "    # compute the probability of measuring |0> in the first qubit\n",
    "    prob = torch.sum(torch.abs(state[:,:2**(NUM_QUBITS-1)])**2, dim = 1)\n",
    "\n",
    "    # cast to float32\n",
    "    prob = prob.type(torch.float32)\n",
    "\n",
    "    return prob"
   ],
   "id": "40d743a189b2e415"
  }
 ],
 "metadata": {
  "kernelspec": {
   "display_name": "Python 3",
   "language": "python",
   "name": "python3"
  },
  "language_info": {
   "codemirror_mode": {
    "name": "ipython",
    "version": 2
   },
   "file_extension": ".py",
   "mimetype": "text/x-python",
   "name": "python",
   "nbconvert_exporter": "python",
   "pygments_lexer": "ipython2",
   "version": "2.7.6"
  }
 },
 "nbformat": 4,
 "nbformat_minor": 5
}
