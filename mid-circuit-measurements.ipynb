{
 "cells": [
  {
   "metadata": {},
   "cell_type": "markdown",
   "source": "# Dataset preparation",
   "id": "da2da910edf7593c"
  },
  {
   "metadata": {
    "ExecuteTime": {
     "end_time": "2024-08-01T15:31:18.032259Z",
     "start_time": "2024-08-01T15:31:14.545348Z"
    }
   },
   "cell_type": "code",
   "source": [
    "import torch\n",
    "import torchvision.datasets as datasets\n",
    "import torchvision.transforms as transforms\n",
    "from data_utils import mnist_preparation "
   ],
   "id": "c8217a65145589bb",
   "outputs": [],
   "execution_count": 1
  },
  {
   "metadata": {
    "jupyter": {
     "is_executing": true
    },
    "ExecuteTime": {
     "start_time": "2024-08-01T15:31:19.759752Z"
    }
   },
   "cell_type": "code",
   "source": [
    "labels = [0,1,2,3]\n",
    "# Download MNIST and prepare transforms\n",
    "mnist = datasets.MNIST(root='./data', train=True, download=True, transform=transforms.Compose([\n",
    "                                transforms.Resize((16, 16)),  # Resize to 16x16\n",
    "                                transforms.ToTensor(),\n",
    "                                transforms.Normalize((0.1307,), (0.3081,))  # Normalize\n",
    "                             ]))\n",
    "\n",
    "#dataloader\n",
    "train_dataloader, test_dataloader = mnist_preparation(dataset=mnist, labels = labels, train_test_ratio=0.8,batch_size=64)"
   ],
   "id": "initial_id",
   "outputs": [
    {
     "name": "stdout",
     "output_type": "stream",
     "text": [
      "Downloading http://yann.lecun.com/exdb/mnist/train-images-idx3-ubyte.gz\n",
      "Failed to download (trying next):\n",
      "HTTP Error 403: Forbidden\n",
      "\n",
      "Downloading https://ossci-datasets.s3.amazonaws.com/mnist/train-images-idx3-ubyte.gz\n",
      "Downloading https://ossci-datasets.s3.amazonaws.com/mnist/train-images-idx3-ubyte.gz to ./data/MNIST/raw/train-images-idx3-ubyte.gz\n"
     ]
    },
    {
     "name": "stderr",
     "output_type": "stream",
     "text": [
      "100%|██████████| 9912422/9912422 [00:02<00:00, 3696495.42it/s]\n"
     ]
    },
    {
     "name": "stdout",
     "output_type": "stream",
     "text": [
      "Extracting ./data/MNIST/raw/train-images-idx3-ubyte.gz to ./data/MNIST/raw\n",
      "\n",
      "Downloading http://yann.lecun.com/exdb/mnist/train-labels-idx1-ubyte.gz\n",
      "Failed to download (trying next):\n",
      "<urlopen error [Errno 60] Operation timed out>\n",
      "\n",
      "Downloading https://ossci-datasets.s3.amazonaws.com/mnist/train-labels-idx1-ubyte.gz\n",
      "Downloading https://ossci-datasets.s3.amazonaws.com/mnist/train-labels-idx1-ubyte.gz to ./data/MNIST/raw/train-labels-idx1-ubyte.gz\n"
     ]
    },
    {
     "name": "stderr",
     "output_type": "stream",
     "text": [
      "100%|██████████| 28881/28881 [00:00<00:00, 175836.75it/s]\n"
     ]
    },
    {
     "name": "stdout",
     "output_type": "stream",
     "text": [
      "Extracting ./data/MNIST/raw/train-labels-idx1-ubyte.gz to ./data/MNIST/raw\n",
      "\n",
      "Downloading http://yann.lecun.com/exdb/mnist/t10k-images-idx3-ubyte.gz\n",
      "Failed to download (trying next):\n",
      "HTTP Error 403: Forbidden\n",
      "\n",
      "Downloading https://ossci-datasets.s3.amazonaws.com/mnist/t10k-images-idx3-ubyte.gz\n",
      "Downloading https://ossci-datasets.s3.amazonaws.com/mnist/t10k-images-idx3-ubyte.gz to ./data/MNIST/raw/t10k-images-idx3-ubyte.gz\n"
     ]
    },
    {
     "name": "stderr",
     "output_type": "stream",
     "text": [
      "100%|██████████| 1648877/1648877 [00:01<00:00, 1540452.30it/s]\n"
     ]
    },
    {
     "name": "stdout",
     "output_type": "stream",
     "text": [
      "Extracting ./data/MNIST/raw/t10k-images-idx3-ubyte.gz to ./data/MNIST/raw\n",
      "\n",
      "Downloading http://yann.lecun.com/exdb/mnist/t10k-labels-idx1-ubyte.gz\n",
      "Failed to download (trying next):\n",
      "HTTP Error 403: Forbidden\n",
      "\n",
      "Downloading https://ossci-datasets.s3.amazonaws.com/mnist/t10k-labels-idx1-ubyte.gz\n",
      "Downloading https://ossci-datasets.s3.amazonaws.com/mnist/t10k-labels-idx1-ubyte.gz to ./data/MNIST/raw/t10k-labels-idx1-ubyte.gz\n"
     ]
    },
    {
     "name": "stderr",
     "output_type": "stream",
     "text": [
      "100%|██████████| 4542/4542 [00:00<00:00, 1346517.44it/s]"
     ]
    }
   ],
   "execution_count": null
  },
  {
   "metadata": {},
   "cell_type": "markdown",
   "source": [
    "# Mid circuit measurements\n",
    "A measurement $M$ is a process that maps a valid quantum state $\\rho$ (density operator) to a classical probabilistic mixture of post measurement quantum states $\\rho_i$, specified by $M$: \n",
    "\n",
    "$$\n",
    "M[\\rho] = \\sum \\limits_{i=1}^n p_i \\rho_i\n",
    "$$\n",
    "\n",
    "where $n$ is the number of possible outcomes and $p_i$ the probability to measure outcome $i$ associated to $\\rho_i$. This describes the probabilistic mixture after the measurement if we do not record the outcome. If the outcome is recorded, we no longer have a probabilistic mixture but the state $\\rho_i$ associated to the filtered outcome $i$. \n",
    "\n",
    "Considering the so called projective measurements, calling $\\Pi_i$ the projector associated to the measurement outcome, with all projectors summming to the identity, the post measurement states are given by: \n",
    "\n",
    "$$\n",
    "\\rho_i = \\frac{\\Pi_i \\rho \\Pi_i}{\\text{tr}[\\Pi_i \\rho]}\n",
    "$$\n",
    "\n",
    "where $p_i = \\text{tr}[\\Pi_i \\rho]$. If we do not measure the outcome the system will end up in state: \n",
    "\n",
    "$$\n",
    "M[\\rho] = \\sum \\limits_{i=1}^n \\Pi_i \\rho \\Pi_i\n",
    "$$\n",
    "\n",
    "Even if it is not written, I suppose that in [Pennylane](https://pennylane.ai/qml/demos/tutorial_mcm_introduction/), they refers to $\\Pi_i$ as the so called Positive Operator Valued Measurements defined as $\\Pi_i = M_i^{\\dagger}M_i$ and $\\sum_i \\Pi_i = \\mathbf{I}$. For POVM $\\Pi_i$ are non negative, sufficient condition to describe as positive the probability to obtain an outcome $i$. In this scenario the $M$ operator defining the $\\Pi_i$ can be thought as Generalized Measurements, a specific collection of operators such that for pure states the probability of the measurement outcome $i$ is given by:\n",
    "\n",
    "$$\n",
    "p(i) = \\langle \\psi | M_i^{\\dagger} M_i | \\psi \\rangle\n",
    "$$\n",
    "\n",
    "The state of the system after the measurement, given that the outcome $i$ was obtained, is:\n",
    "\n",
    "$$\n",
    "|\\psi'\\rangle = \\frac{M_i |\\psi\\rangle}{\\sqrt{\\langle \\psi | M_i^{\\dagger} M_i | \\psi \\rangle}}\n",
    "$$\n",
    "\n",
    "For mixed states instead the probability of the measurement outcome $i$ is given by: \n",
    "$$\n",
    "p(i) = \\text{tr}[\\rho M_i^{\\dagger} M_i]\n",
    "$$\n",
    "\n",
    "The state of the system after the measurement, given that the outcome $i$ was obtained, is:\n",
    "\n",
    "$$\n",
    "\\rho' = \\frac{M_i^{\\dagger} \\rho M_i}{\\text{tr}[\\rho M_i^{\\dagger} M_i]}\n",
    "$$\n",
    "\n",
    "The **projective measurements** are a specific class of Generalized Measurements  where $P_i = | i \\rangle  \\langle i |$, $\\sum_i P_i = \\mathbf{I}$, $P_iP_j = \\delta_{ij} P_i$ and $P_i^2 = \\mathbf{I}$. In this case for pure states the probability of obtaining outcome $i$ is: \n",
    "\n",
    "$$\n",
    "p(i) = \\langle \\psi |P_i| \\psi \\rangle\n",
    "$$\n",
    "\n",
    "and the final state is: \n",
    "\n",
    "$$\n",
    "|\\psi' \\rangle = \\frac{P_i |\\psi \\rangle}{ \\sqrt{\\langle \\psi |P_i| \\psi \\rangle}}\n",
    "$$\n",
    "\n",
    "For mixed state the probability to obtain an outcome $i$ is given by: \n",
    "\n",
    "$$\n",
    "p(i) = \\text{tr}[\\rho P_i]\n",
    "$$\n",
    "\n",
    "And the final state: \n",
    "\n",
    "$$\n",
    "\\rho' = \\frac{P_i \\rho P_i}{\\text{tr}[\\rho P_i]}\n",
    "$$"
   ],
   "id": "78974686f87dea1"
  },
  {
   "metadata": {},
   "cell_type": "code",
   "outputs": [],
   "execution_count": null,
   "source": "",
   "id": "2903ff5f59b0947a"
  }
 ],
 "metadata": {
  "kernelspec": {
   "display_name": "Python 3",
   "language": "python",
   "name": "python3"
  },
  "language_info": {
   "codemirror_mode": {
    "name": "ipython",
    "version": 2
   },
   "file_extension": ".py",
   "mimetype": "text/x-python",
   "name": "python",
   "nbconvert_exporter": "python",
   "pygments_lexer": "ipython2",
   "version": "2.7.6"
  }
 },
 "nbformat": 4,
 "nbformat_minor": 5
}
