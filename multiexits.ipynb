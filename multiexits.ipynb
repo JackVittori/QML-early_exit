{
 "cells": [
  {
   "cell_type": "code",
   "id": "initial_id",
   "metadata": {
    "collapsed": true,
    "ExecuteTime": {
     "end_time": "2024-09-23T08:11:48.920258Z",
     "start_time": "2024-09-23T08:11:45.113890Z"
    }
   },
   "source": [
    "import torch\n",
    "import pandas as pd\n",
    "import pennylane as qml\n",
    "from pennylane import numpy as np\n",
    "import torchvision.datasets as datasets\n",
    "import torchvision.transforms as transforms\n",
    "from data_utils import mnist_preparation, add_salt_and_pepper_noise \n",
    "from evaluationUtils import calculate_mcm_accuracy\n",
    "from tqdm import tqdm\n",
    "import matplotlib as plt\n",
    "from mcmadaptablemodel import MCMQuantumModel, MCMCircuit\n",
    "from pennylane import Device\n",
    "from pennylane.measurements import StateMP\n",
    "from torch.nn import Module, ParameterDict\n",
    "import matplotlib.pyplot as plt\n",
    "from OriginalModel import FullQuantumModel, QuantumCircuit\n",
    "import warnings\n",
    "from typing import Optional, Dict, List, Any\n",
    "from torch.utils.data import DataLoader, dataloader\n",
    "from time import time\n",
    "import math\n",
    "from pennylane.measurements import MidMeasureMP\n",
    "torch.manual_seed(1234)"
   ],
   "execution_count": 1,
   "outputs": []
  },
  {
   "metadata": {},
   "cell_type": "markdown",
   "source": "# Salt and Pepper",
   "id": "56281a5413253cf7"
  },
  {
   "metadata": {
    "ExecuteTime": {
     "end_time": "2024-09-23T09:04:00.522240Z",
     "start_time": "2024-09-23T09:04:00.502556Z"
    }
   },
   "cell_type": "code",
   "source": [
    "mnist = datasets.MNIST(root='./data', train=True, download=True, transform=transforms.Compose([\n",
    "                                transforms.Resize((16, 16)),  # Resize to 16x16\n",
    "                                transforms.ToTensor(),\n",
    "                             ]))"
   ],
   "id": "7ab5c57d451e7595",
   "execution_count": 24,
   "outputs": []
  },
  {
   "metadata": {
    "ExecuteTime": {
     "end_time": "2024-09-23T09:04:01.951651Z",
     "start_time": "2024-09-23T09:04:01.875781Z"
    }
   },
   "cell_type": "code",
   "source": [
    "sample_image, _ = mnist[0] \n",
    "noisy_image = add_salt_and_pepper_noise(sample_image, salt_prob=0.05, pepper_prob=0.05)\n",
    "\n",
    "fig, ax = plt.subplots(1, 2)\n",
    "ax[0].imshow(sample_image.squeeze(), cmap='gray')\n",
    "ax[0].set_title('Immagine originale')\n",
    "ax[1].imshow(noisy_image.squeeze(), cmap='gray')\n",
    "ax[1].set_title('Immagine con Salt & Pepper')\n",
    "plt.show()"
   ],
   "id": "a5ea7b5235c37ad9",
   "execution_count": 25,
   "outputs": []
  },
  {
   "metadata": {},
   "cell_type": "markdown",
   "source": "# Original Model performance\n",
   "id": "81a79a50166bfb9b"
  },
  {
   "metadata": {
    "ExecuteTime": {
     "end_time": "2024-09-23T18:12:46.862335Z",
     "start_time": "2024-09-23T18:12:44.596267Z"
    }
   },
   "cell_type": "code",
   "source": [
    "labels = [0,1,2,3]\n",
    "# Download MNIST and prepare transforms\n",
    "mnist = datasets.MNIST(root='./data', train=True, download=True, transform=transforms.Compose([\n",
    "                                transforms.Resize((16, 16)),  # Resize to 16x16\n",
    "                                transforms.ToTensor(),\n",
    "                                #transforms.Lambda(lambda img: add_salt_and_pepper_noise(img, salt_prob=0.1, pepper_prob=0.1)),\n",
    "                                transforms.Normalize((0.1307,), (0.3081,))  # Normalize\n",
    "                             ]))\n",
    "#train/vali/test 70/15/15 split, see data_utils.py for further details\n",
    "train_dataloader, validation_dataloader, test_dataloader = mnist_preparation(dataset=mnist, labels = labels, train_test_ratio=0.7,batch_size=64, vali_test_ratio=0.5)\n",
    "\n",
    "print(\"Images in the training set: \", len(train_dataloader.dataset), \"\\n Images in the validation set: \", len(validation_dataloader.dataset), \"\\n Images in the test set: \", len(test_dataloader.dataset))"
   ],
   "id": "cd52edfe50bbe0f0",
   "execution_count": 144,
   "outputs": []
  },
  {
   "metadata": {
    "ExecuteTime": {
     "end_time": "2024-09-23T18:12:46.865250Z",
     "start_time": "2024-09-23T18:12:46.863253Z"
    }
   },
   "cell_type": "code",
   "source": "mcm_model =  MCMQuantumModel(qubits=8, layers=8, early_exits=[3])",
   "id": "4447fe120fa2a72",
   "execution_count": 145,
   "outputs": []
  },
  {
   "metadata": {
    "ExecuteTime": {
     "end_time": "2024-09-23T18:12:47.128753Z",
     "start_time": "2024-09-23T18:12:47.126649Z"
    }
   },
   "cell_type": "code",
   "source": "#mcm_model.draw(style='sketch')",
   "id": "9399fe48be16d016",
   "execution_count": 146,
   "outputs": []
  },
  {
   "metadata": {
    "ExecuteTime": {
     "end_time": "2024-09-23T20:02:56.396476Z",
     "start_time": "2024-09-23T18:12:55.611695Z"
    }
   },
   "cell_type": "code",
   "source": "mcm_accuracy, fm_accuracy, loss_history = mcm_model.fit(dataloader=train_dataloader, learning_rate=0.001, epochs=50, show_plot=True)",
   "id": "9a4fa9e4938f41cc",
   "execution_count": 147,
   "outputs": []
  },
  {
   "metadata": {},
   "cell_type": "code",
   "execution_count": null,
   "source": "",
   "id": "fac2fd88b9744239",
   "outputs": []
  },
  {
   "metadata": {
    "ExecuteTime": {
     "end_time": "2024-09-23T21:10:17.048999Z",
     "start_time": "2024-09-23T21:10:17.046262Z"
    }
   },
   "cell_type": "code",
   "source": [
    "import pickle\n",
    "model_params = mcm_model.params\n",
    "with open(\"/Users/jackvittori/Desktop/analisi-rumore/no-rumore/pesi-history-50epochs-norumore.pickle\", \"wb\") as file:\n",
    "    pickle.dump(model_params, file)\n",
    "    pickle.dump(mcm_accuracy, file)\n",
    "    pickle.dump(fm_accuracy, file)\n",
    "    pickle.dump(loss_history,file)"
   ],
   "id": "fd856a7fabf9e31d",
   "execution_count": 150,
   "outputs": []
  },
  {
   "metadata": {
    "ExecuteTime": {
     "end_time": "2024-09-23T15:04:20.966560Z",
     "start_time": "2024-09-23T15:04:20.959802Z"
    }
   },
   "cell_type": "code",
   "source": [
    "def early_evaluation_utils(params: Dict, state: torch.Tensor = None): \n",
    "    first_pair = [0,1]\n",
    "    measurements = []\n",
    "    if state is not None:\n",
    "        # state vector initialization with input\n",
    "        qml.QubitStateVector(state, wires=range(8))\n",
    "    for i in range(4):\n",
    "        for j in range(8):\n",
    "            qml.RX(params[f'layer_{i}'][j, 0], wires=j)\n",
    "            qml.RY(params[f'layer_{i}'][j, 1], wires=j)\n",
    "            qml.RZ(params[f'layer_{i}'][j, 2], wires=j)\n",
    "        for j in range(8):\n",
    "            qml.CNOT(wires=[j, (j + 1) % 8])\n",
    "    \n",
    "    for w in first_pair: \n",
    "        measurements.append(qml.measure(wires=w)) #measure first pair of qubits\n",
    "    return measurements\n",
    "\n",
    "def fully_evaluation_utils(params: Dict, state: torch.Tensor = None):\n",
    "    first_pair = [0,1]\n",
    "    second_pair = [2,3]\n",
    "    mcasurements = []\n",
    "    if state is not None:\n",
    "        # state vector initialization with input\n",
    "        qml.QubitStateVector(state, wires=range(8))\n",
    "    for i in range(4):\n",
    "        for j in range(8):\n",
    "            qml.RX(params[f'layer_{i}'][j, 0], wires=j)\n",
    "            qml.RY(params[f'layer_{i}'][j, 1], wires=j)\n",
    "            qml.RZ(params[f'layer_{i}'][j, 2], wires=j)\n",
    "        for j in range(8):\n",
    "            qml.CNOT(wires=[j, (j + 1) % 8])\n",
    "            \n",
    "    for w in first_pair: \n",
    "        mcasurements.append(qml.measure(wires=w)) #measure first pair of qubits\n",
    "\n",
    "    for i in range(4, 8):\n",
    "        for j in range(8):\n",
    "            qml.RX(params[f'layer_{i}'][j, 0], wires=j)\n",
    "            qml.RY(params[f'layer_{i}'][j, 1], wires=j)\n",
    "            qml.RZ(params[f'layer_{i}'][j, 2], wires=j)\n",
    "        for j in range(8):\n",
    "            qml.CNOT(wires=[j, (j + 1) % 8])\n",
    "\n",
    "    for w in second_pair:\n",
    "        mcasurements.append(qml.measure(wires=w))\n",
    "\n",
    "    return mcasurements"
   ],
   "id": "44302ef67c7f228",
   "execution_count": 115,
   "outputs": []
  },
  {
   "metadata": {
    "ExecuteTime": {
     "end_time": "2024-09-23T15:04:30.025903Z",
     "start_time": "2024-09-23T15:04:30.022408Z"
    }
   },
   "cell_type": "code",
   "source": [
    "dev = qml.device(\"default.qubit\", wires=8)\n",
    "@qml.qnode(dev)  \n",
    "def early_evaluation_ansatz(params: Dict, state: torch.Tensor = None):\n",
    "    early_measurement = early_evaluation_utils(params=params, state=state)\n",
    "    return qml.probs(op=early_measurement)\n",
    "\n",
    "@qml.qnode(dev)\n",
    "def fully_evaluation_ansatz(params: Dict, state: torch.Tensor = None):\n",
    "    measurements = fully_evaluation_utils(params=params, state=state)\n",
    "    mid_measurement = measurements[:2]\n",
    "    final_measurement = measurements[2:]\n",
    "    return qml.probs(op=mid_measurement), qml.probs(op=final_measurement)"
   ],
   "id": "da780097d8e74985",
   "execution_count": 116,
   "outputs": []
  },
  {
   "metadata": {
    "ExecuteTime": {
     "end_time": "2024-09-23T15:05:28.289239Z",
     "start_time": "2024-09-23T15:05:27.675218Z"
    }
   },
   "cell_type": "code",
   "source": [
    "early_evaluate_model, ax1 = qml.draw_mpl(early_evaluation_ansatz)(model_params)\n",
    "\n",
    "early_evaluate_model.savefig('early_evaluate_model.png')"
   ],
   "id": "438057c10b4df382",
   "execution_count": 118,
   "outputs": []
  },
  {
   "metadata": {
    "ExecuteTime": {
     "end_time": "2024-09-23T15:06:53.129039Z",
     "start_time": "2024-09-23T15:06:52.125185Z"
    }
   },
   "cell_type": "code",
   "source": [
    "final_evaluate_model, ax2 = qml.draw_mpl(fully_evaluation_ansatz)(model_params)\n",
    "\n",
    "final_evaluate_model.savefig('final_evaluate_model.png')"
   ],
   "id": "cce8ef6e86d69b5b",
   "execution_count": 119,
   "outputs": []
  },
  {
   "metadata": {
    "ExecuteTime": {
     "end_time": "2024-09-23T16:16:13.844832Z",
     "start_time": "2024-09-23T16:16:13.841063Z"
    }
   },
   "cell_type": "code",
   "source": [
    "def evaluation_routine(dataloader: DataLoader, parameters: Dict, threshold: float):\n",
    "    \n",
    "    evaluation_results = []\n",
    "    early_results = []\n",
    "    count_1 = 0 #counter for early classified images\n",
    "    count_2 = 0 #counter for final classified images\n",
    "    early_correct = 0 #counter for correctly early classified images \n",
    "    final_correct = 0 #counter for correctly final classified images\n",
    "    executed_layers = 0\n",
    "    for img, target in dataloader.dataset:\n",
    "        #img normalization\n",
    "        img = img / torch.linalg.norm(img).view(-1, 1)\n",
    "        \n",
    "        #mid circuit evaluation\n",
    "        early_probs = early_evaluation_ansatz(params=parameters, state=img)\n",
    "        early_prediction = torch.argmax(early_probs, dim=1)\n",
    "        confidence = early_probs[0, early_prediction].item()\n",
    "        early_guess = early_prediction == target\n",
    "        early_results.append(early_guess.item())\n",
    "        \n",
    "        if confidence >= threshold:\n",
    "            evaluation_results.append(early_guess.item())\n",
    "            count_1 += 1\n",
    "            executed_layers += 4\n",
    "            if early_guess: \n",
    "                early_correct += 1\n",
    "            \n",
    "        else: \n",
    "            final_probs = fully_evaluation_ansatz(params=parameters, state=img)\n",
    "            early_full, final_full = final_probs\n",
    "            final_predictions = torch.argmax(final_full, dim=1)\n",
    "            final_guess = final_predictions == target\n",
    "            evaluation_results.append(final_guess.item())\n",
    "            count_2 += 1\n",
    "            executed_layers += 12\n",
    "            \n",
    "            if final_guess: \n",
    "                final_correct += 1\n",
    "    total_accuracy = sum([1 for i in evaluation_results if i == True])/len(evaluation_results)\n",
    "    early_total_accuracy = sum([1 for i in early_results if i == True])/len(early_results)\n",
    "    early_exited_accuracy = early_correct/count_1 if count_1 > 0 else 0\n",
    "    final_exited_accuracy = final_correct/count_2 if count_2 > 0 else 0\n",
    "    \n",
    "    return total_accuracy, early_total_accuracy, early_exited_accuracy, count_1, final_exited_accuracy, count_2, executed_layers"
   ],
   "id": "34451a9fbf85fd48",
   "execution_count": 137,
   "outputs": []
  },
  {
   "metadata": {
    "ExecuteTime": {
     "end_time": "2024-09-23T16:16:14.608533Z",
     "start_time": "2024-09-23T16:16:14.605666Z"
    }
   },
   "cell_type": "code",
   "source": [
    "def explain_evaluation(dataloader: DataLoader, parameters: Dict, threshold: List[float]):\n",
    "    summary_data = {\n",
    "    'Threshold': [],\n",
    "    'Total Accuracy': [],\n",
    "    '# early exited images': [],\n",
    "    'Early exited Accuracy': [],\n",
    "    'Early total accuracy': [],\n",
    "    '# final classified images': [],\n",
    "    'Final classified Accuracy': [],\n",
    "    \"Executed layers\": []}\n",
    "    \n",
    "    for t in tqdm(threshold):\n",
    "        total_accuracy, early_total_accuracy, early_exited_accuracy, count_1, final_exited_accuracy, count_2, executed_layers = evaluation_routine(dataloader, parameters, t)\n",
    "        summary_data['Threshold'].append(t)\n",
    "        summary_data['Total Accuracy'].append(total_accuracy)\n",
    "        summary_data['# early exited images'].append(count_1)\n",
    "        summary_data['Early exited Accuracy'].append(early_exited_accuracy)\n",
    "        summary_data['Early total accuracy'].append(early_total_accuracy)\n",
    "        summary_data['# final classified images'].append(count_2)\n",
    "        summary_data['Final classified Accuracy'].append(final_exited_accuracy)\n",
    "        summary_data['Executed layers'].append(executed_layers)\n",
    "        \n",
    "    df = pd.DataFrame(summary_data)\n",
    "    return summary_data, df"
   ],
   "id": "218344909f4849f",
   "execution_count": 138,
   "outputs": []
  },
  {
   "metadata": {
    "ExecuteTime": {
     "end_time": "2024-09-23T16:02:33.480338Z",
     "start_time": "2024-09-23T15:45:33.960611Z"
    }
   },
   "cell_type": "code",
   "source": [
    "threshold = [0.25,0.26, 0.27, 0.28, 0.3, 0.31, 0.32, 0.33, 0.34, 0.35, 0.36]\n",
    "explain_evaluation(test_dataloader, model_params, threshold)"
   ],
   "id": "60cb55d0708647c4",
   "execution_count": 132,
   "outputs": []
  },
  {
   "metadata": {},
   "cell_type": "code",
   "execution_count": null,
   "source": "",
   "id": "80aa7462925d0665",
   "outputs": []
  },
  {
   "metadata": {
    "ExecuteTime": {
     "end_time": "2024-09-23T15:45:28.939457Z",
     "start_time": "2024-09-23T15:45:27.910583Z"
    }
   },
   "cell_type": "code",
   "source": [
    "double_exit = MCMQuantumModel(qubits=8, layers=8, early_exits=[3,4,5])\n",
    "double_exit.draw(style=\"sketch\", path='triple_exit.png')"
   ],
   "id": "46192c98ee45dc43",
   "execution_count": 131,
   "outputs": []
  },
  {
   "metadata": {
    "ExecuteTime": {
     "end_time": "2024-09-23T16:15:05.170162Z",
     "start_time": "2024-09-23T16:15:02.947349Z"
    }
   },
   "cell_type": "code",
   "source": [
    "labels = [0,1,2,3]\n",
    "# Download MNIST and prepare transforms\n",
    "mnist = datasets.MNIST(root='./data', train=True, download=True, transform=transforms.Compose([\n",
    "                                transforms.Resize((16, 16)),  # Resize to 16x16\n",
    "                                transforms.ToTensor(),\n",
    "                                #transforms.Lambda(lambda img: add_salt_and_pepper_noise(img, salt_prob=0.13, pepper_prob=0.13)),\n",
    "                                transforms.Normalize((0.1307,), (0.3081,))  # Normalize\n",
    "                             ]))\n",
    "#train/vali/test 70/15/15 split, see data_utils.py for further details\n",
    "train_dataloader, validation_dataloader, test_dataloader = mnist_preparation(dataset=mnist, labels = labels, train_test_ratio=0.7,batch_size=64, vali_test_ratio=0.5)\n",
    "\n",
    "print(\"Images in the training set: \", len(train_dataloader.dataset), \"\\n Images in the validation set: \", len(validation_dataloader.dataset), \"\\n Images in the test set: \", len(test_dataloader.dataset))"
   ],
   "id": "f469abf138523a66",
   "execution_count": 133,
   "outputs": []
  },
  {
   "metadata": {
    "ExecuteTime": {
     "end_time": "2024-09-23T16:15:22.598671Z",
     "start_time": "2024-09-23T16:15:22.590821Z"
    }
   },
   "cell_type": "code",
   "source": [
    "model = MCMQuantumModel(qubits=8, layers=8, early_exits=[3])\n",
    "\n",
    "with open(\"/Users/jackvittori/Desktop/pesimcm4.pickle\", \"rb\") as file:\n",
    "    params = pickle.load(file) \n",
    "\n",
    "model.set_parameters(params)"
   ],
   "id": "95c6c4a9a9d30d95",
   "execution_count": 134,
   "outputs": []
  },
  {
   "metadata": {
    "ExecuteTime": {
     "end_time": "2024-09-23T16:15:40.469793Z",
     "start_time": "2024-09-23T16:15:40.467073Z"
    }
   },
   "cell_type": "code",
   "source": "model.params['layer_0']",
   "id": "105986805f2a0dd4",
   "execution_count": 135,
   "outputs": []
  },
  {
   "metadata": {
    "ExecuteTime": {
     "end_time": "2024-09-23T16:15:54.001505Z",
     "start_time": "2024-09-23T16:15:53.998933Z"
    }
   },
   "cell_type": "code",
   "source": "params['layer_0']",
   "id": "f26d6962608fe8d9",
   "execution_count": 136,
   "outputs": []
  },
  {
   "metadata": {
    "ExecuteTime": {
     "end_time": "2024-09-23T16:25:45.627799Z",
     "start_time": "2024-09-23T16:17:11.243344Z"
    }
   },
   "cell_type": "code",
   "source": [
    "threshold = [0.25, 0.3, 0.35, 0.36, 0.37, 0.4]\n",
    "explain_evaluation(test_dataloader, params, threshold)"
   ],
   "id": "f505cf41d345fc93",
   "execution_count": 140,
   "outputs": []
  },
  {
   "metadata": {
    "ExecuteTime": {
     "end_time": "2024-09-25T07:22:45.699688Z",
     "start_time": "2024-09-25T07:22:44.253193Z"
    }
   },
   "cell_type": "code",
   "source": [
    "import pickle\n",
    "\n",
    "with open(\"/Users/jackvittori/Desktop/analisi-rumore/no-rumore/pesi-history-50epochs-norumore.pickle\", \"rb\") as file:\n",
    "    model_params = pickle.load(file)\n",
    "    mcm_accuracy = pickle.load(file)\n",
    "    fm_accuracy = pickle.load(file)\n",
    "    loss_history = pickle.load(file)\n",
    "    "
   ],
   "id": "9a06c7befdfaa29c",
   "execution_count": 1,
   "outputs": []
  },
  {
   "metadata": {
    "ExecuteTime": {
     "end_time": "2024-09-25T07:23:05.005883Z",
     "start_time": "2024-09-25T07:23:05.002743Z"
    }
   },
   "cell_type": "code",
   "source": "model_params",
   "id": "f4c9c200d784857a",
   "execution_count": 2,
   "outputs": []
  },
  {
   "metadata": {
    "ExecuteTime": {
     "end_time": "2024-09-25T07:23:28.727046Z",
     "start_time": "2024-09-25T07:23:28.724865Z"
    }
   },
   "cell_type": "code",
   "source": "mcm_accuracy",
   "id": "460f84b29f3ef9dc",
   "execution_count": 5,
   "outputs": []
  },
  {
   "metadata": {},
   "cell_type": "code",
   "execution_count": null,
   "source": "",
   "id": "2917aee8deace314",
   "outputs": []
  }
 ],
 "metadata": {
  "kernelspec": {
   "display_name": "Python 3",
   "language": "python",
   "name": "python3"
  },
  "language_info": {
   "codemirror_mode": {
    "name": "ipython",
    "version": 2
   },
   "file_extension": ".py",
   "mimetype": "text/x-python",
   "name": "python",
   "nbconvert_exporter": "python",
   "pygments_lexer": "ipython2",
   "version": "2.7.6"
  }
 },
 "nbformat": 4,
 "nbformat_minor": 5
}
