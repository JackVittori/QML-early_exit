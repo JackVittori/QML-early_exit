{
 "cells": [
  {
   "cell_type": "code",
   "id": "initial_id",
   "metadata": {
    "collapsed": true,
    "ExecuteTime": {
     "end_time": "2024-09-26T13:55:46.148421Z",
     "start_time": "2024-09-26T13:55:46.142502Z"
    }
   },
   "source": [
    "import torch\n",
    "import pandas as pd\n",
    "import pennylane as qml\n",
    "from pennylane import numpy as np\n",
    "import torchvision.datasets as datasets\n",
    "import torchvision.transforms as transforms\n",
    "from data_utils import mnist_preparation, add_salt_and_pepper_noise \n",
    "from evaluationUtils import calculate_mcm_accuracy\n",
    "from tqdm import tqdm\n",
    "import matplotlib as plt\n",
    "from mcmadaptablemodel import MCMQuantumModel, MCMCircuit\n",
    "from pennylane import Device\n",
    "from pennylane.measurements import StateMP\n",
    "from torch.nn import Module, ParameterDict\n",
    "import matplotlib.pyplot as plt\n",
    "from OriginalModel import FullQuantumModel, QuantumCircuit\n",
    "import warnings\n",
    "from typing import Optional, Dict, List, Any\n",
    "from torch.utils.data import DataLoader, dataloader\n",
    "from time import time\n",
    "import math\n",
    "from pennylane.measurements import MidMeasureMP\n",
    "torch.manual_seed(1234)"
   ],
   "execution_count": 23,
   "outputs": []
  },
  {
   "metadata": {
    "ExecuteTime": {
     "end_time": "2024-09-26T13:55:46.830665Z",
     "start_time": "2024-09-26T13:55:46.821626Z"
    }
   },
   "cell_type": "code",
   "source": [
    "def early_evaluation_utils(params: Dict, state: torch.Tensor = None): \n",
    "    first_pair = [0,1]\n",
    "    measurements = []\n",
    "    if state is not None:\n",
    "        # state vector initialization with input\n",
    "        qml.QubitStateVector(state, wires=range(8))\n",
    "    for i in range(4):\n",
    "        for j in range(8):\n",
    "            qml.RX(params[f'layer_{i}'][j, 0], wires=j)\n",
    "            qml.RY(params[f'layer_{i}'][j, 1], wires=j)\n",
    "            qml.RZ(params[f'layer_{i}'][j, 2], wires=j)\n",
    "        for j in range(8):\n",
    "            qml.CNOT(wires=[j, (j + 1) % 8])\n",
    "    \n",
    "    for w in first_pair: \n",
    "        measurements.append(qml.measure(wires=w)) #measure first pair of qubits\n",
    "    return measurements\n",
    "\n",
    "def fully_evaluation_utils(params: Dict, state: torch.Tensor = None):\n",
    "    first_pair = [0,1]\n",
    "    second_pair = [2,3]\n",
    "    mcasurements = []\n",
    "    if state is not None:\n",
    "        # state vector initialization with input\n",
    "        qml.QubitStateVector(state, wires=range(8))\n",
    "    for i in range(4):\n",
    "        for j in range(8):\n",
    "            qml.RX(params[f'layer_{i}'][j, 0], wires=j)\n",
    "            qml.RY(params[f'layer_{i}'][j, 1], wires=j)\n",
    "            qml.RZ(params[f'layer_{i}'][j, 2], wires=j)\n",
    "        for j in range(8):\n",
    "            qml.CNOT(wires=[j, (j + 1) % 8])\n",
    "            \n",
    "    for w in first_pair: \n",
    "        mcasurements.append(qml.measure(wires=w)) #measure first pair of qubits\n",
    "\n",
    "    for i in range(4, 8):\n",
    "        for j in range(8):\n",
    "            qml.RX(params[f'layer_{i}'][j, 0], wires=j)\n",
    "            qml.RY(params[f'layer_{i}'][j, 1], wires=j)\n",
    "            qml.RZ(params[f'layer_{i}'][j, 2], wires=j)\n",
    "        for j in range(8):\n",
    "            qml.CNOT(wires=[j, (j + 1) % 8])\n",
    "\n",
    "    for w in second_pair:\n",
    "        mcasurements.append(qml.measure(wires=w))\n",
    "\n",
    "    return mcasurements\n",
    "\n",
    "dev = qml.device(\"default.qubit\", wires=8)\n",
    "@qml.qnode(dev)  \n",
    "def early_evaluation_ansatz(params: Dict, state: torch.Tensor = None):\n",
    "    early_measurement = early_evaluation_utils(params=params, state=state)\n",
    "    return qml.probs(op=early_measurement)\n",
    "\n",
    "@qml.qnode(dev)\n",
    "def fully_evaluation_ansatz(params: Dict, state: torch.Tensor = None):\n",
    "    measurements = fully_evaluation_utils(params=params, state=state)\n",
    "    mid_measurement = measurements[:2]\n",
    "    final_measurement = measurements[2:]\n",
    "    return qml.probs(op=mid_measurement), qml.probs(op=final_measurement)"
   ],
   "id": "1d7b390883ccbf9",
   "execution_count": 24,
   "outputs": []
  },
  {
   "metadata": {
    "ExecuteTime": {
     "end_time": "2024-09-26T13:55:58.098061Z",
     "start_time": "2024-09-26T13:55:55.253615Z"
    }
   },
   "cell_type": "code",
   "source": [
    "labels = [0,1,2,3]\n",
    "# Download MNIST and prepare transforms\n",
    "mnist = datasets.MNIST(root='./data', train=True, download=True, transform=transforms.Compose([\n",
    "                                transforms.Resize((16, 16)),  # Resize to 16x16\n",
    "                                transforms.ToTensor(),\n",
    "                                transforms.Lambda(lambda img: add_salt_and_pepper_noise(img, salt_prob=0.2, pepper_prob=0.2)),\n",
    "                                transforms.Normalize((0.1307,), (0.3081,))  # Normalize\n",
    "                             ]))\n",
    "#train/vali/test 70/15/15 split, see data_utils.py for further details\n",
    "train_dataloader, validation_dataloader, test_dataloader = mnist_preparation(dataset=mnist, labels = labels, train_test_ratio=0.7,batch_size=64, vali_test_ratio=0.5)\n",
    "\n",
    "print(\"Images in the training set: \", len(train_dataloader.dataset), \"\\n Images in the validation set: \", len(validation_dataloader.dataset), \"\\n Images in the test set: \", len(test_dataloader.dataset))"
   ],
   "id": "89e9d9a1c2336eb7",
   "execution_count": 25,
   "outputs": []
  },
  {
   "metadata": {
    "ExecuteTime": {
     "end_time": "2024-09-26T13:56:17.051794Z",
     "start_time": "2024-09-26T13:56:17.044901Z"
    }
   },
   "cell_type": "code",
   "source": [
    "import pickle\n",
    "om_model = FullQuantumModel(qubits=8, layers=8, num_classes=4)\n",
    "with open('/Users/jackvittori/Desktop/modello-originale-training/weights02.pickle', 'rb') as file:\n",
    "    parameters = pickle.load(file)\n",
    "om_model.set_parameters(parameters)\n",
    "\n",
    "mcm_model = MCMQuantumModel(qubits=8, layers=8, early_exits=[3])\n",
    "\n",
    "import pickle\n",
    "with open(\"/Users/jackvittori/Desktop/highnoise/traininghistory.pickle\", \"rb\") as file: \n",
    "    training_history = pickle.load(file)\n",
    "    \n",
    "mcm_parameters = training_history['model_params']\n",
    "\n",
    "mcm_model.set_parameters(mcm_parameters)"
   ],
   "id": "c52d3f2f9ac8b0f7",
   "execution_count": 26,
   "outputs": []
  },
  {
   "metadata": {
    "ExecuteTime": {
     "end_time": "2024-09-26T13:59:06.736437Z",
     "start_time": "2024-09-26T13:56:18.833779Z"
    }
   },
   "cell_type": "code",
   "source": [
    "early_probs_distribution = []\n",
    "final_probs_distribution = []\n",
    "for img, target in tqdm(validation_dataloader.dataset): \n",
    "    img = img / torch.linalg.norm(img).view(-1, 1)\n",
    "    evaluation = fully_evaluation_ansatz(params=mcm_parameters, state=img)\n",
    "    early_full, final_full = evaluation\n",
    "    \n",
    "    early_prediction = torch.argmax(early_full, dim=1)\n",
    "    early_probs = early_full[0, early_prediction].item()\n",
    "    \n",
    "    final_prediction = torch.argmax(final_full, dim=1)\n",
    "    final_probs = final_full[0, final_prediction].item()\n",
    "    \n",
    "    early_probs_distribution.append(early_probs)\n",
    "    final_probs_distribution.append(final_probs)    \n",
    "    \n",
    "probs_distribution = []\n",
    "for img, target in tqdm(validation_dataloader.dataset): \n",
    "    img = img / torch.linalg.norm(img).view(-1, 1)\n",
    "    probs = om_model.forward(state=img) #extract probabilities\n",
    "    prediction = torch.argmax(probs, dim=1)\n",
    "    prediction_probs = probs[0, prediction].item()\n",
    "    probs_distribution.append(prediction_probs) "
   ],
   "id": "a7d8cc0169bfa907",
   "execution_count": 27,
   "outputs": []
  },
  {
   "metadata": {
    "ExecuteTime": {
     "end_time": "2024-09-26T14:01:39.527664Z",
     "start_time": "2024-09-26T14:01:39.182872Z"
    }
   },
   "cell_type": "code",
   "source": [
    "import numpy as np\n",
    "import matplotlib.pyplot as plt\n",
    "\n",
    "plt.style.use('ggplot')\n",
    "fig, ax = plt.subplots(figsize=(10, 5))\n",
    "\n",
    "# Creazione dell'istogramma per il primo array\n",
    "ax.hist(early_probs_distribution, bins=60, density=False, alpha=0.4, color='yellow', edgecolor='black', label='Mid circuit probability distribution')\n",
    "\n",
    "# Creazione dell'istogramma per il secondo array\n",
    "ax.hist(final_probs_distribution, bins=60, density=False, alpha=0.4, color='red', edgecolor='black', label='Final circuit probability distribution')\n",
    "\n",
    "# Creazione dell'istogramma per il terzo array con maggiore trasparenza\n",
    "ax.hist(probs_distribution, bins=60, density=False, alpha=0.2, color='green', edgecolor='black', label='Original model probability distribution')\n",
    "\n",
    "# Titolo e etichette degli assi\n",
    "ax.set_title('Prediction confidence distribution noise 0.2', fontsize=16)\n",
    "ax.set_xlabel('Prediction confidence', fontsize=14)\n",
    "ax.set_ylabel('Occurrencies', fontsize=14)\n",
    "\n",
    "# Imposta i tick dell'asse X con intervalli di 0.05 da 0.25 a 0.6\n",
    "ax.set_xticks(np.arange(0.25, 0.65, 0.05))\n",
    "\n",
    "# Aggiunta della legenda per distinguere le distribuzioni\n",
    "ax.legend()\n",
    "\n",
    "ax.set_xticks(np.arange(0.25, 0.6, 0.05))\n",
    "ax.set_ylim(0, 230)\n",
    "\n",
    "# Griglia e layout\n",
    "ax.grid(True)\n",
    "plt.tight_layout()\n",
    "\n",
    "# Salvataggio del grafico\n",
    "plt.savefig('/Users/jackvittori/Desktop/highnoise/noise02probs.png', dpi=300)\n",
    "plt.show()"
   ],
   "id": "17af5f6257ef0fb2",
   "execution_count": 28,
   "outputs": []
  },
  {
   "metadata": {},
   "cell_type": "code",
   "execution_count": null,
   "source": "",
   "id": "3afbf34386ce6524",
   "outputs": []
  }
 ],
 "metadata": {
  "kernelspec": {
   "display_name": "Python 3",
   "language": "python",
   "name": "python3"
  },
  "language_info": {
   "codemirror_mode": {
    "name": "ipython",
    "version": 2
   },
   "file_extension": ".py",
   "mimetype": "text/x-python",
   "name": "python",
   "nbconvert_exporter": "python",
   "pygments_lexer": "ipython2",
   "version": "2.7.6"
  }
 },
 "nbformat": 4,
 "nbformat_minor": 5
}
