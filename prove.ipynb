{
 "cells": [
  {
   "cell_type": "code",
   "metadata": {
    "collapsed": true,
    "ExecuteTime": {
     "end_time": "2024-05-03T13:07:41.654106Z",
     "start_time": "2024-05-03T13:07:40.277605Z"
    }
   },
   "source": [
    "import torch\n",
    "import pennylane as qml\n",
    "from time import time\n",
    "from tqdm import tqdm\n",
    "import numpy as np\n",
    "import matplotlib as plt\n",
    "from circuit_model import QuantumCircuit, FullQuantumModel"
   ],
   "outputs": [],
   "execution_count": 1
  },
  {
   "cell_type": "code",
   "source": [
    "num_qubits = 8\n",
    "num_layers = 5\n",
    "model = FullQuantumModel(num_qubits, num_layers)"
   ],
   "metadata": {
    "collapsed": false,
    "ExecuteTime": {
     "end_time": "2024-05-03T13:07:41.657217Z",
     "start_time": "2024-05-03T13:07:41.654986Z"
    }
   },
   "outputs": [],
   "execution_count": 2
  },
  {
   "metadata": {
    "ExecuteTime": {
     "end_time": "2024-05-03T13:08:19.348953Z",
     "start_time": "2024-05-03T13:08:19.130723Z"
    }
   },
   "cell_type": "code",
   "source": "model.draw(style='nero')",
   "outputs": [
    {
     "ename": "ValueError",
     "evalue": "Invalid style 'nero'. Valid styles are: pennylane, sketch_dark, solarized_light, sketch, solarized_dark, pennylane_sketch, default, black_white_dark, black_white",
     "output_type": "error",
     "traceback": [
      "\u001B[0;31m---------------------------------------------------------------------------\u001B[0m",
      "\u001B[0;31mValueError\u001B[0m                                Traceback (most recent call last)",
      "Cell \u001B[0;32mIn[4], line 1\u001B[0m\n\u001B[0;32m----> 1\u001B[0m model\u001B[38;5;241m.\u001B[39mdraw(style\u001B[38;5;241m=\u001B[39m\u001B[38;5;124m'\u001B[39m\u001B[38;5;124mnero\u001B[39m\u001B[38;5;124m'\u001B[39m)\n",
      "File \u001B[0;32m~/Desktop/Documenti-giacomo/QML-early_exit/circuit_model.py:50\u001B[0m, in \u001B[0;36mFullQuantumModel.draw\u001B[0;34m(self, style)\u001B[0m\n\u001B[1;32m     48\u001B[0m \u001B[38;5;66;03m# Check if the provided style is valid\u001B[39;00m\n\u001B[1;32m     49\u001B[0m \u001B[38;5;28;01mif\u001B[39;00m style \u001B[38;5;129;01mnot\u001B[39;00m \u001B[38;5;129;01min\u001B[39;00m valid_styles:\n\u001B[0;32m---> 50\u001B[0m     \u001B[38;5;28;01mraise\u001B[39;00m \u001B[38;5;167;01mValueError\u001B[39;00m(\u001B[38;5;124mf\u001B[39m\u001B[38;5;124m\"\u001B[39m\u001B[38;5;124mInvalid style \u001B[39m\u001B[38;5;124m'\u001B[39m\u001B[38;5;132;01m{\u001B[39;00mstyle\u001B[38;5;132;01m}\u001B[39;00m\u001B[38;5;124m'\u001B[39m\u001B[38;5;124m. Valid styles are: \u001B[39m\u001B[38;5;132;01m{\u001B[39;00m\u001B[38;5;124m'\u001B[39m\u001B[38;5;124m, \u001B[39m\u001B[38;5;124m'\u001B[39m\u001B[38;5;241m.\u001B[39mjoin(valid_styles)\u001B[38;5;132;01m}\u001B[39;00m\u001B[38;5;124m\"\u001B[39m)\n\u001B[1;32m     51\u001B[0m qml\u001B[38;5;241m.\u001B[39mdrawer\u001B[38;5;241m.\u001B[39muse_style(style)\n\u001B[1;32m     52\u001B[0m fig, ax \u001B[38;5;241m=\u001B[39m qml\u001B[38;5;241m.\u001B[39mdraw_mpl(\u001B[38;5;28mself\u001B[39m\u001B[38;5;241m.\u001B[39mquantum_layer\u001B[38;5;241m.\u001B[39mqfunc)(\u001B[38;5;28mself\u001B[39m\u001B[38;5;241m.\u001B[39mquantum_layer\u001B[38;5;241m.\u001B[39mparams)\n",
      "\u001B[0;31mValueError\u001B[0m: Invalid style 'nero'. Valid styles are: pennylane, sketch_dark, solarized_light, sketch, solarized_dark, pennylane_sketch, default, black_white_dark, black_white"
     ]
    }
   ],
   "execution_count": 4
  },
  {
   "metadata": {},
   "cell_type": "code",
   "outputs": [],
   "execution_count": null,
   "source": [
    "# Instantiate model\n",
    "model = FullQuantumModel()\n",
    "\n",
    "# Example of disabling gradients for specific layers\n",
    "for i in range(NUM_LAYERS):\n",
    "    if i % 2 == 0:  # Disable gradient for even layers\n",
    "        model.quantum_layer.params.data[i].requires_grad_(False)\n",
    "\n",
    "# Example usage\n",
    "initial_state = torch.rand(2 ** NUM_QUBITS)  # Random initial state\n",
    "initial_state /= torch.norm(initial_state)  # Normalize\n",
    "\n",
    "output_probabilities = model(initial_state)\n",
    "print(output_probabilities)"
   ]
  }
 ],
 "metadata": {
  "kernelspec": {
   "display_name": "Python 3",
   "language": "python",
   "name": "python3"
  },
  "language_info": {
   "codemirror_mode": {
    "name": "ipython",
    "version": 2
   },
   "file_extension": ".py",
   "mimetype": "text/x-python",
   "name": "python",
   "nbconvert_exporter": "python",
   "pygments_lexer": "ipython2",
   "version": "2.7.6"
  }
 },
 "nbformat": 4,
 "nbformat_minor": 0
}
